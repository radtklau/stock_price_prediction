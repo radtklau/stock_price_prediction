{
 "cells": [
  {
   "cell_type": "markdown",
   "metadata": {},
   "source": [
    "# Project: Stock Price Prediction"
   ]
  },
  {
   "cell_type": "code",
   "execution_count": 378,
   "metadata": {},
   "outputs": [],
   "source": [
    "#import necessary libraries\n",
    "\n",
    "import pandas as pd\n",
    "import numpy as np\n",
    "import matplotlib.pyplot as plt\n",
    "from matplotlib.ticker import MaxNLocator\n",
    "from sklearn.linear_model import LinearRegression\n",
    "from tqdm import tqdm\n",
    "from sklearn.model_selection import train_test_split\n",
    "from keras.models import Sequential\n",
    "from keras.layers import Dense\n",
    "from sklearn.preprocessing import MinMaxScaler\n",
    "from sklearn.metrics import mean_squared_error, mean_absolute_error"
   ]
  },
  {
   "cell_type": "markdown",
   "metadata": {},
   "source": [
    "### Overall Goal\n",
    "\n",
    "Predict stock price (closing) on day X+1 as precisely as possible."
   ]
  },
  {
   "cell_type": "markdown",
   "metadata": {},
   "source": [
    "### Data Import And Cleaning"
   ]
  },
  {
   "cell_type": "code",
   "execution_count": 365,
   "metadata": {},
   "outputs": [
    {
     "data": {
      "text/html": [
       "<div>\n",
       "<style scoped>\n",
       "    .dataframe tbody tr th:only-of-type {\n",
       "        vertical-align: middle;\n",
       "    }\n",
       "\n",
       "    .dataframe tbody tr th {\n",
       "        vertical-align: top;\n",
       "    }\n",
       "\n",
       "    .dataframe thead th {\n",
       "        text-align: right;\n",
       "    }\n",
       "</style>\n",
       "<table border=\"1\" class=\"dataframe\">\n",
       "  <thead>\n",
       "    <tr style=\"text-align: right;\">\n",
       "      <th></th>\n",
       "      <th>Date</th>\n",
       "      <th>Close/Last</th>\n",
       "      <th>Open</th>\n",
       "      <th>High</th>\n",
       "      <th>Low</th>\n",
       "    </tr>\n",
       "  </thead>\n",
       "  <tbody>\n",
       "    <tr>\n",
       "      <th>0</th>\n",
       "      <td>02/24/2014</td>\n",
       "      <td>1847.61</td>\n",
       "      <td>1836.78</td>\n",
       "      <td>1858.71</td>\n",
       "      <td>1836.78</td>\n",
       "    </tr>\n",
       "    <tr>\n",
       "      <th>1</th>\n",
       "      <td>02/25/2014</td>\n",
       "      <td>1845.12</td>\n",
       "      <td>1847.66</td>\n",
       "      <td>1852.91</td>\n",
       "      <td>1840.19</td>\n",
       "    </tr>\n",
       "    <tr>\n",
       "      <th>2</th>\n",
       "      <td>02/26/2014</td>\n",
       "      <td>1845.16</td>\n",
       "      <td>1845.79</td>\n",
       "      <td>1852.65</td>\n",
       "      <td>1840.66</td>\n",
       "    </tr>\n",
       "    <tr>\n",
       "      <th>3</th>\n",
       "      <td>02/27/2014</td>\n",
       "      <td>1854.29</td>\n",
       "      <td>1844.90</td>\n",
       "      <td>1854.53</td>\n",
       "      <td>1841.13</td>\n",
       "    </tr>\n",
       "    <tr>\n",
       "      <th>4</th>\n",
       "      <td>02/28/2014</td>\n",
       "      <td>1859.45</td>\n",
       "      <td>1855.12</td>\n",
       "      <td>1867.92</td>\n",
       "      <td>1847.67</td>\n",
       "    </tr>\n",
       "  </tbody>\n",
       "</table>\n",
       "</div>"
      ],
      "text/plain": [
       "         Date  Close/Last     Open     High      Low\n",
       "0  02/24/2014     1847.61  1836.78  1858.71  1836.78\n",
       "1  02/25/2014     1845.12  1847.66  1852.91  1840.19\n",
       "2  02/26/2014     1845.16  1845.79  1852.65  1840.66\n",
       "3  02/27/2014     1854.29  1844.90  1854.53  1841.13\n",
       "4  02/28/2014     1859.45  1855.12  1867.92  1847.67"
      ]
     },
     "execution_count": 365,
     "metadata": {},
     "output_type": "execute_result"
    }
   ],
   "source": [
    "#get data\n",
    "\n",
    "path_to_df = \"..\\Data\\SPX.csv\"\n",
    "df = pd.read_csv(path_to_df)\n",
    "\n",
    "df = df[::-1].reset_index(drop=True) #reverse order\n",
    "\n",
    "df.head()"
   ]
  },
  {
   "cell_type": "code",
   "execution_count": 647,
   "metadata": {},
   "outputs": [
    {
     "data": {
      "text/html": [
       "<div>\n",
       "<style scoped>\n",
       "    .dataframe tbody tr th:only-of-type {\n",
       "        vertical-align: middle;\n",
       "    }\n",
       "\n",
       "    .dataframe tbody tr th {\n",
       "        vertical-align: top;\n",
       "    }\n",
       "\n",
       "    .dataframe thead th {\n",
       "        text-align: right;\n",
       "    }\n",
       "</style>\n",
       "<table border=\"1\" class=\"dataframe\">\n",
       "  <thead>\n",
       "    <tr style=\"text-align: right;\">\n",
       "      <th></th>\n",
       "      <th>Date</th>\n",
       "      <th>Open</th>\n",
       "      <th>High</th>\n",
       "      <th>Low</th>\n",
       "      <th>Close</th>\n",
       "      <th>Adj Close</th>\n",
       "      <th>Volume</th>\n",
       "    </tr>\n",
       "  </thead>\n",
       "  <tbody>\n",
       "    <tr>\n",
       "      <th>0</th>\n",
       "      <td>2010-01-04</td>\n",
       "      <td>7.622500</td>\n",
       "      <td>7.660714</td>\n",
       "      <td>7.585000</td>\n",
       "      <td>7.643214</td>\n",
       "      <td>6.470742</td>\n",
       "      <td>493729600</td>\n",
       "    </tr>\n",
       "    <tr>\n",
       "      <th>1</th>\n",
       "      <td>2010-01-05</td>\n",
       "      <td>7.664286</td>\n",
       "      <td>7.699643</td>\n",
       "      <td>7.616071</td>\n",
       "      <td>7.656429</td>\n",
       "      <td>6.481930</td>\n",
       "      <td>601904800</td>\n",
       "    </tr>\n",
       "    <tr>\n",
       "      <th>2</th>\n",
       "      <td>2010-01-06</td>\n",
       "      <td>7.656429</td>\n",
       "      <td>7.686786</td>\n",
       "      <td>7.526786</td>\n",
       "      <td>7.534643</td>\n",
       "      <td>6.378824</td>\n",
       "      <td>552160000</td>\n",
       "    </tr>\n",
       "    <tr>\n",
       "      <th>3</th>\n",
       "      <td>2010-01-07</td>\n",
       "      <td>7.562500</td>\n",
       "      <td>7.571429</td>\n",
       "      <td>7.466071</td>\n",
       "      <td>7.520714</td>\n",
       "      <td>6.367033</td>\n",
       "      <td>477131200</td>\n",
       "    </tr>\n",
       "    <tr>\n",
       "      <th>4</th>\n",
       "      <td>2010-01-08</td>\n",
       "      <td>7.510714</td>\n",
       "      <td>7.571429</td>\n",
       "      <td>7.466429</td>\n",
       "      <td>7.570714</td>\n",
       "      <td>6.409361</td>\n",
       "      <td>447610800</td>\n",
       "    </tr>\n",
       "  </tbody>\n",
       "</table>\n",
       "</div>"
      ],
      "text/plain": [
       "         Date      Open      High       Low     Close  Adj Close     Volume\n",
       "0  2010-01-04  7.622500  7.660714  7.585000  7.643214   6.470742  493729600\n",
       "1  2010-01-05  7.664286  7.699643  7.616071  7.656429   6.481930  601904800\n",
       "2  2010-01-06  7.656429  7.686786  7.526786  7.534643   6.378824  552160000\n",
       "3  2010-01-07  7.562500  7.571429  7.466071  7.520714   6.367033  477131200\n",
       "4  2010-01-08  7.510714  7.571429  7.466429  7.570714   6.409361  447610800"
      ]
     },
     "execution_count": 647,
     "metadata": {},
     "output_type": "execute_result"
    }
   ],
   "source": [
    "path_to_apple_data = \"..\\Data\\AAPL.csv\"\n",
    "apple = pd.read_csv(path_to_apple_data)\n",
    "\n",
    "apple.head()"
   ]
  },
  {
   "cell_type": "code",
   "execution_count": 366,
   "metadata": {},
   "outputs": [],
   "source": [
    "def plot_chart(df, col, is_df=True): # Plotting the col against dates\n",
    "    # Create a larger plot\n",
    "    fig, ax = plt.subplots(figsize=(12, 6))\n",
    "    num_args = len(col)\n",
    "\n",
    "    for ind in range(num_args):\n",
    "        if is_df:\n",
    "            ax.plot(df['Date'], df[col[ind]])\n",
    "        else:\n",
    "            ax.plot(df['Date'], col[ind])\n",
    "\n",
    "    ax.set_title('Plot of price over time')\n",
    "    ax.set_xlabel('Date')\n",
    "    ax.set_ylabel('Price')\n",
    "\n",
    "    # Automatically set the x-axis date labels based on available space\n",
    "    ax.xaxis.set_major_locator(MaxNLocator(nbins=10))\n",
    "\n",
    "    plt.xticks(rotation=45)  # Rotate x-axis labels for better readability\n",
    "    plt.tight_layout()  # Adjust layout for better appearance\n",
    "    plt.show() "
   ]
  },
  {
   "cell_type": "code",
   "execution_count": 367,
   "metadata": {},
   "outputs": [
    {
     "data": {
      "image/png": "[encoded data removed]",
      "text/plain": [
       "<Figure size 864x432 with 1 Axes>"
      ]
     },
     "metadata": {
      "needs_background": "light"
     },
     "output_type": "display_data"
    }
   ],
   "source": [
    "# plotting data\n",
    "\n",
    "plot_chart(df, [\"Close/Last\"])"
   ]
  },
  {
   "cell_type": "code",
   "execution_count": 473,
   "metadata": {},
   "outputs": [],
   "source": [
    "def normalize(input, scaler):\n",
    "    output_norm = scaler.fit_transform(input.reshape(-1, 1))\n",
    "    output_norm = output_norm.flatten()\n",
    "    return output_norm"
   ]
  },
  {
   "cell_type": "code",
   "execution_count": 474,
   "metadata": {},
   "outputs": [],
   "source": [
    "def denormalize(input_norm, scaler):\n",
    "    output = scaler.inverse_transform(input_norm.reshape(-1, 1))\n",
    "    output = output.flatten()\n",
    "    return output"
   ]
  },
  {
   "cell_type": "code",
   "execution_count": 650,
   "metadata": {},
   "outputs": [],
   "source": [
    "# normalizing\n",
    "\n",
    "closing_prices = df[\"Close/Last\"].values\n",
    "apple_closing_prices = apple[\"Close\"].values\n",
    "\n",
    "minmax_scaler = MinMaxScaler(feature_range=(0,1))\n",
    "closing_prices_norm = normalize(apple_closing_prices, minmax_scaler)"
   ]
  },
  {
   "cell_type": "code",
   "execution_count": 466,
   "metadata": {},
   "outputs": [],
   "source": [
    "def prep_data(feature_vec_len, data):\n",
    "    features = []\n",
    "    labels = []\n",
    "    data_len = len(data)\n",
    "\n",
    "    for ind in range(data_len):\n",
    "        feature_vec = []\n",
    "        if ind < data_len - feature_vec_len:\n",
    "            for ind2 in range(feature_vec_len):\n",
    "                feature = data[ind + ind2]\n",
    "                feature_vec.append(feature)\n",
    "\n",
    "            label = data[ind + ind2 + 1]\n",
    "            labels.append(label)\n",
    "            features.append(feature_vec)\n",
    "\n",
    "    features = np.array(features)\n",
    "    labels = np.array(labels)\n",
    "\n",
    "    return features, labels"
   ]
  },
  {
   "cell_type": "code",
   "execution_count": 651,
   "metadata": {},
   "outputs": [],
   "source": [
    "# generating feature and label vectors\n",
    "\n",
    "feature_vec_len = 6\n",
    "features_norm, labels_norm = prep_data(feature_vec_len, closing_prices_norm)"
   ]
  },
  {
   "cell_type": "code",
   "execution_count": 468,
   "metadata": {},
   "outputs": [],
   "source": [
    "# splitting into sets\n",
    "\n",
    "X_train_norm, X_temp, y_train_norm, y_temp = train_test_split(features_norm, labels_norm, test_size=0.3, random_state=42, shuffle=False)\n",
    "X_test_norm, X_val_norm, y_test_norm, y_val_norm = train_test_split(X_temp, y_temp, test_size=0.5, random_state=42, shuffle=False)"
   ]
  },
  {
   "cell_type": "markdown",
   "metadata": {},
   "source": [
    "### 1. Linear Regression"
   ]
  },
  {
   "cell_type": "code",
   "execution_count": 339,
   "metadata": {},
   "outputs": [],
   "source": [
    "#Technique 1: Linear Regression\n",
    "#fit model to the last X (Hyperparam) days\n",
    "#use model to predict price on day X+1\n",
    "#eval"
   ]
  },
  {
   "cell_type": "code",
   "execution_count": 469,
   "metadata": {},
   "outputs": [],
   "source": [
    "def fit_lin_reg(feature_vec_len, features_norm):\n",
    "    linear_regressor = LinearRegression()\n",
    "    days = np.arange(feature_vec_len).reshape(-1, 1)\n",
    "    lin_reg_predictions = []\n",
    "\n",
    "    for feature in features_norm:\n",
    "        linear_regressor.fit(days, feature)\n",
    "        pred = linear_regressor.predict(np.array(feature_vec_len + 1).reshape(-1, 1))\n",
    "        lin_reg_predictions.append(pred[0])\n",
    "\n",
    "    return np.array(lin_reg_predictions)"
   ]
  },
  {
   "cell_type": "code",
   "execution_count": 652,
   "metadata": {},
   "outputs": [],
   "source": [
    "# fit models to every feature vector (split is not needed here)\n",
    "lin_reg_predictions_norm = fit_lin_reg(feature_vec_len, features_norm)"
   ]
  },
  {
   "cell_type": "code",
   "execution_count": 509,
   "metadata": {},
   "outputs": [],
   "source": [
    "def eval(predictions, labels):\n",
    "    mae = mean_absolute_error(labels, predictions) #add feature_vec_len: to remove leading zeros\n",
    "    mape = np.mean(np.abs((labels - predictions) / labels)) * 100\n",
    "\n",
    "    return mae, mape"
   ]
  },
  {
   "cell_type": "code",
   "execution_count": 653,
   "metadata": {},
   "outputs": [
    {
     "name": "stdout",
     "output_type": "stream",
     "text": [
      "MAE: 1.22\n",
      "MAPE: 1.961%\n"
     ]
    }
   ],
   "source": [
    "# eval\n",
    "\n",
    "lin_reg_predictions = denormalize(lin_reg_predictions_norm, minmax_scaler)\n",
    "labels = denormalize(labels_norm, minmax_scaler)\n",
    "\n",
    "mae, mape = eval(lin_reg_predictions, labels)\n",
    "\n",
    "print(f\"MAE: {round(mae, 3)}\")\n",
    "print(f\"MAPE: {round(mape, 3)}%\")"
   ]
  },
  {
   "cell_type": "code",
   "execution_count": 654,
   "metadata": {},
   "outputs": [
    {
     "data": {
      "image/png": "[encoded data removed]",
      "text/plain": [
       "<Figure size 864x432 with 1 Axes>"
      ]
     },
     "metadata": {
      "needs_background": "light"
     },
     "output_type": "display_data"
    }
   ],
   "source": [
    "# plotting\n",
    "\n",
    "start = 100\n",
    "end = 600\n",
    "\n",
    "plot_chart(df[start:end], [labels[start:end], lin_reg_predictions[start:end]], is_df=False)"
   ]
  },
  {
   "cell_type": "code",
   "execution_count": 655,
   "metadata": {},
   "outputs": [
    {
     "name": "stderr",
     "output_type": "stream",
     "text": [
      "  0%|          | 0/29 [00:00<?, ?it/s]"
     ]
    },
    {
     "name": "stderr",
     "output_type": "stream",
     "text": [
      "100%|██████████| 29/29 [01:00<00:00,  2.10s/it]\n"
     ]
    }
   ],
   "source": [
    "# optimal feature vec len search\n",
    "\n",
    "MAE_errors = []\n",
    "MAPE_errors = []\n",
    "\n",
    "for feature_vec_len in tqdm(range(1,30)):\n",
    "    features_norm, labels_norm = prep_data(feature_vec_len, closing_prices_norm)\n",
    "    lin_reg_predictions_norm = fit_lin_reg(feature_vec_len, features_norm)\n",
    "\n",
    "    lin_reg_predictions = denormalize(lin_reg_predictions_norm, minmax_scaler)\n",
    "    labels = denormalize(labels_norm, minmax_scaler)\n",
    "\n",
    "    mae, mape = eval(lin_reg_predictions, labels)\n",
    "\n",
    "    MAE_errors.append(mae)\n",
    "    MAPE_errors.append(mape)"
   ]
  },
  {
   "cell_type": "code",
   "execution_count": 656,
   "metadata": {},
   "outputs": [
    {
     "name": "stdout",
     "output_type": "stream",
     "text": [
      "Lowest MAE is 0.787, with feature vec len = 1 (just copies close from prev day)\n",
      "Lowest MAPE is 1.257%, with feature vec len = 1 (just copies close from prev day)\n",
      "\n",
      "\n",
      "Lowest MAE is 1.205, with non-trivial feature vec len = 7\n",
      "Lowest MAPE is 1.959%, with non-trivial feature vec len = 7\n"
     ]
    },
    {
     "data": {
      "text/plain": [
       "<matplotlib.lines.Line2D at 0x1ad657b83d0>"
      ]
     },
     "execution_count": 656,
     "metadata": {},
     "output_type": "execute_result"
    },
    {
     "data": {
      "image/png": "[encoded data removed]",
      "text/plain": [
       "<Figure size 432x288 with 1 Axes>"
      ]
     },
     "metadata": {
      "needs_background": "light"
     },
     "output_type": "display_data"
    }
   ],
   "source": [
    "x_values = np.arange(1, len(MAE_errors) + 1)\n",
    "plt.plot(x_values, MAE_errors)\n",
    "plt.xticks(np.arange(1, len(MAE_errors) + 1, 1))\n",
    "\n",
    "best_feat_vec_len_MAE, best_MAE = min(enumerate(MAE_errors), key=lambda x: x[1])\n",
    "print(f\"Lowest MAE is {round(best_MAE, 3)}, with feature vec len = {best_feat_vec_len_MAE + 1} (just copies close from prev day)\")\n",
    "\n",
    "best_feat_vec_len_MAPE, best_MAPE = min(enumerate(MAPE_errors), key=lambda x: x[1])\n",
    "print(f\"Lowest MAPE is {round(best_MAPE, 3)}%, with feature vec len = {best_feat_vec_len_MAPE + 1} (just copies close from prev day)\")\n",
    "\n",
    "MAE_errors_copy = MAE_errors.copy()\n",
    "MAPE_errors_copy = MAPE_errors.copy()\n",
    "\n",
    "print(\"\\n\")\n",
    "\n",
    "MAE_errors_copy[best_feat_vec_len_MAE] = 1000000\n",
    "MAPE_errors_copy[best_feat_vec_len_MAPE] = 1000000\n",
    "\n",
    "sec_best_feat_vec_len_MAE, sec_best_MAE = min(enumerate(MAE_errors_copy), key=lambda x: x[1])\n",
    "print(f\"Lowest MAE is {round(sec_best_MAE, 3)}, with non-trivial feature vec len = {sec_best_feat_vec_len_MAE + 1}\")\n",
    "\n",
    "sec_best_feat_vec_len_MAPE, sec_best_MAPE = min(enumerate(MAPE_errors_copy), key=lambda x: x[1])\n",
    "print(f\"Lowest MAPE is {round(sec_best_MAPE, 3)}%, with non-trivial feature vec len = {sec_best_feat_vec_len_MAPE + 1}\")\n",
    "\n",
    "plt.axvline(x=sec_best_feat_vec_len_MAE + 1, color='red', linestyle='--', label='X=5')"
   ]
  },
  {
   "cell_type": "code",
   "execution_count": 649,
   "metadata": {},
   "outputs": [
    {
     "name": "stdout",
     "output_type": "stream",
     "text": [
      "[1847.61 1845.12 1845.16 ... 5005.57 4975.51 4981.8 ]\n",
      "Average change in closing price from day to day: 0.107%\n"
     ]
    }
   ],
   "source": [
    "# How much does the price change from day to day on average?\n",
    "print(closing_prices)\n",
    "percentage_changes = ((apple_closing_prices[1:] - apple_closing_prices[:-1]) / apple_closing_prices[:-1]) * 100\n",
    "\n",
    "# Calculate the average percentage change\n",
    "average_percentage_change = np.mean(percentage_changes)\n",
    "\n",
    "print(f\"Average change in closing price from day to day: {round(average_percentage_change, 3)}%\") #modelle die schlechter sind als das sind komplett nutzlos"
   ]
  },
  {
   "cell_type": "markdown",
   "metadata": {},
   "source": [
    "Can I find a method that is better than just copying the value from the previous day?"
   ]
  },
  {
   "cell_type": "markdown",
   "metadata": {},
   "source": [
    "### 2. Multilayer Perceptron"
   ]
  },
  {
   "cell_type": "code",
   "execution_count": 631,
   "metadata": {},
   "outputs": [],
   "source": [
    "# generating feature and label vectors\n",
    "\n",
    "feature_vec_len = 14\n",
    "features_norm, labels_norm = prep_data(feature_vec_len, closing_prices_norm)"
   ]
  },
  {
   "cell_type": "code",
   "execution_count": 632,
   "metadata": {},
   "outputs": [],
   "source": [
    "# splitting into sets\n",
    "\n",
    "X_train_norm, X_temp, y_train_norm, y_temp = train_test_split(features_norm, labels_norm, test_size=0.3, random_state=42, shuffle=False)\n",
    "X_test_norm, X_val_norm, y_test_norm, y_val_norm = train_test_split(X_temp, y_temp, test_size=0.5, random_state=42, shuffle=False)\n",
    "\n",
    "shuffled_indices = np.random.permutation(len(X_train_norm))\n",
    "\n",
    "X_train_norm = X_train_norm[shuffled_indices]\n",
    "y_train_norm = y_train_norm[shuffled_indices]"
   ]
  },
  {
   "cell_type": "code",
   "execution_count": 633,
   "metadata": {},
   "outputs": [],
   "source": [
    "def create_model(feature_vec_len):\n",
    "    mlp_model = Sequential()\n",
    "    mlp_model.add(Dense(units=128, input_dim=feature_vec_len, activation='relu'))\n",
    "    mlp_model.add(Dense(units=64, activation='relu'))\n",
    "    mlp_model.add(Dense(units=32, activation='relu'))\n",
    "    mlp_model.add(Dense(units=16, activation='relu'))\n",
    "    mlp_model.add(Dense(units=8, activation='relu'))\n",
    "    mlp_model.add(Dense(units=4, activation='relu'))\n",
    "    mlp_model.add(Dense(units=1, activation='linear'))\n",
    "\n",
    "    mlp_model.compile(optimizer='adam', loss='mae')\n",
    "    return mlp_model"
   ]
  },
  {
   "cell_type": "code",
   "execution_count": 634,
   "metadata": {},
   "outputs": [],
   "source": [
    "# init model\n",
    "\n",
    "mlp_model = create_model(feature_vec_len)"
   ]
  },
  {
   "cell_type": "code",
   "execution_count": 635,
   "metadata": {},
   "outputs": [],
   "source": [
    "def train(mlp_model, X_train, y_train):\n",
    "    history = mlp_model.fit(X_train, y_train, epochs=100, batch_size=1, validation_data=(X_val_norm, y_val_norm), verbose=1)\n",
    "    return history"
   ]
  },
  {
   "cell_type": "code",
   "execution_count": 636,
   "metadata": {},
   "outputs": [
    {
     "name": "stdout",
     "output_type": "stream",
     "text": [
      "Epoch 1/100\n",
      "1761/1761 [==============================] - 7s 3ms/step - loss: 0.0185 - val_loss: 0.0312\n",
      "Epoch 2/100\n",
      "1761/1761 [==============================] - 5s 3ms/step - loss: 0.0137 - val_loss: 0.0471\n",
      "Epoch 3/100\n",
      "1761/1761 [==============================] - 5s 3ms/step - loss: 0.0121 - val_loss: 0.0450\n",
      "Epoch 4/100\n",
      "1761/1761 [==============================] - 5s 3ms/step - loss: 0.0120 - val_loss: 0.0366\n",
      "Epoch 5/100\n",
      "1761/1761 [==============================] - 5s 3ms/step - loss: 0.0114 - val_loss: 0.0403\n",
      "Epoch 6/100\n",
      "1761/1761 [==============================] - 5s 3ms/step - loss: 0.0106 - val_loss: 0.0197\n",
      "Epoch 7/100\n",
      "1761/1761 [==============================] - 5s 3ms/step - loss: 0.0103 - val_loss: 0.0137\n",
      "Epoch 8/100\n",
      "1761/1761 [==============================] - 5s 3ms/step - loss: 0.0105 - val_loss: 0.0141\n",
      "Epoch 9/100\n",
      "1761/1761 [==============================] - 5s 3ms/step - loss: 0.0104 - val_loss: 0.0130\n",
      "Epoch 10/100\n",
      "1761/1761 [==============================] - 5s 3ms/step - loss: 0.0100 - val_loss: 0.0190\n",
      "Epoch 11/100\n",
      "1761/1761 [==============================] - 5s 3ms/step - loss: 0.0098 - val_loss: 0.0134\n",
      "Epoch 12/100\n",
      "1761/1761 [==============================] - 5s 3ms/step - loss: 0.0097 - val_loss: 0.0136\n",
      "Epoch 13/100\n",
      "1761/1761 [==============================] - 5s 3ms/step - loss: 0.0097 - val_loss: 0.0268\n",
      "Epoch 14/100\n",
      "1761/1761 [==============================] - 5s 3ms/step - loss: 0.0096 - val_loss: 0.0129\n",
      "Epoch 15/100\n",
      "1761/1761 [==============================] - 5s 3ms/step - loss: 0.0096 - val_loss: 0.0138\n",
      "Epoch 16/100\n",
      "1761/1761 [==============================] - 5s 3ms/step - loss: 0.0095 - val_loss: 0.0280\n",
      "Epoch 17/100\n",
      "1761/1761 [==============================] - 5s 3ms/step - loss: 0.0092 - val_loss: 0.0240\n",
      "Epoch 18/100\n",
      "1761/1761 [==============================] - 5s 3ms/step - loss: 0.0092 - val_loss: 0.0209\n",
      "Epoch 19/100\n",
      "1761/1761 [==============================] - 5s 3ms/step - loss: 0.0093 - val_loss: 0.0156\n",
      "Epoch 20/100\n",
      "1761/1761 [==============================] - 5s 3ms/step - loss: 0.0091 - val_loss: 0.0132\n",
      "Epoch 21/100\n",
      "1761/1761 [==============================] - 5s 3ms/step - loss: 0.0089 - val_loss: 0.0214\n",
      "Epoch 22/100\n",
      "1761/1761 [==============================] - 5s 3ms/step - loss: 0.0093 - val_loss: 0.0131\n",
      "Epoch 23/100\n",
      "1761/1761 [==============================] - 5s 3ms/step - loss: 0.0090 - val_loss: 0.0279\n",
      "Epoch 24/100\n",
      "1761/1761 [==============================] - 5s 3ms/step - loss: 0.0083 - val_loss: 0.0167\n",
      "Epoch 25/100\n",
      "1761/1761 [==============================] - 5s 3ms/step - loss: 0.0088 - val_loss: 0.0119\n",
      "Epoch 26/100\n",
      "1761/1761 [==============================] - 5s 3ms/step - loss: 0.0088 - val_loss: 0.0215\n",
      "Epoch 27/100\n",
      "1761/1761 [==============================] - 5s 3ms/step - loss: 0.0088 - val_loss: 0.0186\n",
      "Epoch 28/100\n",
      "1761/1761 [==============================] - 5s 3ms/step - loss: 0.0087 - val_loss: 0.0119\n",
      "Epoch 29/100\n",
      "1761/1761 [==============================] - 5s 3ms/step - loss: 0.0089 - val_loss: 0.0278\n",
      "Epoch 30/100\n",
      "1761/1761 [==============================] - 5s 3ms/step - loss: 0.0086 - val_loss: 0.0125\n",
      "Epoch 31/100\n",
      "1761/1761 [==============================] - 5s 3ms/step - loss: 0.0093 - val_loss: 0.0118\n",
      "Epoch 32/100\n",
      "1761/1761 [==============================] - 5s 3ms/step - loss: 0.0085 - val_loss: 0.0118\n",
      "Epoch 33/100\n",
      "1761/1761 [==============================] - 5s 3ms/step - loss: 0.0083 - val_loss: 0.0170\n",
      "Epoch 34/100\n",
      "1761/1761 [==============================] - 5s 3ms/step - loss: 0.0083 - val_loss: 0.0151\n",
      "Epoch 35/100\n",
      "1761/1761 [==============================] - 5s 3ms/step - loss: 0.0085 - val_loss: 0.0121\n",
      "Epoch 36/100\n",
      "1761/1761 [==============================] - 5s 3ms/step - loss: 0.0083 - val_loss: 0.0270\n",
      "Epoch 37/100\n",
      "1761/1761 [==============================] - 5s 3ms/step - loss: 0.0084 - val_loss: 0.0120\n",
      "Epoch 38/100\n",
      "1761/1761 [==============================] - 5s 3ms/step - loss: 0.0087 - val_loss: 0.0138\n",
      "Epoch 39/100\n",
      "1761/1761 [==============================] - 5s 3ms/step - loss: 0.0083 - val_loss: 0.0593\n",
      "Epoch 40/100\n",
      "1761/1761 [==============================] - 5s 3ms/step - loss: 0.0085 - val_loss: 0.0123\n",
      "Epoch 41/100\n",
      "1761/1761 [==============================] - 5s 3ms/step - loss: 0.0084 - val_loss: 0.0196\n",
      "Epoch 42/100\n",
      "1761/1761 [==============================] - 5s 3ms/step - loss: 0.0084 - val_loss: 0.0120\n",
      "Epoch 43/100\n",
      "1761/1761 [==============================] - 5s 3ms/step - loss: 0.0082 - val_loss: 0.0298\n",
      "Epoch 44/100\n",
      "1761/1761 [==============================] - 5s 3ms/step - loss: 0.0086 - val_loss: 0.0169\n",
      "Epoch 45/100\n",
      "1761/1761 [==============================] - 5s 3ms/step - loss: 0.0085 - val_loss: 0.0302\n",
      "Epoch 46/100\n",
      "1761/1761 [==============================] - 5s 3ms/step - loss: 0.0087 - val_loss: 0.0201\n",
      "Epoch 47/100\n",
      "1761/1761 [==============================] - 5s 3ms/step - loss: 0.0080 - val_loss: 0.0142\n",
      "Epoch 48/100\n",
      "1761/1761 [==============================] - 5s 3ms/step - loss: 0.0081 - val_loss: 0.0421\n",
      "Epoch 49/100\n",
      "1761/1761 [==============================] - 5s 3ms/step - loss: 0.0085 - val_loss: 0.0162\n",
      "Epoch 50/100\n",
      "1761/1761 [==============================] - 5s 3ms/step - loss: 0.0082 - val_loss: 0.0120\n",
      "Epoch 51/100\n",
      "1761/1761 [==============================] - 5s 3ms/step - loss: 0.0080 - val_loss: 0.0118\n",
      "Epoch 52/100\n",
      "1761/1761 [==============================] - 5s 3ms/step - loss: 0.0079 - val_loss: 0.0119\n",
      "Epoch 53/100\n",
      "1761/1761 [==============================] - 5s 3ms/step - loss: 0.0079 - val_loss: 0.0461\n",
      "Epoch 54/100\n",
      "1761/1761 [==============================] - 5s 3ms/step - loss: 0.0078 - val_loss: 0.0144\n",
      "Epoch 55/100\n",
      "1761/1761 [==============================] - 5s 3ms/step - loss: 0.0080 - val_loss: 0.0117\n",
      "Epoch 56/100\n",
      "1761/1761 [==============================] - 5s 3ms/step - loss: 0.0085 - val_loss: 0.0119\n",
      "Epoch 57/100\n",
      "1761/1761 [==============================] - 5s 3ms/step - loss: 0.0079 - val_loss: 0.0199\n",
      "Epoch 58/100\n",
      "1761/1761 [==============================] - 5s 3ms/step - loss: 0.0080 - val_loss: 0.0152\n",
      "Epoch 59/100\n",
      "1761/1761 [==============================] - 5s 3ms/step - loss: 0.0075 - val_loss: 0.0163\n",
      "Epoch 60/100\n",
      "1761/1761 [==============================] - 5s 3ms/step - loss: 0.0081 - val_loss: 0.0185\n",
      "Epoch 61/100\n",
      "1761/1761 [==============================] - 5s 3ms/step - loss: 0.0081 - val_loss: 0.0225\n",
      "Epoch 62/100\n",
      "1761/1761 [==============================] - 5s 3ms/step - loss: 0.0082 - val_loss: 0.0115\n",
      "Epoch 63/100\n",
      "1761/1761 [==============================] - 5s 3ms/step - loss: 0.0082 - val_loss: 0.0171\n",
      "Epoch 64/100\n",
      "1761/1761 [==============================] - 5s 3ms/step - loss: 0.0078 - val_loss: 0.0205\n",
      "Epoch 65/100\n",
      "1761/1761 [==============================] - 5s 3ms/step - loss: 0.0078 - val_loss: 0.0333\n",
      "Epoch 66/100\n",
      "1761/1761 [==============================] - 5s 3ms/step - loss: 0.0077 - val_loss: 0.0340\n",
      "Epoch 67/100\n",
      "1761/1761 [==============================] - 5s 3ms/step - loss: 0.0079 - val_loss: 0.0174\n",
      "Epoch 68/100\n",
      "1761/1761 [==============================] - 5s 3ms/step - loss: 0.0085 - val_loss: 0.0135\n",
      "Epoch 69/100\n",
      "1761/1761 [==============================] - 5s 3ms/step - loss: 0.0080 - val_loss: 0.0226\n",
      "Epoch 70/100\n",
      "1761/1761 [==============================] - 5s 3ms/step - loss: 0.0083 - val_loss: 0.0160\n",
      "Epoch 71/100\n",
      "1761/1761 [==============================] - 5s 3ms/step - loss: 0.0082 - val_loss: 0.0268\n",
      "Epoch 72/100\n",
      "1761/1761 [==============================] - 5s 3ms/step - loss: 0.0078 - val_loss: 0.0114\n",
      "Epoch 73/100\n",
      "1761/1761 [==============================] - 5s 3ms/step - loss: 0.0081 - val_loss: 0.0113\n",
      "Epoch 74/100\n",
      "1761/1761 [==============================] - 5s 3ms/step - loss: 0.0081 - val_loss: 0.0118\n",
      "Epoch 75/100\n",
      "1761/1761 [==============================] - 5s 3ms/step - loss: 0.0079 - val_loss: 0.0275\n",
      "Epoch 76/100\n",
      "1761/1761 [==============================] - 5s 3ms/step - loss: 0.0081 - val_loss: 0.0205\n",
      "Epoch 77/100\n",
      "1761/1761 [==============================] - 5s 3ms/step - loss: 0.0079 - val_loss: 0.0223\n",
      "Epoch 78/100\n",
      "1761/1761 [==============================] - 5s 3ms/step - loss: 0.0080 - val_loss: 0.0352\n",
      "Epoch 79/100\n",
      "1761/1761 [==============================] - 5s 3ms/step - loss: 0.0079 - val_loss: 0.0198\n",
      "Epoch 80/100\n",
      "1761/1761 [==============================] - 5s 3ms/step - loss: 0.0073 - val_loss: 0.0136\n",
      "Epoch 81/100\n",
      "1761/1761 [==============================] - 5s 3ms/step - loss: 0.0081 - val_loss: 0.0117\n",
      "Epoch 82/100\n",
      "1761/1761 [==============================] - 5s 3ms/step - loss: 0.0076 - val_loss: 0.0112\n",
      "Epoch 83/100\n",
      "1761/1761 [==============================] - 5s 3ms/step - loss: 0.0082 - val_loss: 0.0164\n",
      "Epoch 84/100\n",
      "1761/1761 [==============================] - 5s 3ms/step - loss: 0.0081 - val_loss: 0.0261\n",
      "Epoch 85/100\n",
      "1761/1761 [==============================] - 6s 3ms/step - loss: 0.0076 - val_loss: 0.0131\n",
      "Epoch 86/100\n",
      "1761/1761 [==============================] - 5s 3ms/step - loss: 0.0076 - val_loss: 0.0112\n",
      "Epoch 87/100\n",
      "1761/1761 [==============================] - 6s 3ms/step - loss: 0.0079 - val_loss: 0.0113\n",
      "Epoch 88/100\n",
      "1761/1761 [==============================] - 6s 3ms/step - loss: 0.0077 - val_loss: 0.0153\n",
      "Epoch 89/100\n",
      "1761/1761 [==============================] - 5s 3ms/step - loss: 0.0077 - val_loss: 0.0115\n",
      "Epoch 90/100\n",
      "1761/1761 [==============================] - 5s 3ms/step - loss: 0.0080 - val_loss: 0.0301\n",
      "Epoch 91/100\n",
      "1761/1761 [==============================] - 5s 3ms/step - loss: 0.0076 - val_loss: 0.0207\n",
      "Epoch 92/100\n",
      "1761/1761 [==============================] - 5s 3ms/step - loss: 0.0076 - val_loss: 0.0113\n",
      "Epoch 93/100\n",
      "1761/1761 [==============================] - 5s 3ms/step - loss: 0.0078 - val_loss: 0.0350\n",
      "Epoch 94/100\n",
      "1761/1761 [==============================] - 5s 3ms/step - loss: 0.0079 - val_loss: 0.0126\n",
      "Epoch 95/100\n",
      "1761/1761 [==============================] - 5s 3ms/step - loss: 0.0076 - val_loss: 0.0211\n",
      "Epoch 96/100\n",
      "1761/1761 [==============================] - 6s 3ms/step - loss: 0.0077 - val_loss: 0.0111\n",
      "Epoch 97/100\n",
      "1761/1761 [==============================] - 5s 3ms/step - loss: 0.0076 - val_loss: 0.0176\n",
      "Epoch 98/100\n",
      "1761/1761 [==============================] - 5s 3ms/step - loss: 0.0075 - val_loss: 0.0224\n",
      "Epoch 99/100\n",
      "1761/1761 [==============================] - 6s 3ms/step - loss: 0.0074 - val_loss: 0.0209\n",
      "Epoch 100/100\n",
      "1761/1761 [==============================] - 5s 3ms/step - loss: 0.0077 - val_loss: 0.0116\n"
     ]
    }
   ],
   "source": [
    "# training\n",
    "\n",
    "history = train(mlp_model, X_train_norm, y_train_norm)"
   ]
  },
  {
   "cell_type": "code",
   "execution_count": 603,
   "metadata": {},
   "outputs": [],
   "source": [
    "def plot_loss(history, training=True):\n",
    "    if training:\n",
    "        training_loss = history.history[\"loss\"]\n",
    "        plt.plot(training_loss)\n",
    "        plt.title('Training Loss Over Epochs')\n",
    "    else:\n",
    "        validation_loss = history.history[\"val_loss\"]\n",
    "        plt.plot(validation_loss)\n",
    "        plt.title('Validation Loss Over Epochs')\n",
    "    plt.xlabel('Epochs')\n",
    "    plt.ylabel('Mean Average Error Loss')\n",
    "    plt.show()"
   ]
  },
  {
   "cell_type": "code",
   "execution_count": 637,
   "metadata": {},
   "outputs": [
    {
     "data": {
      "image/png": "[encoded data removed]",
      "text/plain": [
       "<Figure size 432x288 with 1 Axes>"
      ]
     },
     "metadata": {
      "needs_background": "light"
     },
     "output_type": "display_data"
    },
    {
     "data": {
      "image/png": "[encoded data removed]",
      "text/plain": [
       "<Figure size 432x288 with 1 Axes>"
      ]
     },
     "metadata": {
      "needs_background": "light"
     },
     "output_type": "display_data"
    }
   ],
   "source": [
    "# plotting training loss\n",
    "\n",
    "plot_loss(history)\n",
    "plot_loss(history, training=False)"
   ]
  },
  {
   "cell_type": "code",
   "execution_count": 638,
   "metadata": {},
   "outputs": [
    {
     "name": "stdout",
     "output_type": "stream",
     "text": [
      "12/12 [==============================] - 0s 3ms/step\n",
      "MAE: 40.656\n",
      "MAPE: 0.958%\n"
     ]
    }
   ],
   "source": [
    "# eval\n",
    "\n",
    "mlp_predictions_norm = mlp_model.predict(X_test_norm)\n",
    "\n",
    "#todo denormalize\n",
    "mlp_predictions = denormalize(mlp_predictions_norm, minmax_scaler)\n",
    "y_test = denormalize(y_test_norm, minmax_scaler)\n",
    "\n",
    "mae, mape = eval(mlp_predictions, y_test)\n",
    "\n",
    "print(f\"MAE: {round(mae, 3)}\")\n",
    "print(f\"MAPE: {round(mape, 3)}%\")"
   ]
  },
  {
   "cell_type": "code",
   "execution_count": 630,
   "metadata": {},
   "outputs": [
    {
     "data": {
      "image/png": "[encoded data removed]",
      "text/plain": [
       "<Figure size 864x432 with 1 Axes>"
      ]
     },
     "metadata": {
      "needs_background": "light"
     },
     "output_type": "display_data"
    }
   ],
   "source": [
    "# plotting\n",
    "\n",
    "start = 0\n",
    "end = 300\n",
    "\n",
    "plot_chart(df[start:end], [y_test[start:end], mlp_predictions[start:end]], is_df=False)"
   ]
  },
  {
   "cell_type": "code",
   "execution_count": 586,
   "metadata": {},
   "outputs": [
    {
     "name": "stderr",
     "output_type": "stream",
     "text": [
      "  0%|          | 0/29 [00:00<?, ?it/s]"
     ]
    },
    {
     "name": "stdout",
     "output_type": "stream",
     "text": [
      "12/12 [==============================] - 0s 2ms/step\n"
     ]
    },
    {
     "name": "stderr",
     "output_type": "stream",
     "text": [
      "  3%|▎         | 1/29 [01:15<35:03, 75.13s/it]"
     ]
    },
    {
     "name": "stdout",
     "output_type": "stream",
     "text": [
      "12/12 [==============================] - 0s 2ms/step\n"
     ]
    },
    {
     "name": "stderr",
     "output_type": "stream",
     "text": [
      "  7%|▋         | 2/29 [02:26<32:46, 72.84s/it]"
     ]
    },
    {
     "name": "stdout",
     "output_type": "stream",
     "text": [
      "12/12 [==============================] - 0s 2ms/step\n"
     ]
    },
    {
     "name": "stderr",
     "output_type": "stream",
     "text": [
      " 10%|█         | 3/29 [03:37<31:10, 71.93s/it]"
     ]
    },
    {
     "name": "stdout",
     "output_type": "stream",
     "text": [
      "12/12 [==============================] - 0s 2ms/step\n"
     ]
    },
    {
     "name": "stderr",
     "output_type": "stream",
     "text": [
      " 14%|█▍        | 4/29 [04:48<29:50, 71.61s/it]"
     ]
    },
    {
     "name": "stdout",
     "output_type": "stream",
     "text": [
      "12/12 [==============================] - 0s 2ms/step\n"
     ]
    },
    {
     "name": "stderr",
     "output_type": "stream",
     "text": [
      " 17%|█▋        | 5/29 [05:59<28:31, 71.31s/it]"
     ]
    },
    {
     "name": "stdout",
     "output_type": "stream",
     "text": [
      "12/12 [==============================] - 0s 2ms/step\n"
     ]
    },
    {
     "name": "stderr",
     "output_type": "stream",
     "text": [
      " 21%|██        | 6/29 [07:10<27:23, 71.45s/it]"
     ]
    },
    {
     "name": "stdout",
     "output_type": "stream",
     "text": [
      "12/12 [==============================] - 0s 3ms/step\n"
     ]
    },
    {
     "name": "stderr",
     "output_type": "stream",
     "text": [
      " 24%|██▍       | 7/29 [08:22<26:11, 71.43s/it]"
     ]
    },
    {
     "name": "stdout",
     "output_type": "stream",
     "text": [
      "12/12 [==============================] - 0s 2ms/step\n"
     ]
    },
    {
     "name": "stderr",
     "output_type": "stream",
     "text": [
      " 28%|██▊       | 8/29 [09:37<25:28, 72.77s/it]"
     ]
    },
    {
     "name": "stdout",
     "output_type": "stream",
     "text": [
      "12/12 [==============================] - 0s 2ms/step\n"
     ]
    },
    {
     "name": "stderr",
     "output_type": "stream",
     "text": [
      " 31%|███       | 9/29 [10:53<24:32, 73.63s/it]"
     ]
    },
    {
     "name": "stdout",
     "output_type": "stream",
     "text": [
      "12/12 [==============================] - 0s 3ms/step\n"
     ]
    },
    {
     "name": "stderr",
     "output_type": "stream",
     "text": [
      " 34%|███▍      | 10/29 [12:09<23:33, 74.41s/it]"
     ]
    },
    {
     "name": "stdout",
     "output_type": "stream",
     "text": [
      "12/12 [==============================] - 0s 2ms/step\n"
     ]
    },
    {
     "name": "stderr",
     "output_type": "stream",
     "text": [
      " 38%|███▊      | 11/29 [13:24<22:20, 74.45s/it]"
     ]
    },
    {
     "name": "stdout",
     "output_type": "stream",
     "text": [
      "12/12 [==============================] - 0s 2ms/step\n"
     ]
    },
    {
     "name": "stderr",
     "output_type": "stream",
     "text": [
      " 41%|████▏     | 12/29 [14:38<21:05, 74.43s/it]"
     ]
    },
    {
     "name": "stdout",
     "output_type": "stream",
     "text": [
      "12/12 [==============================] - 0s 2ms/step\n"
     ]
    },
    {
     "name": "stderr",
     "output_type": "stream",
     "text": [
      " 45%|████▍     | 13/29 [15:50<19:40, 73.78s/it]"
     ]
    },
    {
     "name": "stdout",
     "output_type": "stream",
     "text": [
      "12/12 [==============================] - 0s 2ms/step\n"
     ]
    },
    {
     "name": "stderr",
     "output_type": "stream",
     "text": [
      " 48%|████▊     | 14/29 [17:00<18:10, 72.68s/it]"
     ]
    },
    {
     "name": "stdout",
     "output_type": "stream",
     "text": [
      "12/12 [==============================] - 0s 2ms/step\n"
     ]
    },
    {
     "name": "stderr",
     "output_type": "stream",
     "text": [
      " 52%|█████▏    | 15/29 [18:09<16:40, 71.45s/it]"
     ]
    },
    {
     "name": "stdout",
     "output_type": "stream",
     "text": [
      "12/12 [==============================] - 0s 2ms/step\n"
     ]
    },
    {
     "name": "stderr",
     "output_type": "stream",
     "text": [
      " 55%|█████▌    | 16/29 [19:18<15:18, 70.66s/it]"
     ]
    },
    {
     "name": "stdout",
     "output_type": "stream",
     "text": [
      "12/12 [==============================] - 0s 2ms/step\n"
     ]
    },
    {
     "name": "stderr",
     "output_type": "stream",
     "text": [
      " 59%|█████▊    | 17/29 [20:27<14:03, 70.26s/it]"
     ]
    },
    {
     "name": "stdout",
     "output_type": "stream",
     "text": [
      "12/12 [==============================] - 0s 2ms/step\n"
     ]
    },
    {
     "name": "stderr",
     "output_type": "stream",
     "text": [
      " 62%|██████▏   | 18/29 [21:36<12:49, 69.93s/it]"
     ]
    },
    {
     "name": "stdout",
     "output_type": "stream",
     "text": [
      "12/12 [==============================] - 0s 2ms/step\n"
     ]
    },
    {
     "name": "stderr",
     "output_type": "stream",
     "text": [
      " 66%|██████▌   | 19/29 [22:49<11:49, 70.90s/it]"
     ]
    },
    {
     "name": "stdout",
     "output_type": "stream",
     "text": [
      "12/12 [==============================] - 0s 3ms/step\n"
     ]
    },
    {
     "name": "stderr",
     "output_type": "stream",
     "text": [
      " 69%|██████▉   | 20/29 [24:04<10:48, 72.02s/it]"
     ]
    },
    {
     "name": "stdout",
     "output_type": "stream",
     "text": [
      "12/12 [==============================] - 0s 2ms/step\n"
     ]
    },
    {
     "name": "stderr",
     "output_type": "stream",
     "text": [
      " 72%|███████▏  | 21/29 [25:21<09:46, 73.36s/it]"
     ]
    },
    {
     "name": "stdout",
     "output_type": "stream",
     "text": [
      "12/12 [==============================] - 0s 3ms/step\n"
     ]
    },
    {
     "name": "stderr",
     "output_type": "stream",
     "text": [
      " 76%|███████▌  | 22/29 [26:35<08:34, 73.54s/it]"
     ]
    },
    {
     "name": "stdout",
     "output_type": "stream",
     "text": [
      "12/12 [==============================] - 0s 2ms/step\n"
     ]
    },
    {
     "name": "stderr",
     "output_type": "stream",
     "text": [
      " 79%|███████▉  | 23/29 [27:49<07:23, 73.87s/it]"
     ]
    },
    {
     "name": "stdout",
     "output_type": "stream",
     "text": [
      "12/12 [==============================] - 0s 2ms/step\n"
     ]
    },
    {
     "name": "stderr",
     "output_type": "stream",
     "text": [
      " 83%|████████▎ | 24/29 [29:04<06:10, 74.19s/it]"
     ]
    },
    {
     "name": "stdout",
     "output_type": "stream",
     "text": [
      "12/12 [==============================] - 0s 2ms/step\n"
     ]
    },
    {
     "name": "stderr",
     "output_type": "stream",
     "text": [
      " 86%|████████▌ | 25/29 [30:20<04:58, 74.59s/it]"
     ]
    },
    {
     "name": "stdout",
     "output_type": "stream",
     "text": [
      "12/12 [==============================] - 0s 2ms/step\n"
     ]
    },
    {
     "name": "stderr",
     "output_type": "stream",
     "text": [
      " 90%|████████▉ | 26/29 [31:35<03:44, 74.90s/it]"
     ]
    },
    {
     "name": "stdout",
     "output_type": "stream",
     "text": [
      "12/12 [==============================] - 0s 2ms/step\n"
     ]
    },
    {
     "name": "stderr",
     "output_type": "stream",
     "text": [
      " 93%|█████████▎| 27/29 [32:50<02:29, 74.93s/it]"
     ]
    },
    {
     "name": "stdout",
     "output_type": "stream",
     "text": [
      "12/12 [==============================] - 0s 2ms/step\n"
     ]
    },
    {
     "name": "stderr",
     "output_type": "stream",
     "text": [
      " 97%|█████████▋| 28/29 [34:05<01:14, 74.82s/it]"
     ]
    },
    {
     "name": "stdout",
     "output_type": "stream",
     "text": [
      "12/12 [==============================] - 0s 2ms/step\n"
     ]
    },
    {
     "name": "stderr",
     "output_type": "stream",
     "text": [
      "100%|██████████| 29/29 [35:21<00:00, 73.14s/it]\n"
     ]
    }
   ],
   "source": [
    "# optimal feature vec len search\n",
    "\n",
    "MAE_errors = []\n",
    "MAPE_errors = []\n",
    "\n",
    "for feature_vec_len in tqdm(range(1,30)):\n",
    "    features_norm, labels_norm = prep_data(feature_vec_len, closing_prices_norm)\n",
    "    lin_reg_predictions_norm = fit_lin_reg(feature_vec_len, features_norm)\n",
    "\n",
    "    X_train_norm, X_temp, y_train_norm, y_temp = train_test_split(features_norm, labels_norm, test_size=0.3, random_state=42, shuffle=False)\n",
    "    X_test_norm, X_val_norm, y_test_norm, y_val_norm = train_test_split(X_temp, y_temp, test_size=0.5, random_state=42, shuffle=False)\n",
    "    shuffled_indices = np.random.permutation(len(X_train_norm))\n",
    "    X_train_norm = X_train_norm[shuffled_indices]\n",
    "    y_train_norm = y_train_norm[shuffled_indices]\n",
    "\n",
    "    mlp_model = create_model(feature_vec_len)\n",
    "    history = train(mlp_model, X_train_norm, y_train_norm)\n",
    "\n",
    "    mlp_predictions_norm = mlp_model.predict(X_test_norm)\n",
    "\n",
    "    mlp_predictions = denormalize(mlp_predictions_norm, minmax_scaler)\n",
    "    y_test = denormalize(y_test_norm, minmax_scaler)\n",
    "\n",
    "    mae, mape = eval(mlp_predictions, y_test)\n",
    "\n",
    "    MAE_errors.append(mae)\n",
    "    MAPE_errors.append(mape)"
   ]
  },
  {
   "cell_type": "code",
   "execution_count": 587,
   "metadata": {},
   "outputs": [
    {
     "name": "stdout",
     "output_type": "stream",
     "text": [
      "Lowest MAE is 38.905, with feature vec len = 5\n",
      "Lowest MAPE is 0.916%, with feature vec len = 5\n"
     ]
    },
    {
     "data": {
      "text/plain": [
       "<matplotlib.lines.Line2D at 0x1ad4d27e4c0>"
      ]
     },
     "execution_count": 587,
     "metadata": {},
     "output_type": "execute_result"
    },
    {
     "data": {
      "image/png": "[encoded data removed]",
      "text/plain": [
       "<Figure size 432x288 with 1 Axes>"
      ]
     },
     "metadata": {
      "needs_background": "light"
     },
     "output_type": "display_data"
    }
   ],
   "source": [
    "x_values = np.arange(1, len(MAE_errors) + 1)\n",
    "plt.plot(x_values, MAE_errors)\n",
    "plt.xticks(np.arange(1, len(MAE_errors) + 1, 1))\n",
    "\n",
    "best_feat_vec_len_MAE, best_MAE = min(enumerate(MAE_errors), key=lambda x: x[1])\n",
    "print(f\"Lowest MAE is {round(best_MAE, 3)}, with feature vec len = {best_feat_vec_len_MAE + 1}\")\n",
    "\n",
    "best_feat_vec_len_MAPE, best_MAPE = min(enumerate(MAPE_errors), key=lambda x: x[1])\n",
    "print(f\"Lowest MAPE is {round(best_MAPE, 3)}%, with feature vec len = {best_feat_vec_len_MAPE + 1}\")\n",
    "\n",
    "plt.axvline(x=best_feat_vec_len_MAE + 1, color='red', linestyle='--', label='X=5')"
   ]
  },
  {
   "cell_type": "markdown",
   "metadata": {},
   "source": [
    "### 3. RNN"
   ]
  },
  {
   "cell_type": "code",
   "execution_count": 241,
   "metadata": {},
   "outputs": [],
   "source": [
    "from keras.layers import Dense, SimpleRNN"
   ]
  },
  {
   "cell_type": "code",
   "execution_count": 245,
   "metadata": {},
   "outputs": [],
   "source": [
    "# prep data\n",
    "\n",
    "feature_vec_len = 15\n",
    "\n",
    "X_train_scaled, X_test_scaled, y_train_scaled, y_test_scaled, label_scaler = prep_data(feat_vec_len)"
   ]
  },
  {
   "cell_type": "code",
   "execution_count": 260,
   "metadata": {},
   "outputs": [],
   "source": [
    "# model\n",
    "\n",
    "rnn = Sequential()\n",
    "rnn.add(SimpleRNN(units=50, activation='relu', input_shape=(X_train_scaled.shape[1], 1)))\n",
    "rnn.add(Dense(units=1))\n",
    "rnn.compile(optimizer='adam', loss=['mean_squared_error', 'mae'])"
   ]
  },
  {
   "cell_type": "code",
   "execution_count": 261,
   "metadata": {},
   "outputs": [
    {
     "name": "stdout",
     "output_type": "stream",
     "text": [
      "Epoch 1/50\n",
      "24/24 [==============================] - 2s 21ms/step - loss: 0.0449 - val_loss: 0.0083\n",
      "Epoch 2/50\n",
      "24/24 [==============================] - 0s 6ms/step - loss: 0.0033 - val_loss: 0.0041\n",
      "Epoch 3/50\n",
      "24/24 [==============================] - 0s 6ms/step - loss: 0.0021 - val_loss: 0.0030\n",
      "Epoch 4/50\n",
      "24/24 [==============================] - 0s 6ms/step - loss: 0.0020 - val_loss: 0.0029\n",
      "Epoch 5/50\n",
      "24/24 [==============================] - 0s 7ms/step - loss: 0.0019 - val_loss: 0.0029\n",
      "Epoch 6/50\n",
      "24/24 [==============================] - 0s 12ms/step - loss: 0.0019 - val_loss: 0.0029\n",
      "Epoch 7/50\n",
      "24/24 [==============================] - 0s 8ms/step - loss: 0.0019 - val_loss: 0.0037\n",
      "Epoch 8/50\n",
      "24/24 [==============================] - 0s 7ms/step - loss: 0.0018 - val_loss: 0.0029\n",
      "Epoch 9/50\n",
      "24/24 [==============================] - 0s 7ms/step - loss: 0.0018 - val_loss: 0.0030\n",
      "Epoch 10/50\n",
      "24/24 [==============================] - 0s 7ms/step - loss: 0.0018 - val_loss: 0.0028\n",
      "Epoch 11/50\n",
      "24/24 [==============================] - 0s 10ms/step - loss: 0.0018 - val_loss: 0.0036\n",
      "Epoch 12/50\n",
      "24/24 [==============================] - 0s 9ms/step - loss: 0.0017 - val_loss: 0.0029\n",
      "Epoch 13/50\n",
      "24/24 [==============================] - 0s 7ms/step - loss: 0.0017 - val_loss: 0.0029\n",
      "Epoch 14/50\n",
      "24/24 [==============================] - 0s 7ms/step - loss: 0.0017 - val_loss: 0.0027\n",
      "Epoch 15/50\n",
      "24/24 [==============================] - 0s 7ms/step - loss: 0.0017 - val_loss: 0.0029\n",
      "Epoch 16/50\n",
      "24/24 [==============================] - 0s 7ms/step - loss: 0.0018 - val_loss: 0.0028\n",
      "Epoch 17/50\n",
      "24/24 [==============================] - 0s 11ms/step - loss: 0.0017 - val_loss: 0.0028\n",
      "Epoch 18/50\n",
      "24/24 [==============================] - 0s 6ms/step - loss: 0.0016 - val_loss: 0.0027\n",
      "Epoch 19/50\n",
      "24/24 [==============================] - 0s 7ms/step - loss: 0.0016 - val_loss: 0.0028\n",
      "Epoch 20/50\n",
      "24/24 [==============================] - 0s 7ms/step - loss: 0.0016 - val_loss: 0.0029\n",
      "Epoch 21/50\n",
      "24/24 [==============================] - 0s 7ms/step - loss: 0.0016 - val_loss: 0.0028\n",
      "Epoch 22/50\n",
      "24/24 [==============================] - 0s 7ms/step - loss: 0.0016 - val_loss: 0.0027\n",
      "Epoch 23/50\n",
      "24/24 [==============================] - 0s 7ms/step - loss: 0.0016 - val_loss: 0.0035\n",
      "Epoch 24/50\n",
      "24/24 [==============================] - 0s 7ms/step - loss: 0.0017 - val_loss: 0.0029\n",
      "Epoch 25/50\n",
      "24/24 [==============================] - 0s 7ms/step - loss: 0.0016 - val_loss: 0.0027\n",
      "Epoch 26/50\n",
      "24/24 [==============================] - 0s 6ms/step - loss: 0.0016 - val_loss: 0.0027\n",
      "Epoch 27/50\n",
      "24/24 [==============================] - 0s 6ms/step - loss: 0.0016 - val_loss: 0.0040\n",
      "Epoch 28/50\n",
      "24/24 [==============================] - 0s 7ms/step - loss: 0.0016 - val_loss: 0.0026\n",
      "Epoch 29/50\n",
      "24/24 [==============================] - 0s 7ms/step - loss: 0.0015 - val_loss: 0.0027\n",
      "Epoch 30/50\n",
      "24/24 [==============================] - 0s 6ms/step - loss: 0.0015 - val_loss: 0.0026\n",
      "Epoch 31/50\n",
      "24/24 [==============================] - 0s 6ms/step - loss: 0.0015 - val_loss: 0.0028\n",
      "Epoch 32/50\n",
      "24/24 [==============================] - 0s 6ms/step - loss: 0.0015 - val_loss: 0.0031\n",
      "Epoch 33/50\n",
      "24/24 [==============================] - 0s 6ms/step - loss: 0.0016 - val_loss: 0.0030\n",
      "Epoch 34/50\n",
      "24/24 [==============================] - 0s 6ms/step - loss: 0.0016 - val_loss: 0.0026\n",
      "Epoch 35/50\n",
      "24/24 [==============================] - 0s 7ms/step - loss: 0.0015 - val_loss: 0.0027\n",
      "Epoch 36/50\n",
      "24/24 [==============================] - 0s 11ms/step - loss: 0.0015 - val_loss: 0.0027\n",
      "Epoch 37/50\n",
      "24/24 [==============================] - 0s 7ms/step - loss: 0.0015 - val_loss: 0.0027\n",
      "Epoch 38/50\n",
      "24/24 [==============================] - 0s 7ms/step - loss: 0.0015 - val_loss: 0.0027\n",
      "Epoch 39/50\n",
      "24/24 [==============================] - 0s 7ms/step - loss: 0.0015 - val_loss: 0.0027\n",
      "Epoch 40/50\n",
      "24/24 [==============================] - 0s 6ms/step - loss: 0.0015 - val_loss: 0.0026\n",
      "Epoch 41/50\n",
      "24/24 [==============================] - 0s 7ms/step - loss: 0.0015 - val_loss: 0.0031\n",
      "Epoch 42/50\n",
      "24/24 [==============================] - 0s 7ms/step - loss: 0.0015 - val_loss: 0.0026\n",
      "Epoch 43/50\n",
      "24/24 [==============================] - 0s 6ms/step - loss: 0.0015 - val_loss: 0.0027\n",
      "Epoch 44/50\n",
      "24/24 [==============================] - 0s 6ms/step - loss: 0.0015 - val_loss: 0.0026\n",
      "Epoch 45/50\n",
      "24/24 [==============================] - 0s 6ms/step - loss: 0.0014 - val_loss: 0.0028\n",
      "Epoch 46/50\n",
      "24/24 [==============================] - 0s 6ms/step - loss: 0.0015 - val_loss: 0.0030\n",
      "Epoch 47/50\n",
      "24/24 [==============================] - 0s 6ms/step - loss: 0.0014 - val_loss: 0.0029\n",
      "Epoch 48/50\n",
      "24/24 [==============================] - 0s 6ms/step - loss: 0.0014 - val_loss: 0.0026\n",
      "Epoch 49/50\n",
      "24/24 [==============================] - 0s 6ms/step - loss: 0.0014 - val_loss: 0.0028\n",
      "Epoch 50/50\n",
      "24/24 [==============================] - 0s 6ms/step - loss: 0.0014 - val_loss: 0.0026\n"
     ]
    }
   ],
   "source": [
    "# train\n",
    "\n",
    "rnn_history = rnn.fit(X_train_scaled, y_train_scaled, epochs=50, batch_size=64, validation_data=(X_test_scaled, y_test_scaled))"
   ]
  },
  {
   "cell_type": "code",
   "execution_count": 262,
   "metadata": {},
   "outputs": [
    {
     "data": {
      "image/png": "[encoded data removed]",
      "text/plain": [
       "<Figure size 576x360 with 1 Axes>"
      ]
     },
     "metadata": {
      "needs_background": "light"
     },
     "output_type": "display_data"
    }
   ],
   "source": [
    "# plot val loss\n",
    "\n",
    "val_loss = rnn_history.history['val_loss']\n",
    "\n",
    "# Create the plot\n",
    "plt.figure(figsize=(8, 5))\n",
    "plt.plot(val_loss, label='Validation Loss')\n",
    "plt.xlabel('Epoch')\n",
    "plt.ylabel('Loss')\n",
    "plt.title('Validation Loss During Training')\n",
    "plt.legend()\n",
    "plt.grid(True)\n",
    "plt.show()"
   ]
  },
  {
   "cell_type": "code",
   "execution_count": 263,
   "metadata": {},
   "outputs": [
    {
     "name": "stdout",
     "output_type": "stream",
     "text": [
      "12/12 [==============================] - 0s 3ms/step\n",
      "1501.2307696796718\n"
     ]
    }
   ],
   "source": [
    "# eval\n",
    "# def eval(model, label_scaler, X_test_scaled, y_test_scaled):\n",
    "\n",
    "mse, y_test, y_pred = eval(rnn, label_scaler, X_test_scaled, y_test_scaled)\n",
    "\n",
    "print(mse)"
   ]
  },
  {
   "cell_type": "code",
   "execution_count": 255,
   "metadata": {},
   "outputs": [
    {
     "name": "stderr",
     "output_type": "stream",
     "text": [
      "  0%|          | 0/24 [00:00<?, ?it/s]"
     ]
    },
    {
     "name": "stdout",
     "output_type": "stream",
     "text": [
      "13/13 [==============================] - 0s 2ms/step\n"
     ]
    },
    {
     "name": "stderr",
     "output_type": "stream",
     "text": [
      "  4%|▍         | 1/24 [00:27<10:32, 27.49s/it]"
     ]
    },
    {
     "name": "stdout",
     "output_type": "stream",
     "text": [
      "13/13 [==============================] - 0s 2ms/step\n"
     ]
    },
    {
     "name": "stderr",
     "output_type": "stream",
     "text": [
      "  8%|▊         | 2/24 [00:54<10:04, 27.47s/it]"
     ]
    },
    {
     "name": "stdout",
     "output_type": "stream",
     "text": [
      "13/13 [==============================] - 0s 2ms/step\n"
     ]
    },
    {
     "name": "stderr",
     "output_type": "stream",
     "text": [
      " 12%|█▎        | 3/24 [01:23<09:50, 28.11s/it]"
     ]
    },
    {
     "name": "stdout",
     "output_type": "stream",
     "text": [
      "13/13 [==============================] - 0s 2ms/step\n"
     ]
    },
    {
     "name": "stderr",
     "output_type": "stream",
     "text": [
      " 17%|█▋        | 4/24 [01:53<09:36, 28.82s/it]"
     ]
    },
    {
     "name": "stdout",
     "output_type": "stream",
     "text": [
      "13/13 [==============================] - 0s 2ms/step\n"
     ]
    },
    {
     "name": "stderr",
     "output_type": "stream",
     "text": [
      " 21%|██        | 5/24 [02:25<09:25, 29.74s/it]"
     ]
    },
    {
     "name": "stdout",
     "output_type": "stream",
     "text": [
      "13/13 [==============================] - 0s 2ms/step\n"
     ]
    },
    {
     "name": "stderr",
     "output_type": "stream",
     "text": [
      " 25%|██▌       | 6/24 [03:00<09:30, 31.71s/it]"
     ]
    },
    {
     "name": "stdout",
     "output_type": "stream",
     "text": [
      "13/13 [==============================] - 0s 2ms/step\n"
     ]
    },
    {
     "name": "stderr",
     "output_type": "stream",
     "text": [
      " 29%|██▉       | 7/24 [03:39<09:40, 34.16s/it]"
     ]
    },
    {
     "name": "stdout",
     "output_type": "stream",
     "text": [
      "13/13 [==============================] - 0s 2ms/step\n"
     ]
    },
    {
     "name": "stderr",
     "output_type": "stream",
     "text": [
      " 33%|███▎      | 8/24 [04:14<09:09, 34.35s/it]"
     ]
    },
    {
     "name": "stdout",
     "output_type": "stream",
     "text": [
      "13/13 [==============================] - 0s 2ms/step\n"
     ]
    },
    {
     "name": "stderr",
     "output_type": "stream",
     "text": [
      " 38%|███▊      | 9/24 [04:49<08:36, 34.46s/it]"
     ]
    },
    {
     "name": "stdout",
     "output_type": "stream",
     "text": [
      "13/13 [==============================] - 0s 2ms/step\n"
     ]
    },
    {
     "name": "stderr",
     "output_type": "stream",
     "text": [
      " 42%|████▏     | 10/24 [05:25<08:09, 34.95s/it]"
     ]
    },
    {
     "name": "stdout",
     "output_type": "stream",
     "text": [
      "13/13 [==============================] - 0s 2ms/step\n"
     ]
    },
    {
     "name": "stderr",
     "output_type": "stream",
     "text": [
      " 46%|████▌     | 11/24 [05:59<07:30, 34.64s/it]"
     ]
    },
    {
     "name": "stdout",
     "output_type": "stream",
     "text": [
      "13/13 [==============================] - 0s 2ms/step\n"
     ]
    },
    {
     "name": "stderr",
     "output_type": "stream",
     "text": [
      " 50%|█████     | 12/24 [06:33<06:55, 34.65s/it]"
     ]
    },
    {
     "name": "stdout",
     "output_type": "stream",
     "text": [
      "13/13 [==============================] - 0s 2ms/step\n"
     ]
    },
    {
     "name": "stderr",
     "output_type": "stream",
     "text": [
      " 54%|█████▍    | 13/24 [07:11<06:30, 35.54s/it]"
     ]
    },
    {
     "name": "stdout",
     "output_type": "stream",
     "text": [
      "13/13 [==============================] - 0s 2ms/step\n"
     ]
    },
    {
     "name": "stderr",
     "output_type": "stream",
     "text": [
      " 58%|█████▊    | 14/24 [07:48<06:00, 36.04s/it]"
     ]
    },
    {
     "name": "stdout",
     "output_type": "stream",
     "text": [
      "13/13 [==============================] - 0s 2ms/step\n"
     ]
    },
    {
     "name": "stderr",
     "output_type": "stream",
     "text": [
      " 62%|██████▎   | 15/24 [08:26<05:28, 36.45s/it]"
     ]
    },
    {
     "name": "stdout",
     "output_type": "stream",
     "text": [
      "13/13 [==============================] - 0s 2ms/step\n"
     ]
    },
    {
     "name": "stderr",
     "output_type": "stream",
     "text": [
      " 67%|██████▋   | 16/24 [09:04<04:55, 36.93s/it]"
     ]
    },
    {
     "name": "stdout",
     "output_type": "stream",
     "text": [
      "13/13 [==============================] - 0s 2ms/step\n"
     ]
    },
    {
     "name": "stderr",
     "output_type": "stream",
     "text": [
      " 71%|███████   | 17/24 [09:43<04:23, 37.67s/it]"
     ]
    },
    {
     "name": "stdout",
     "output_type": "stream",
     "text": [
      "13/13 [==============================] - 0s 2ms/step\n"
     ]
    },
    {
     "name": "stderr",
     "output_type": "stream",
     "text": [
      " 75%|███████▌  | 18/24 [10:22<03:48, 38.15s/it]"
     ]
    },
    {
     "name": "stdout",
     "output_type": "stream",
     "text": [
      "13/13 [==============================] - 0s 2ms/step\n"
     ]
    },
    {
     "name": "stderr",
     "output_type": "stream",
     "text": [
      " 79%|███████▉  | 19/24 [11:02<03:13, 38.74s/it]"
     ]
    },
    {
     "name": "stdout",
     "output_type": "stream",
     "text": [
      "13/13 [==============================] - 0s 2ms/step\n"
     ]
    },
    {
     "name": "stderr",
     "output_type": "stream",
     "text": [
      " 83%|████████▎ | 20/24 [11:44<02:38, 39.62s/it]"
     ]
    },
    {
     "name": "stdout",
     "output_type": "stream",
     "text": [
      "13/13 [==============================] - 0s 2ms/step\n"
     ]
    },
    {
     "name": "stderr",
     "output_type": "stream",
     "text": [
      " 88%|████████▊ | 21/24 [12:27<02:01, 40.64s/it]"
     ]
    },
    {
     "name": "stdout",
     "output_type": "stream",
     "text": [
      "13/13 [==============================] - 0s 2ms/step\n"
     ]
    },
    {
     "name": "stderr",
     "output_type": "stream",
     "text": [
      " 92%|█████████▏| 22/24 [13:08<01:21, 40.81s/it]"
     ]
    },
    {
     "name": "stdout",
     "output_type": "stream",
     "text": [
      "13/13 [==============================] - 0s 1ms/step\n"
     ]
    },
    {
     "name": "stderr",
     "output_type": "stream",
     "text": [
      " 96%|█████████▌| 23/24 [13:51<00:41, 41.47s/it]"
     ]
    },
    {
     "name": "stdout",
     "output_type": "stream",
     "text": [
      "12/12 [==============================] - 0s 2ms/step\n"
     ]
    },
    {
     "name": "stderr",
     "output_type": "stream",
     "text": [
      "100%|██████████| 24/24 [14:34<00:00, 36.42s/it]\n"
     ]
    }
   ],
   "source": [
    "# def hyperparam_search(m, feat_vec_len, model):\n",
    "\n",
    "errors = hyperparam_search(25, rnn)"
   ]
  },
  {
   "cell_type": "code",
   "execution_count": 257,
   "metadata": {},
   "outputs": [
    {
     "data": {
      "image/png": "[encoded data removed]",
      "text/plain": [
       "<Figure size 432x288 with 1 Axes>"
      ]
     },
     "metadata": {
      "needs_background": "light"
     },
     "output_type": "display_data"
    },
    {
     "name": "stdout",
     "output_type": "stream",
     "text": [
      "Lowest MSE is 1563.2681824462866, with feature vec length=4\n"
     ]
    }
   ],
   "source": [
    "aux1(errors)"
   ]
  },
  {
   "cell_type": "code",
   "execution_count": 259,
   "metadata": {},
   "outputs": [
    {
     "name": "stdout",
     "output_type": "stream",
     "text": [
      "Model: \"sequential_58\"\n",
      "_________________________________________________________________\n",
      " Layer (type)                Output Shape              Param #   \n",
      "=================================================================\n",
      " simple_rnn_4 (SimpleRNN)    (None, 50)                2600      \n",
      "                                                                 \n",
      " dense_170 (Dense)           (None, 1)                 51        \n",
      "                                                                 \n",
      "=================================================================\n",
      "Total params: 2651 (10.36 KB)\n",
      "Trainable params: 2651 (10.36 KB)\n",
      "Non-trainable params: 0 (0.00 Byte)\n",
      "_________________________________________________________________\n"
     ]
    }
   ],
   "source": [
    "rnn.summary()"
   ]
  },
  {
   "cell_type": "markdown",
   "metadata": {},
   "source": [
    "### 4. Transformer"
   ]
  },
  {
   "cell_type": "markdown",
   "metadata": {},
   "source": [
    "### 5. Reinforcement Learning\n"
   ]
  },
  {
   "cell_type": "markdown",
   "metadata": {},
   "source": [
    "### 6. Brain"
   ]
  }
 ],
 "metadata": {
  "kernelspec": {
   "display_name": "Python 3",
   "language": "python",
   "name": "python3"
  },
  "language_info": {
   "codemirror_mode": {
    "name": "ipython",
    "version": 3
   },
   "file_extension": ".py",
   "mimetype": "text/x-python",
   "name": "python",
   "nbconvert_exporter": "python",
   "pygments_lexer": "ipython3",
   "version": "3.9.13"
  }
 },
 "nbformat": 4,
 "nbformat_minor": 2
}

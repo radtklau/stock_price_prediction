{
  "cells": [
    {
      "cell_type": "markdown",
      "metadata": {
        "id": "jURV18eDMMiZ"
      },
      "source": [
        "# Project: Stock Price Prediction"
      ]
    },
    {
      "cell_type": "code",
      "execution_count": 1,
      "metadata": {
        "id": "tLtU8aaqMMid"
      },
      "outputs": [],
      "source": [
        "#import necessary libraries\n",
        "\n",
        "import pandas as pd\n",
        "import numpy as np\n",
        "import tensorflow as tf\n",
        "import matplotlib.pyplot as plt\n",
        "from matplotlib.ticker import MaxNLocator\n",
        "from sklearn.linear_model import LinearRegression\n",
        "from tqdm import tqdm\n",
        "from sklearn.model_selection import train_test_split\n",
        "from keras.models import Sequential\n",
        "from keras.layers import LSTM, Dense\n",
        "from sklearn.preprocessing import MinMaxScaler\n",
        "from sklearn.metrics import mean_squared_error, mean_absolute_error\n",
        "\n",
        "from transformers import TFBertModel, BertTokenizer\n",
        "from keras.models import Model\n",
        "from keras.layers import Input, Flatten, Dropout, concatenate\n",
        "from keras.optimizers import Adam"
      ]
    },
    {
      "cell_type": "markdown",
      "metadata": {
        "id": "qO7qLaIIMMif"
      },
      "source": [
        "### Overall Goal\n",
        "\n",
        "Predict stock price (closing) on day X+1 as precisely as possible."
      ]
    },
    {
      "cell_type": "markdown",
      "metadata": {
        "id": "gZP2kHHOMMif"
      },
      "source": [
        "### Data Import And Cleaning"
      ]
    },
    {
      "cell_type": "code",
      "execution_count": 4,
      "metadata": {
        "colab": {
          "base_uri": "https://localhost:8080/",
          "height": 206
        },
        "id": "yz-RJQGIMMif",
        "outputId": "c00ecfbd-ea26-4eb1-e849-acd170a5a049"
      },
      "outputs": [
        {
          "data": {
            "application/vnd.google.colaboratory.intrinsic+json": {
              "repr_error": "'str' object has no attribute 'empty'",
              "type": "dataframe",
              "variable_name": "df"
            },
            "text/html": [
              "\n",
              "  <div id=\"df-fb10a87d-d939-431e-a035-b49aeaf1147a\" class=\"colab-df-container\">\n",
              "    <div>\n",
              "<style scoped>\n",
              "    .dataframe tbody tr th:only-of-type {\n",
              "        vertical-align: middle;\n",
              "    }\n",
              "\n",
              "    .dataframe tbody tr th {\n",
              "        vertical-align: top;\n",
              "    }\n",
              "\n",
              "    .dataframe thead th {\n",
              "        text-align: right;\n",
              "    }\n",
              "</style>\n",
              "<table border=\"1\" class=\"dataframe\">\n",
              "  <thead>\n",
              "    <tr style=\"text-align: right;\">\n",
              "      <th></th>\n",
              "      <th>Date</th>\n",
              "      <th>Close/Last</th>\n",
              "      <th>Open</th>\n",
              "      <th>High</th>\n",
              "      <th>Low</th>\n",
              "    </tr>\n",
              "  </thead>\n",
              "  <tbody>\n",
              "    <tr>\n",
              "      <th>0</th>\n",
              "      <td>02/24/2014</td>\n",
              "      <td>1847.61</td>\n",
              "      <td>1836.78</td>\n",
              "      <td>1858.71</td>\n",
              "      <td>1836.78</td>\n",
              "    </tr>\n",
              "    <tr>\n",
              "      <th>1</th>\n",
              "      <td>02/25/2014</td>\n",
              "      <td>1845.12</td>\n",
              "      <td>1847.66</td>\n",
              "      <td>1852.91</td>\n",
              "      <td>1840.19</td>\n",
              "    </tr>\n",
              "    <tr>\n",
              "      <th>2</th>\n",
              "      <td>02/26/2014</td>\n",
              "      <td>1845.16</td>\n",
              "      <td>1845.79</td>\n",
              "      <td>1852.65</td>\n",
              "      <td>1840.66</td>\n",
              "    </tr>\n",
              "    <tr>\n",
              "      <th>3</th>\n",
              "      <td>02/27/2014</td>\n",
              "      <td>1854.29</td>\n",
              "      <td>1844.90</td>\n",
              "      <td>1854.53</td>\n",
              "      <td>1841.13</td>\n",
              "    </tr>\n",
              "    <tr>\n",
              "      <th>4</th>\n",
              "      <td>02/28/2014</td>\n",
              "      <td>1859.45</td>\n",
              "      <td>1855.12</td>\n",
              "      <td>1867.92</td>\n",
              "      <td>1847.67</td>\n",
              "    </tr>\n",
              "  </tbody>\n",
              "</table>\n",
              "</div>\n",
              "    <div class=\"colab-df-buttons\">\n",
              "\n",
              "  <div class=\"colab-df-container\">\n",
              "    <button class=\"colab-df-convert\" onclick=\"convertToInteractive('df-fb10a87d-d939-431e-a035-b49aeaf1147a')\"\n",
              "            title=\"Convert this dataframe to an interactive table.\"\n",
              "            style=\"display:none;\">\n",
              "\n",
              "  <svg xmlns=\"http://www.w3.org/2000/svg\" height=\"24px\" viewBox=\"0 -960 960 960\">\n",
              "    <path d=\"M120-120v-720h720v720H120Zm60-500h600v-160H180v160Zm220 220h160v-160H400v160Zm0 220h160v-160H400v160ZM180-400h160v-160H180v160Zm440 0h160v-160H620v160ZM180-180h160v-160H180v160Zm440 0h160v-160H620v160Z\"/>\n",
              "  </svg>\n",
              "    </button>\n",
              "\n",
              "  <style>\n",
              "    .colab-df-container {\n",
              "      display:flex;\n",
              "      gap: 12px;\n",
              "    }\n",
              "\n",
              "    .colab-df-convert {\n",
              "      background-color: #E8F0FE;\n",
              "      border: none;\n",
              "      border-radius: 50%;\n",
              "      cursor: pointer;\n",
              "      display: none;\n",
              "      fill: #1967D2;\n",
              "      height: 32px;\n",
              "      padding: 0 0 0 0;\n",
              "      width: 32px;\n",
              "    }\n",
              "\n",
              "    .colab-df-convert:hover {\n",
              "      background-color: #E2EBFA;\n",
              "      box-shadow: 0px 1px 2px rgba(60, 64, 67, 0.3), 0px 1px 3px 1px rgba(60, 64, 67, 0.15);\n",
              "      fill: #174EA6;\n",
              "    }\n",
              "\n",
              "    .colab-df-buttons div {\n",
              "      margin-bottom: 4px;\n",
              "    }\n",
              "\n",
              "    [theme=dark] .colab-df-convert {\n",
              "      background-color: #3B4455;\n",
              "      fill: #D2E3FC;\n",
              "    }\n",
              "\n",
              "    [theme=dark] .colab-df-convert:hover {\n",
              "      background-color: #434B5C;\n",
              "      box-shadow: 0px 1px 3px 1px rgba(0, 0, 0, 0.15);\n",
              "      filter: drop-shadow(0px 1px 2px rgba(0, 0, 0, 0.3));\n",
              "      fill: #FFFFFF;\n",
              "    }\n",
              "  </style>\n",
              "\n",
              "    <script>\n",
              "      const buttonEl =\n",
              "        document.querySelector('#df-fb10a87d-d939-431e-a035-b49aeaf1147a button.colab-df-convert');\n",
              "      buttonEl.style.display =\n",
              "        google.colab.kernel.accessAllowed ? 'block' : 'none';\n",
              "\n",
              "      async function convertToInteractive(key) {\n",
              "        const element = document.querySelector('#df-fb10a87d-d939-431e-a035-b49aeaf1147a');\n",
              "        const dataTable =\n",
              "          await google.colab.kernel.invokeFunction('convertToInteractive',\n",
              "                                                    [key], {});\n",
              "        if (!dataTable) return;\n",
              "\n",
              "        const docLinkHtml = 'Like what you see? Visit the ' +\n",
              "          '<a target=\"_blank\" href=https://colab.research.google.com/notebooks/data_table.ipynb>data table notebook</a>'\n",
              "          + ' to learn more about interactive tables.';\n",
              "        element.innerHTML = '';\n",
              "        dataTable['output_type'] = 'display_data';\n",
              "        await google.colab.output.renderOutput(dataTable, element);\n",
              "        const docLink = document.createElement('div');\n",
              "        docLink.innerHTML = docLinkHtml;\n",
              "        element.appendChild(docLink);\n",
              "      }\n",
              "    </script>\n",
              "  </div>\n",
              "\n",
              "\n",
              "<div id=\"df-70fcd701-d82a-47f9-87d5-643e10898fcc\">\n",
              "  <button class=\"colab-df-quickchart\" onclick=\"quickchart('df-70fcd701-d82a-47f9-87d5-643e10898fcc')\"\n",
              "            title=\"Suggest charts\"\n",
              "            style=\"display:none;\">\n",
              "\n",
              "<svg xmlns=\"http://www.w3.org/2000/svg\" height=\"24px\"viewBox=\"0 0 24 24\"\n",
              "     width=\"24px\">\n",
              "    <g>\n",
              "        <path d=\"M19 3H5c-1.1 0-2 .9-2 2v14c0 1.1.9 2 2 2h14c1.1 0 2-.9 2-2V5c0-1.1-.9-2-2-2zM9 17H7v-7h2v7zm4 0h-2V7h2v10zm4 0h-2v-4h2v4z\"/>\n",
              "    </g>\n",
              "</svg>\n",
              "  </button>\n",
              "\n",
              "<style>\n",
              "  .colab-df-quickchart {\n",
              "      --bg-color: #E8F0FE;\n",
              "      --fill-color: #1967D2;\n",
              "      --hover-bg-color: #E2EBFA;\n",
              "      --hover-fill-color: #174EA6;\n",
              "      --disabled-fill-color: #AAA;\n",
              "      --disabled-bg-color: #DDD;\n",
              "  }\n",
              "\n",
              "  [theme=dark] .colab-df-quickchart {\n",
              "      --bg-color: #3B4455;\n",
              "      --fill-color: #D2E3FC;\n",
              "      --hover-bg-color: #434B5C;\n",
              "      --hover-fill-color: #FFFFFF;\n",
              "      --disabled-bg-color: #3B4455;\n",
              "      --disabled-fill-color: #666;\n",
              "  }\n",
              "\n",
              "  .colab-df-quickchart {\n",
              "    background-color: var(--bg-color);\n",
              "    border: none;\n",
              "    border-radius: 50%;\n",
              "    cursor: pointer;\n",
              "    display: none;\n",
              "    fill: var(--fill-color);\n",
              "    height: 32px;\n",
              "    padding: 0;\n",
              "    width: 32px;\n",
              "  }\n",
              "\n",
              "  .colab-df-quickchart:hover {\n",
              "    background-color: var(--hover-bg-color);\n",
              "    box-shadow: 0 1px 2px rgba(60, 64, 67, 0.3), 0 1px 3px 1px rgba(60, 64, 67, 0.15);\n",
              "    fill: var(--button-hover-fill-color);\n",
              "  }\n",
              "\n",
              "  .colab-df-quickchart-complete:disabled,\n",
              "  .colab-df-quickchart-complete:disabled:hover {\n",
              "    background-color: var(--disabled-bg-color);\n",
              "    fill: var(--disabled-fill-color);\n",
              "    box-shadow: none;\n",
              "  }\n",
              "\n",
              "  .colab-df-spinner {\n",
              "    border: 2px solid var(--fill-color);\n",
              "    border-color: transparent;\n",
              "    border-bottom-color: var(--fill-color);\n",
              "    animation:\n",
              "      spin 1s steps(1) infinite;\n",
              "  }\n",
              "\n",
              "  @keyframes spin {\n",
              "    0% {\n",
              "      border-color: transparent;\n",
              "      border-bottom-color: var(--fill-color);\n",
              "      border-left-color: var(--fill-color);\n",
              "    }\n",
              "    20% {\n",
              "      border-color: transparent;\n",
              "      border-left-color: var(--fill-color);\n",
              "      border-top-color: var(--fill-color);\n",
              "    }\n",
              "    30% {\n",
              "      border-color: transparent;\n",
              "      border-left-color: var(--fill-color);\n",
              "      border-top-color: var(--fill-color);\n",
              "      border-right-color: var(--fill-color);\n",
              "    }\n",
              "    40% {\n",
              "      border-color: transparent;\n",
              "      border-right-color: var(--fill-color);\n",
              "      border-top-color: var(--fill-color);\n",
              "    }\n",
              "    60% {\n",
              "      border-color: transparent;\n",
              "      border-right-color: var(--fill-color);\n",
              "    }\n",
              "    80% {\n",
              "      border-color: transparent;\n",
              "      border-right-color: var(--fill-color);\n",
              "      border-bottom-color: var(--fill-color);\n",
              "    }\n",
              "    90% {\n",
              "      border-color: transparent;\n",
              "      border-bottom-color: var(--fill-color);\n",
              "    }\n",
              "  }\n",
              "</style>\n",
              "\n",
              "  <script>\n",
              "    async function quickchart(key) {\n",
              "      const quickchartButtonEl =\n",
              "        document.querySelector('#' + key + ' button');\n",
              "      quickchartButtonEl.disabled = true;  // To prevent multiple clicks.\n",
              "      quickchartButtonEl.classList.add('colab-df-spinner');\n",
              "      try {\n",
              "        const charts = await google.colab.kernel.invokeFunction(\n",
              "            'suggestCharts', [key], {});\n",
              "      } catch (error) {\n",
              "        console.error('Error during call to suggestCharts:', error);\n",
              "      }\n",
              "      quickchartButtonEl.classList.remove('colab-df-spinner');\n",
              "      quickchartButtonEl.classList.add('colab-df-quickchart-complete');\n",
              "    }\n",
              "    (() => {\n",
              "      let quickchartButtonEl =\n",
              "        document.querySelector('#df-70fcd701-d82a-47f9-87d5-643e10898fcc button');\n",
              "      quickchartButtonEl.style.display =\n",
              "        google.colab.kernel.accessAllowed ? 'block' : 'none';\n",
              "    })();\n",
              "  </script>\n",
              "</div>\n",
              "    </div>\n",
              "  </div>\n"
            ],
            "text/plain": [
              "         Date  Close/Last     Open     High      Low\n",
              "0  02/24/2014     1847.61  1836.78  1858.71  1836.78\n",
              "1  02/25/2014     1845.12  1847.66  1852.91  1840.19\n",
              "2  02/26/2014     1845.16  1845.79  1852.65  1840.66\n",
              "3  02/27/2014     1854.29  1844.90  1854.53  1841.13\n",
              "4  02/28/2014     1859.45  1855.12  1867.92  1847.67"
            ]
          },
          "execution_count": 4,
          "metadata": {},
          "output_type": "execute_result"
        }
      ],
      "source": [
        "#get data\n",
        "\n",
        "path_to_df = \"..\\Data\\SPX.csv\"\n",
        "df = pd.read_csv(path_to_df)\n",
        "\n",
        "df = df[::-1].reset_index(drop=True) #reverse order\n",
        "\n",
        "df.head()"
      ]
    },
    {
      "cell_type": "code",
      "execution_count": 10,
      "metadata": {
        "colab": {
          "base_uri": "https://localhost:8080/",
          "height": 206
        },
        "id": "SJYtANUeMMig",
        "outputId": "1eca1809-8090-4601-f796-543dc24f4ff5"
      },
      "outputs": [
        {
          "data": {
            "application/vnd.google.colaboratory.intrinsic+json": {
              "repr_error": "'str' object has no attribute 'empty'",
              "type": "dataframe",
              "variable_name": "apple"
            },
            "text/html": [
              "\n",
              "  <div id=\"df-8314ace1-fcda-416a-a68c-08cf36f75eb2\" class=\"colab-df-container\">\n",
              "    <div>\n",
              "<style scoped>\n",
              "    .dataframe tbody tr th:only-of-type {\n",
              "        vertical-align: middle;\n",
              "    }\n",
              "\n",
              "    .dataframe tbody tr th {\n",
              "        vertical-align: top;\n",
              "    }\n",
              "\n",
              "    .dataframe thead th {\n",
              "        text-align: right;\n",
              "    }\n",
              "</style>\n",
              "<table border=\"1\" class=\"dataframe\">\n",
              "  <thead>\n",
              "    <tr style=\"text-align: right;\">\n",
              "      <th></th>\n",
              "      <th>Date</th>\n",
              "      <th>Open</th>\n",
              "      <th>High</th>\n",
              "      <th>Low</th>\n",
              "      <th>Close</th>\n",
              "      <th>Adj Close</th>\n",
              "      <th>Volume</th>\n",
              "    </tr>\n",
              "  </thead>\n",
              "  <tbody>\n",
              "    <tr>\n",
              "      <th>0</th>\n",
              "      <td>2010-01-04</td>\n",
              "      <td>7.622500</td>\n",
              "      <td>7.660714</td>\n",
              "      <td>7.585000</td>\n",
              "      <td>7.643214</td>\n",
              "      <td>6.470742</td>\n",
              "      <td>493729600</td>\n",
              "    </tr>\n",
              "    <tr>\n",
              "      <th>1</th>\n",
              "      <td>2010-01-05</td>\n",
              "      <td>7.664286</td>\n",
              "      <td>7.699643</td>\n",
              "      <td>7.616071</td>\n",
              "      <td>7.656429</td>\n",
              "      <td>6.481930</td>\n",
              "      <td>601904800</td>\n",
              "    </tr>\n",
              "    <tr>\n",
              "      <th>2</th>\n",
              "      <td>2010-01-06</td>\n",
              "      <td>7.656429</td>\n",
              "      <td>7.686786</td>\n",
              "      <td>7.526786</td>\n",
              "      <td>7.534643</td>\n",
              "      <td>6.378824</td>\n",
              "      <td>552160000</td>\n",
              "    </tr>\n",
              "    <tr>\n",
              "      <th>3</th>\n",
              "      <td>2010-01-07</td>\n",
              "      <td>7.562500</td>\n",
              "      <td>7.571429</td>\n",
              "      <td>7.466071</td>\n",
              "      <td>7.520714</td>\n",
              "      <td>6.367033</td>\n",
              "      <td>477131200</td>\n",
              "    </tr>\n",
              "    <tr>\n",
              "      <th>4</th>\n",
              "      <td>2010-01-08</td>\n",
              "      <td>7.510714</td>\n",
              "      <td>7.571429</td>\n",
              "      <td>7.466429</td>\n",
              "      <td>7.570714</td>\n",
              "      <td>6.409361</td>\n",
              "      <td>447610800</td>\n",
              "    </tr>\n",
              "  </tbody>\n",
              "</table>\n",
              "</div>\n",
              "    <div class=\"colab-df-buttons\">\n",
              "\n",
              "  <div class=\"colab-df-container\">\n",
              "    <button class=\"colab-df-convert\" onclick=\"convertToInteractive('df-8314ace1-fcda-416a-a68c-08cf36f75eb2')\"\n",
              "            title=\"Convert this dataframe to an interactive table.\"\n",
              "            style=\"display:none;\">\n",
              "\n",
              "  <svg xmlns=\"http://www.w3.org/2000/svg\" height=\"24px\" viewBox=\"0 -960 960 960\">\n",
              "    <path d=\"M120-120v-720h720v720H120Zm60-500h600v-160H180v160Zm220 220h160v-160H400v160Zm0 220h160v-160H400v160ZM180-400h160v-160H180v160Zm440 0h160v-160H620v160ZM180-180h160v-160H180v160Zm440 0h160v-160H620v160Z\"/>\n",
              "  </svg>\n",
              "    </button>\n",
              "\n",
              "  <style>\n",
              "    .colab-df-container {\n",
              "      display:flex;\n",
              "      gap: 12px;\n",
              "    }\n",
              "\n",
              "    .colab-df-convert {\n",
              "      background-color: #E8F0FE;\n",
              "      border: none;\n",
              "      border-radius: 50%;\n",
              "      cursor: pointer;\n",
              "      display: none;\n",
              "      fill: #1967D2;\n",
              "      height: 32px;\n",
              "      padding: 0 0 0 0;\n",
              "      width: 32px;\n",
              "    }\n",
              "\n",
              "    .colab-df-convert:hover {\n",
              "      background-color: #E2EBFA;\n",
              "      box-shadow: 0px 1px 2px rgba(60, 64, 67, 0.3), 0px 1px 3px 1px rgba(60, 64, 67, 0.15);\n",
              "      fill: #174EA6;\n",
              "    }\n",
              "\n",
              "    .colab-df-buttons div {\n",
              "      margin-bottom: 4px;\n",
              "    }\n",
              "\n",
              "    [theme=dark] .colab-df-convert {\n",
              "      background-color: #3B4455;\n",
              "      fill: #D2E3FC;\n",
              "    }\n",
              "\n",
              "    [theme=dark] .colab-df-convert:hover {\n",
              "      background-color: #434B5C;\n",
              "      box-shadow: 0px 1px 3px 1px rgba(0, 0, 0, 0.15);\n",
              "      filter: drop-shadow(0px 1px 2px rgba(0, 0, 0, 0.3));\n",
              "      fill: #FFFFFF;\n",
              "    }\n",
              "  </style>\n",
              "\n",
              "    <script>\n",
              "      const buttonEl =\n",
              "        document.querySelector('#df-8314ace1-fcda-416a-a68c-08cf36f75eb2 button.colab-df-convert');\n",
              "      buttonEl.style.display =\n",
              "        google.colab.kernel.accessAllowed ? 'block' : 'none';\n",
              "\n",
              "      async function convertToInteractive(key) {\n",
              "        const element = document.querySelector('#df-8314ace1-fcda-416a-a68c-08cf36f75eb2');\n",
              "        const dataTable =\n",
              "          await google.colab.kernel.invokeFunction('convertToInteractive',\n",
              "                                                    [key], {});\n",
              "        if (!dataTable) return;\n",
              "\n",
              "        const docLinkHtml = 'Like what you see? Visit the ' +\n",
              "          '<a target=\"_blank\" href=https://colab.research.google.com/notebooks/data_table.ipynb>data table notebook</a>'\n",
              "          + ' to learn more about interactive tables.';\n",
              "        element.innerHTML = '';\n",
              "        dataTable['output_type'] = 'display_data';\n",
              "        await google.colab.output.renderOutput(dataTable, element);\n",
              "        const docLink = document.createElement('div');\n",
              "        docLink.innerHTML = docLinkHtml;\n",
              "        element.appendChild(docLink);\n",
              "      }\n",
              "    </script>\n",
              "  </div>\n",
              "\n",
              "\n",
              "<div id=\"df-def2deaa-4454-46c1-bbb0-b26b0dd51980\">\n",
              "  <button class=\"colab-df-quickchart\" onclick=\"quickchart('df-def2deaa-4454-46c1-bbb0-b26b0dd51980')\"\n",
              "            title=\"Suggest charts\"\n",
              "            style=\"display:none;\">\n",
              "\n",
              "<svg xmlns=\"http://www.w3.org/2000/svg\" height=\"24px\"viewBox=\"0 0 24 24\"\n",
              "     width=\"24px\">\n",
              "    <g>\n",
              "        <path d=\"M19 3H5c-1.1 0-2 .9-2 2v14c0 1.1.9 2 2 2h14c1.1 0 2-.9 2-2V5c0-1.1-.9-2-2-2zM9 17H7v-7h2v7zm4 0h-2V7h2v10zm4 0h-2v-4h2v4z\"/>\n",
              "    </g>\n",
              "</svg>\n",
              "  </button>\n",
              "\n",
              "<style>\n",
              "  .colab-df-quickchart {\n",
              "      --bg-color: #E8F0FE;\n",
              "      --fill-color: #1967D2;\n",
              "      --hover-bg-color: #E2EBFA;\n",
              "      --hover-fill-color: #174EA6;\n",
              "      --disabled-fill-color: #AAA;\n",
              "      --disabled-bg-color: #DDD;\n",
              "  }\n",
              "\n",
              "  [theme=dark] .colab-df-quickchart {\n",
              "      --bg-color: #3B4455;\n",
              "      --fill-color: #D2E3FC;\n",
              "      --hover-bg-color: #434B5C;\n",
              "      --hover-fill-color: #FFFFFF;\n",
              "      --disabled-bg-color: #3B4455;\n",
              "      --disabled-fill-color: #666;\n",
              "  }\n",
              "\n",
              "  .colab-df-quickchart {\n",
              "    background-color: var(--bg-color);\n",
              "    border: none;\n",
              "    border-radius: 50%;\n",
              "    cursor: pointer;\n",
              "    display: none;\n",
              "    fill: var(--fill-color);\n",
              "    height: 32px;\n",
              "    padding: 0;\n",
              "    width: 32px;\n",
              "  }\n",
              "\n",
              "  .colab-df-quickchart:hover {\n",
              "    background-color: var(--hover-bg-color);\n",
              "    box-shadow: 0 1px 2px rgba(60, 64, 67, 0.3), 0 1px 3px 1px rgba(60, 64, 67, 0.15);\n",
              "    fill: var(--button-hover-fill-color);\n",
              "  }\n",
              "\n",
              "  .colab-df-quickchart-complete:disabled,\n",
              "  .colab-df-quickchart-complete:disabled:hover {\n",
              "    background-color: var(--disabled-bg-color);\n",
              "    fill: var(--disabled-fill-color);\n",
              "    box-shadow: none;\n",
              "  }\n",
              "\n",
              "  .colab-df-spinner {\n",
              "    border: 2px solid var(--fill-color);\n",
              "    border-color: transparent;\n",
              "    border-bottom-color: var(--fill-color);\n",
              "    animation:\n",
              "      spin 1s steps(1) infinite;\n",
              "  }\n",
              "\n",
              "  @keyframes spin {\n",
              "    0% {\n",
              "      border-color: transparent;\n",
              "      border-bottom-color: var(--fill-color);\n",
              "      border-left-color: var(--fill-color);\n",
              "    }\n",
              "    20% {\n",
              "      border-color: transparent;\n",
              "      border-left-color: var(--fill-color);\n",
              "      border-top-color: var(--fill-color);\n",
              "    }\n",
              "    30% {\n",
              "      border-color: transparent;\n",
              "      border-left-color: var(--fill-color);\n",
              "      border-top-color: var(--fill-color);\n",
              "      border-right-color: var(--fill-color);\n",
              "    }\n",
              "    40% {\n",
              "      border-color: transparent;\n",
              "      border-right-color: var(--fill-color);\n",
              "      border-top-color: var(--fill-color);\n",
              "    }\n",
              "    60% {\n",
              "      border-color: transparent;\n",
              "      border-right-color: var(--fill-color);\n",
              "    }\n",
              "    80% {\n",
              "      border-color: transparent;\n",
              "      border-right-color: var(--fill-color);\n",
              "      border-bottom-color: var(--fill-color);\n",
              "    }\n",
              "    90% {\n",
              "      border-color: transparent;\n",
              "      border-bottom-color: var(--fill-color);\n",
              "    }\n",
              "  }\n",
              "</style>\n",
              "\n",
              "  <script>\n",
              "    async function quickchart(key) {\n",
              "      const quickchartButtonEl =\n",
              "        document.querySelector('#' + key + ' button');\n",
              "      quickchartButtonEl.disabled = true;  // To prevent multiple clicks.\n",
              "      quickchartButtonEl.classList.add('colab-df-spinner');\n",
              "      try {\n",
              "        const charts = await google.colab.kernel.invokeFunction(\n",
              "            'suggestCharts', [key], {});\n",
              "      } catch (error) {\n",
              "        console.error('Error during call to suggestCharts:', error);\n",
              "      }\n",
              "      quickchartButtonEl.classList.remove('colab-df-spinner');\n",
              "      quickchartButtonEl.classList.add('colab-df-quickchart-complete');\n",
              "    }\n",
              "    (() => {\n",
              "      let quickchartButtonEl =\n",
              "        document.querySelector('#df-def2deaa-4454-46c1-bbb0-b26b0dd51980 button');\n",
              "      quickchartButtonEl.style.display =\n",
              "        google.colab.kernel.accessAllowed ? 'block' : 'none';\n",
              "    })();\n",
              "  </script>\n",
              "</div>\n",
              "    </div>\n",
              "  </div>\n"
            ],
            "text/plain": [
              "         Date      Open      High       Low     Close  Adj Close     Volume\n",
              "0  2010-01-04  7.622500  7.660714  7.585000  7.643214   6.470742  493729600\n",
              "1  2010-01-05  7.664286  7.699643  7.616071  7.656429   6.481930  601904800\n",
              "2  2010-01-06  7.656429  7.686786  7.526786  7.534643   6.378824  552160000\n",
              "3  2010-01-07  7.562500  7.571429  7.466071  7.520714   6.367033  477131200\n",
              "4  2010-01-08  7.510714  7.571429  7.466429  7.570714   6.409361  447610800"
            ]
          },
          "execution_count": 10,
          "metadata": {},
          "output_type": "execute_result"
        }
      ],
      "source": [
        "path_to_apple_data = \"..\\Data\\AAPL.csv\"\n",
        "apple = pd.read_csv(path_to_apple_data)\n",
        "\n",
        "apple.head()"
      ]
    },
    {
      "cell_type": "code",
      "execution_count": 5,
      "metadata": {
        "id": "hVvXun5QMMig"
      },
      "outputs": [],
      "source": [
        "def plot_chart(df, col, is_df=True): # Plotting the col against dates\n",
        "    # Create a larger plot\n",
        "    fig, ax = plt.subplots(figsize=(12, 6))\n",
        "    num_args = len(col)\n",
        "\n",
        "    for ind in range(num_args):\n",
        "        if is_df:\n",
        "            ax.plot(df['Date'], df[col[ind]])\n",
        "        else:\n",
        "            ax.plot(df['Date'], col[ind])\n",
        "\n",
        "    ax.set_title('Plot of price over time')\n",
        "    ax.set_xlabel('Date')\n",
        "    ax.set_ylabel('Price')\n",
        "\n",
        "    # Automatically set the x-axis date labels based on available space\n",
        "    ax.xaxis.set_major_locator(MaxNLocator(nbins=10))\n",
        "\n",
        "    plt.xticks(rotation=45)  # Rotate x-axis labels for better readability\n",
        "    plt.tight_layout()  # Adjust layout for better appearance\n",
        "    plt.show()"
      ]
    },
    {
      "cell_type": "code",
      "execution_count": 6,
      "metadata": {
        "colab": {
          "base_uri": "https://localhost:8080/",
          "height": 607
        },
        "id": "svCDm-fLMMig",
        "outputId": "6c3ec823-d14d-425c-c68a-1d440c7157b3"
      },
      "outputs": [
        {
          "data": {
            "image/png": "[encoded data removed]",
            "text/plain": [
              "<Figure size 1200x600 with 1 Axes>"
            ]
          },
          "metadata": {},
          "output_type": "display_data"
        }
      ],
      "source": [
        "# plotting data\n",
        "\n",
        "plot_chart(df, [\"Close/Last\"])"
      ]
    },
    {
      "cell_type": "code",
      "execution_count": 7,
      "metadata": {
        "id": "mR1LuaByMMih"
      },
      "outputs": [],
      "source": [
        "def normalize(input, scaler):\n",
        "    output_norm = scaler.fit_transform(input.reshape(-1, 1))\n",
        "    output_norm = output_norm.flatten()\n",
        "    return output_norm"
      ]
    },
    {
      "cell_type": "code",
      "execution_count": 8,
      "metadata": {
        "id": "wdW_zrYiMMih"
      },
      "outputs": [],
      "source": [
        "def denormalize(input_norm, scaler):\n",
        "    output = scaler.inverse_transform(input_norm.reshape(-1, 1))\n",
        "    output = output.flatten()\n",
        "    return output"
      ]
    },
    {
      "cell_type": "code",
      "execution_count": 11,
      "metadata": {
        "id": "Am8kZgXUMMih"
      },
      "outputs": [],
      "source": [
        "# normalizing\n",
        "\n",
        "closing_prices = df[\"Close/Last\"].values\n",
        "apple_closing_prices = apple[\"Close\"].values\n",
        "\n",
        "minmax_scaler = MinMaxScaler(feature_range=(0,1))\n",
        "closing_prices_norm = normalize(closing_prices, minmax_scaler)\n",
        "apple_closing_prices_norm = normalize(apple_closing_prices, minmax_scaler)"
      ]
    },
    {
      "cell_type": "code",
      "execution_count": 12,
      "metadata": {
        "id": "IPd8oB6wMMii"
      },
      "outputs": [],
      "source": [
        "def prep_data(feature_vec_len, data):\n",
        "    features = []\n",
        "    labels = []\n",
        "    data_len = len(data)\n",
        "\n",
        "    for ind in range(data_len):\n",
        "        feature_vec = []\n",
        "        if ind < data_len - feature_vec_len:\n",
        "            for ind2 in range(feature_vec_len):\n",
        "                feature = data[ind + ind2]\n",
        "                feature_vec.append(feature)\n",
        "\n",
        "            label = data[ind + ind2 + 1]\n",
        "            labels.append(label)\n",
        "            features.append(feature_vec)\n",
        "\n",
        "    features = np.array(features)\n",
        "    labels = np.array(labels)\n",
        "\n",
        "    return features, labels"
      ]
    },
    {
      "cell_type": "code",
      "execution_count": 13,
      "metadata": {
        "id": "S0M4xD0uMMii"
      },
      "outputs": [],
      "source": [
        "# generating feature and label vectors\n",
        "\n",
        "feature_vec_len = 14\n",
        "features_norm, labels_norm = prep_data(feature_vec_len, closing_prices_norm)"
      ]
    },
    {
      "cell_type": "code",
      "execution_count": 14,
      "metadata": {
        "id": "IYwplOTWMMii"
      },
      "outputs": [],
      "source": [
        "# splitting into sets\n",
        "\n",
        "X_train_norm, X_temp, y_train_norm, y_temp = train_test_split(features_norm, labels_norm, test_size=0.3, random_state=42, shuffle=False)\n",
        "X_test_norm, X_val_norm, y_test_norm, y_val_norm = train_test_split(X_temp, y_temp, test_size=0.5, random_state=42, shuffle=False)\n",
        "\n",
        "shuffled_indices = np.random.permutation(len(X_train_norm))\n",
        "\n",
        "X_train_norm = X_train_norm[shuffled_indices]\n",
        "y_train_norm = y_train_norm[shuffled_indices]"
      ]
    },
    {
      "cell_type": "markdown",
      "metadata": {
        "id": "eGV4VDdXMMii"
      },
      "source": [
        "### 1. Linear Regression"
      ]
    },
    {
      "cell_type": "code",
      "execution_count": null,
      "metadata": {
        "id": "f5DOmd08MMii"
      },
      "outputs": [],
      "source": [
        "#Technique 1: Linear Regression\n",
        "#fit model to the last X (Hyperparam) days\n",
        "#use model to predict price on day X+1\n",
        "#eval"
      ]
    },
    {
      "cell_type": "code",
      "execution_count": null,
      "metadata": {
        "id": "2VIbgFMzMMij"
      },
      "outputs": [],
      "source": [
        "def fit_lin_reg(feature_vec_len, features_norm):\n",
        "    linear_regressor = LinearRegression()\n",
        "    days = np.arange(feature_vec_len).reshape(-1, 1)\n",
        "    lin_reg_predictions = []\n",
        "\n",
        "    for feature in features_norm:\n",
        "        linear_regressor.fit(days, feature)\n",
        "        pred = linear_regressor.predict(np.array(feature_vec_len + 1).reshape(-1, 1))\n",
        "        lin_reg_predictions.append(pred[0])\n",
        "\n",
        "    return np.array(lin_reg_predictions)"
      ]
    },
    {
      "cell_type": "code",
      "execution_count": null,
      "metadata": {
        "id": "QdSsRY7uMMij"
      },
      "outputs": [],
      "source": [
        "# fit models to every feature vector (split is not needed here)\n",
        "lin_reg_predictions_norm = fit_lin_reg(feature_vec_len, features_norm)"
      ]
    },
    {
      "cell_type": "code",
      "execution_count": 22,
      "metadata": {
        "id": "bHk-iXm0MMij"
      },
      "outputs": [],
      "source": [
        "def eval(predictions, labels):\n",
        "    mae = mean_absolute_error(labels, predictions) #add feature_vec_len: to remove leading zeros\n",
        "    mape = np.mean(np.abs((labels - predictions) / labels)) * 100\n",
        "\n",
        "    return mae, mape"
      ]
    },
    {
      "cell_type": "code",
      "execution_count": null,
      "metadata": {
        "id": "pgpMtT2tMMij",
        "outputId": "94d6ab87-5498-4f3d-e363-0c22b9c18957"
      },
      "outputs": [
        {
          "name": "stdout",
          "output_type": "stream",
          "text": [
            "MAE: 2.057\n",
            "MAPE: 3.619%\n"
          ]
        }
      ],
      "source": [
        "# eval\n",
        "\n",
        "lin_reg_predictions = denormalize(lin_reg_predictions_norm, minmax_scaler)\n",
        "labels = denormalize(labels_norm, minmax_scaler)\n",
        "\n",
        "mae, mape = eval(lin_reg_predictions, labels)\n",
        "\n",
        "print(f\"MAE: {round(mae, 3)}\")\n",
        "print(f\"MAPE: {round(mape, 3)}%\")"
      ]
    },
    {
      "cell_type": "code",
      "execution_count": null,
      "metadata": {
        "id": "Z5gvfr3pMMij",
        "outputId": "ab99e376-aec5-4aa8-d936-7b9e7697837f"
      },
      "outputs": [
        {
          "data": {
            "image/png": "[encoded data removed]",
            "text/plain": [
              "<Figure size 864x432 with 1 Axes>"
            ]
          },
          "metadata": {
            "needs_background": "light"
          },
          "output_type": "display_data"
        }
      ],
      "source": [
        "# plotting\n",
        "\n",
        "start = 100\n",
        "end = 600\n",
        "\n",
        "plot_chart(df[start:end], [labels[start:end], lin_reg_predictions[start:end]], is_df=False)"
      ]
    },
    {
      "cell_type": "code",
      "execution_count": null,
      "metadata": {
        "id": "4TP--uuvMMik",
        "outputId": "b1b959e3-9e29-4ac9-832e-9689bfec4747"
      },
      "outputs": [
        {
          "name": "stderr",
          "output_type": "stream",
          "text": [
            "100%|██████████| 29/29 [00:22<00:00,  1.31it/s]\n"
          ]
        }
      ],
      "source": [
        "# optimal feature vec len search\n",
        "\n",
        "MAE_errors = []\n",
        "MAPE_errors = []\n",
        "\n",
        "for feature_vec_len in tqdm(range(1,30)):\n",
        "    features_norm, labels_norm = prep_data(feature_vec_len, closing_prices_norm)\n",
        "    lin_reg_predictions_norm = fit_lin_reg(feature_vec_len, features_norm)\n",
        "\n",
        "    lin_reg_predictions = denormalize(lin_reg_predictions_norm, minmax_scaler)\n",
        "    labels = denormalize(labels_norm, minmax_scaler)\n",
        "\n",
        "    mae, mape = eval(lin_reg_predictions, labels)\n",
        "\n",
        "    MAE_errors.append(mae)\n",
        "    MAPE_errors.append(mape)"
      ]
    },
    {
      "cell_type": "code",
      "execution_count": null,
      "metadata": {
        "id": "NWT0sqI7MMik",
        "outputId": "7fa13ce9-4220-44a8-b7df-ad742268af90"
      },
      "outputs": [
        {
          "name": "stdout",
          "output_type": "stream",
          "text": [
            "Lowest MAE is 1.337, with feature vec len = 1 (just copies close from prev day)\n",
            "Lowest MAPE is 2.401%, with feature vec len = 1 (just copies close from prev day)\n",
            "\n",
            "\n",
            "Lowest MAE is 2.057, with non-trivial feature vec len = 6\n",
            "Lowest MAPE is 3.619%, with non-trivial feature vec len = 6\n"
          ]
        },
        {
          "data": {
            "text/plain": [
              "<matplotlib.lines.Line2D at 0x2a67f72f190>"
            ]
          },
          "execution_count": 50,
          "metadata": {},
          "output_type": "execute_result"
        },
        {
          "data": {
            "image/png": "[encoded data removed]",
            "text/plain": [
              "<Figure size 432x288 with 1 Axes>"
            ]
          },
          "metadata": {
            "needs_background": "light"
          },
          "output_type": "display_data"
        }
      ],
      "source": [
        "x_values = np.arange(1, len(MAE_errors) + 1)\n",
        "plt.plot(x_values, MAE_errors)\n",
        "plt.xticks(np.arange(1, len(MAE_errors) + 1, 1))\n",
        "\n",
        "best_feat_vec_len_MAE, best_MAE = min(enumerate(MAE_errors), key=lambda x: x[1])\n",
        "print(f\"Lowest MAE is {round(best_MAE, 3)}, with feature vec len = {best_feat_vec_len_MAE + 1} (just copies close from prev day)\")\n",
        "\n",
        "best_feat_vec_len_MAPE, best_MAPE = min(enumerate(MAPE_errors), key=lambda x: x[1])\n",
        "print(f\"Lowest MAPE is {round(best_MAPE, 3)}%, with feature vec len = {best_feat_vec_len_MAPE + 1} (just copies close from prev day)\")\n",
        "\n",
        "MAE_errors_copy = MAE_errors.copy()\n",
        "MAPE_errors_copy = MAPE_errors.copy()\n",
        "\n",
        "print(\"\\n\")\n",
        "\n",
        "MAE_errors_copy[best_feat_vec_len_MAE] = 1000000\n",
        "MAPE_errors_copy[best_feat_vec_len_MAPE] = 1000000\n",
        "\n",
        "sec_best_feat_vec_len_MAE, sec_best_MAE = min(enumerate(MAE_errors_copy), key=lambda x: x[1])\n",
        "print(f\"Lowest MAE is {round(sec_best_MAE, 3)}, with non-trivial feature vec len = {sec_best_feat_vec_len_MAE + 1}\")\n",
        "\n",
        "sec_best_feat_vec_len_MAPE, sec_best_MAPE = min(enumerate(MAPE_errors_copy), key=lambda x: x[1])\n",
        "print(f\"Lowest MAPE is {round(sec_best_MAPE, 3)}%, with non-trivial feature vec len = {sec_best_feat_vec_len_MAPE + 1}\")\n",
        "\n",
        "plt.axvline(x=sec_best_feat_vec_len_MAE + 1, color='red', linestyle='--')"
      ]
    },
    {
      "cell_type": "code",
      "execution_count": null,
      "metadata": {
        "id": "offigjZTMMik",
        "outputId": "f5e3eebf-4ad2-4353-fe9b-989d847845b8"
      },
      "outputs": [
        {
          "name": "stdout",
          "output_type": "stream",
          "text": [
            "[1847.61 1845.12 1845.16 ... 5005.57 4975.51 4981.8 ]\n",
            "Average change in closing price from day to day: 0.045%\n"
          ]
        }
      ],
      "source": [
        "# How much does the price change from day to day on average?\n",
        "print(closing_prices)\n",
        "percentage_changes = ((closing_prices[1:] - closing_prices[:-1]) / closing_prices[:-1]) * 100\n",
        "\n",
        "# Calculate the average percentage change\n",
        "average_percentage_change = np.mean(percentage_changes)\n",
        "\n",
        "print(f\"Average change in closing price from day to day: {round(average_percentage_change, 3)}%\") #modelle die schlechter sind als das sind komplett nutzlos"
      ]
    },
    {
      "cell_type": "markdown",
      "metadata": {
        "id": "pqx4v_leMMil"
      },
      "source": [
        "Can I find a method that is better than just copying the value from the previous day?"
      ]
    },
    {
      "cell_type": "markdown",
      "metadata": {
        "id": "FRyoFs0WMMil"
      },
      "source": [
        "### 2. Multilayer Perceptron"
      ]
    },
    {
      "cell_type": "code",
      "execution_count": null,
      "metadata": {
        "id": "aMK4CK6eMMil"
      },
      "outputs": [],
      "source": [
        "def create_model(feature_vec_len):\n",
        "    mlp_model = Sequential()\n",
        "    mlp_model.add(Dense(units=128, input_dim=feature_vec_len, activation='relu'))\n",
        "    mlp_model.add(Dense(units=64, activation='relu'))\n",
        "    mlp_model.add(Dense(units=32, activation='relu'))\n",
        "    mlp_model.add(Dense(units=16, activation='relu'))\n",
        "    mlp_model.add(Dense(units=8, activation='relu'))\n",
        "    mlp_model.add(Dense(units=4, activation='relu'))\n",
        "    mlp_model.add(Dense(units=1, activation='linear'))\n",
        "\n",
        "    mlp_model.compile(optimizer='adam', loss='mae')\n",
        "    return mlp_model"
      ]
    },
    {
      "cell_type": "code",
      "execution_count": null,
      "metadata": {
        "id": "iRGyOJfAMMil",
        "outputId": "22d6503a-f13d-4101-df92-8c73958ff415"
      },
      "outputs": [
        {
          "name": "stdout",
          "output_type": "stream",
          "text": [
            "Model: \"sequential_8\"\n",
            "_________________________________________________________________\n",
            " Layer (type)                Output Shape              Param #   \n",
            "=================================================================\n",
            " dense_56 (Dense)            (None, 128)               896       \n",
            "                                                                 \n",
            " dense_57 (Dense)            (None, 64)                8256      \n",
            "                                                                 \n",
            " dense_58 (Dense)            (None, 32)                2080      \n",
            "                                                                 \n",
            " dense_59 (Dense)            (None, 16)                528       \n",
            "                                                                 \n",
            " dense_60 (Dense)            (None, 8)                 136       \n",
            "                                                                 \n",
            " dense_61 (Dense)            (None, 4)                 36        \n",
            "                                                                 \n",
            " dense_62 (Dense)            (None, 1)                 5         \n",
            "                                                                 \n",
            "=================================================================\n",
            "Total params: 11937 (46.63 KB)\n",
            "Trainable params: 11937 (46.63 KB)\n",
            "Non-trainable params: 0 (0.00 Byte)\n",
            "_________________________________________________________________\n",
            "None\n"
          ]
        }
      ],
      "source": [
        "# init model\n",
        "\n",
        "mlp_model = create_model(feature_vec_len)\n",
        "print(mlp_model.summary())"
      ]
    },
    {
      "cell_type": "code",
      "execution_count": 17,
      "metadata": {
        "id": "gTxq8fc-MMil"
      },
      "outputs": [],
      "source": [
        "def train(model, X_train, y_train):\n",
        "    history = model.fit(X_train, y_train, epochs=50, batch_size=1, validation_data=(X_val_norm, y_val_norm), verbose=1)\n",
        "    return history"
      ]
    },
    {
      "cell_type": "code",
      "execution_count": null,
      "metadata": {
        "id": "a7nMrgt4MMim",
        "outputId": "f55f2493-c84a-47be-e7e4-8cee5058d069"
      },
      "outputs": [
        {
          "name": "stdout",
          "output_type": "stream",
          "text": [
            "Epoch 1/50\n",
            "1767/1767 [==============================] - 5s 2ms/step - loss: 0.0252 - val_loss: 0.0209\n",
            "Epoch 2/50\n",
            "1767/1767 [==============================] - 3s 2ms/step - loss: 0.0130 - val_loss: 0.0221\n",
            "Epoch 3/50\n",
            "1767/1767 [==============================] - 3s 2ms/step - loss: 0.0122 - val_loss: 0.0295\n",
            "Epoch 4/50\n",
            "1767/1767 [==============================] - 3s 2ms/step - loss: 0.0117 - val_loss: 0.0205\n",
            "Epoch 5/50\n",
            "1767/1767 [==============================] - 3s 2ms/step - loss: 0.0111 - val_loss: 0.0142\n",
            "Epoch 6/50\n",
            "1767/1767 [==============================] - 3s 2ms/step - loss: 0.0103 - val_loss: 0.0407\n",
            "Epoch 7/50\n",
            "1767/1767 [==============================] - 4s 2ms/step - loss: 0.0099 - val_loss: 0.0501\n",
            "Epoch 8/50\n",
            "1767/1767 [==============================] - 4s 2ms/step - loss: 0.0098 - val_loss: 0.0156\n",
            "Epoch 9/50\n",
            "1767/1767 [==============================] - 4s 2ms/step - loss: 0.0095 - val_loss: 0.0894\n",
            "Epoch 10/50\n",
            "1767/1767 [==============================] - 5s 3ms/step - loss: 0.0099 - val_loss: 0.0307\n",
            "Epoch 11/50\n",
            "1767/1767 [==============================] - 4s 2ms/step - loss: 0.0089 - val_loss: 0.0155\n",
            "Epoch 12/50\n",
            "1767/1767 [==============================] - 3s 2ms/step - loss: 0.0092 - val_loss: 0.0468\n",
            "Epoch 13/50\n",
            "1767/1767 [==============================] - 3s 2ms/step - loss: 0.0091 - val_loss: 0.0239\n",
            "Epoch 14/50\n",
            "1767/1767 [==============================] - 3s 2ms/step - loss: 0.0088 - val_loss: 0.0540\n",
            "Epoch 15/50\n",
            "1767/1767 [==============================] - 3s 2ms/step - loss: 0.0101 - val_loss: 0.0227\n",
            "Epoch 16/50\n",
            "1767/1767 [==============================] - 3s 2ms/step - loss: 0.0091 - val_loss: 0.0234\n",
            "Epoch 17/50\n",
            "1767/1767 [==============================] - 3s 2ms/step - loss: 0.0088 - val_loss: 0.0223\n",
            "Epoch 18/50\n",
            "1767/1767 [==============================] - 3s 2ms/step - loss: 0.0088 - val_loss: 0.0506\n",
            "Epoch 19/50\n",
            "1767/1767 [==============================] - 3s 2ms/step - loss: 0.0091 - val_loss: 0.0193\n",
            "Epoch 20/50\n",
            "1767/1767 [==============================] - 3s 2ms/step - loss: 0.0092 - val_loss: 0.0198\n",
            "Epoch 21/50\n",
            "1767/1767 [==============================] - 3s 2ms/step - loss: 0.0085 - val_loss: 0.0438\n",
            "Epoch 22/50\n",
            "1767/1767 [==============================] - 3s 2ms/step - loss: 0.0090 - val_loss: 0.0672\n",
            "Epoch 23/50\n",
            "1767/1767 [==============================] - 3s 2ms/step - loss: 0.0085 - val_loss: 0.0255\n",
            "Epoch 24/50\n",
            "1767/1767 [==============================] - 3s 2ms/step - loss: 0.0085 - val_loss: 0.0179\n",
            "Epoch 25/50\n",
            "1767/1767 [==============================] - 3s 2ms/step - loss: 0.0086 - val_loss: 0.0226\n",
            "Epoch 26/50\n",
            "1767/1767 [==============================] - 3s 2ms/step - loss: 0.0083 - val_loss: 0.0207\n",
            "Epoch 27/50\n",
            "1767/1767 [==============================] - 3s 2ms/step - loss: 0.0082 - val_loss: 0.0317\n",
            "Epoch 28/50\n",
            "1767/1767 [==============================] - 3s 2ms/step - loss: 0.0083 - val_loss: 0.0339\n",
            "Epoch 29/50\n",
            "1767/1767 [==============================] - 3s 2ms/step - loss: 0.0082 - val_loss: 0.0240\n",
            "Epoch 30/50\n",
            "1767/1767 [==============================] - 3s 2ms/step - loss: 0.0086 - val_loss: 0.0273\n",
            "Epoch 31/50\n",
            "1767/1767 [==============================] - 3s 2ms/step - loss: 0.0082 - val_loss: 0.0248\n",
            "Epoch 32/50\n",
            "1767/1767 [==============================] - 3s 2ms/step - loss: 0.0083 - val_loss: 0.0694\n",
            "Epoch 33/50\n",
            "1767/1767 [==============================] - 4s 2ms/step - loss: 0.0085 - val_loss: 0.0240\n",
            "Epoch 34/50\n",
            "1767/1767 [==============================] - 3s 2ms/step - loss: 0.0081 - val_loss: 0.0219\n",
            "Epoch 35/50\n",
            "1767/1767 [==============================] - 3s 2ms/step - loss: 0.0083 - val_loss: 0.0319\n",
            "Epoch 36/50\n",
            "1767/1767 [==============================] - 3s 2ms/step - loss: 0.0085 - val_loss: 0.0230\n",
            "Epoch 37/50\n",
            "1767/1767 [==============================] - 3s 2ms/step - loss: 0.0083 - val_loss: 0.0543\n",
            "Epoch 38/50\n",
            "1767/1767 [==============================] - 3s 2ms/step - loss: 0.0081 - val_loss: 0.0242\n",
            "Epoch 39/50\n",
            "1767/1767 [==============================] - 3s 2ms/step - loss: 0.0081 - val_loss: 0.0269\n",
            "Epoch 40/50\n",
            "1767/1767 [==============================] - 3s 2ms/step - loss: 0.0081 - val_loss: 0.0333\n",
            "Epoch 41/50\n",
            "1767/1767 [==============================] - 3s 2ms/step - loss: 0.0081 - val_loss: 0.0356\n",
            "Epoch 42/50\n",
            "1767/1767 [==============================] - 4s 2ms/step - loss: 0.0078 - val_loss: 0.0306\n",
            "Epoch 43/50\n",
            "1767/1767 [==============================] - 3s 2ms/step - loss: 0.0076 - val_loss: 0.0143\n",
            "Epoch 44/50\n",
            "1767/1767 [==============================] - 3s 2ms/step - loss: 0.0081 - val_loss: 0.0172\n",
            "Epoch 45/50\n",
            "1767/1767 [==============================] - 3s 2ms/step - loss: 0.0080 - val_loss: 0.0302\n",
            "Epoch 46/50\n",
            "1767/1767 [==============================] - 4s 2ms/step - loss: 0.0076 - val_loss: 0.0182\n",
            "Epoch 47/50\n",
            "1767/1767 [==============================] - 3s 2ms/step - loss: 0.0082 - val_loss: 0.0250\n",
            "Epoch 48/50\n",
            "1767/1767 [==============================] - 3s 2ms/step - loss: 0.0079 - val_loss: 0.0201\n",
            "Epoch 49/50\n",
            "1767/1767 [==============================] - 3s 2ms/step - loss: 0.0077 - val_loss: 0.0182\n",
            "Epoch 50/50\n",
            "1767/1767 [==============================] - 3s 2ms/step - loss: 0.0078 - val_loss: 0.0186\n"
          ]
        }
      ],
      "source": [
        "# training\n",
        "\n",
        "history = train(mlp_model, X_train_norm, y_train_norm)"
      ]
    },
    {
      "cell_type": "code",
      "execution_count": 18,
      "metadata": {
        "id": "1nBdhUsBMMim"
      },
      "outputs": [],
      "source": [
        "def plot_loss(history, training=True):\n",
        "    if training:\n",
        "        training_loss = history.history[\"loss\"]\n",
        "        plt.plot(training_loss)\n",
        "        plt.title('Training Loss Over Epochs')\n",
        "    else:\n",
        "        validation_loss = history.history[\"val_loss\"]\n",
        "        plt.plot(validation_loss)\n",
        "        plt.title('Validation Loss Over Epochs')\n",
        "    plt.xlabel('Epochs')\n",
        "    plt.ylabel('Mean Average Error Loss')\n",
        "    plt.show()"
      ]
    },
    {
      "cell_type": "code",
      "execution_count": null,
      "metadata": {
        "id": "u3TiQ0lPMMim",
        "outputId": "365d52a2-744c-47c6-d7df-92295f591126"
      },
      "outputs": [
        {
          "data": {
            "image/png": "[encoded data removed]",
            "text/plain": [
              "<Figure size 432x288 with 1 Axes>"
            ]
          },
          "metadata": {
            "needs_background": "light"
          },
          "output_type": "display_data"
        },
        {
          "data": {
            "image/png": "[encoded data removed]",
            "text/plain": [
              "<Figure size 432x288 with 1 Axes>"
            ]
          },
          "metadata": {
            "needs_background": "light"
          },
          "output_type": "display_data"
        }
      ],
      "source": [
        "# plotting training loss\n",
        "\n",
        "plot_loss(history)\n",
        "plot_loss(history, training=False)"
      ]
    },
    {
      "cell_type": "code",
      "execution_count": null,
      "metadata": {
        "id": "B5oTj9j6MMim",
        "outputId": "27095941-9dee-4c12-8b3e-4d373c32bb05"
      },
      "outputs": [
        {
          "name": "stdout",
          "output_type": "stream",
          "text": [
            "12/12 [==============================] - 0s 2ms/step\n",
            "MAE: 3.162\n",
            "MAPE: 2.133%\n"
          ]
        }
      ],
      "source": [
        "# eval\n",
        "\n",
        "mlp_predictions_norm = mlp_model.predict(X_test_norm)\n",
        "\n",
        "#todo denormalize\n",
        "mlp_predictions = denormalize(mlp_predictions_norm, minmax_scaler)\n",
        "y_test = denormalize(y_test_norm, minmax_scaler)\n",
        "\n",
        "mae, mape = eval(mlp_predictions, y_test)\n",
        "\n",
        "print(f\"MAE: {round(mae, 3)}\")\n",
        "print(f\"MAPE: {round(mape, 3)}%\")"
      ]
    },
    {
      "cell_type": "code",
      "execution_count": null,
      "metadata": {
        "id": "A_8y9a4UMMin",
        "outputId": "d54a1c86-ab35-427f-d0d5-696656012bd8"
      },
      "outputs": [
        {
          "data": {
            "image/png": "[encoded data removed]",
            "text/plain": [
              "<Figure size 864x432 with 1 Axes>"
            ]
          },
          "metadata": {
            "needs_background": "light"
          },
          "output_type": "display_data"
        }
      ],
      "source": [
        "# plotting\n",
        "\n",
        "start = 0\n",
        "end = 300\n",
        "\n",
        "plot_chart(df[start:end], [y_test[start:end], mlp_predictions[start:end]], is_df=False)"
      ]
    },
    {
      "cell_type": "code",
      "execution_count": null,
      "metadata": {
        "id": "B0R0qcY2MMin",
        "outputId": "adecb789-9eb1-4ef9-dd9e-f6ebe2961608"
      },
      "outputs": [
        {
          "name": "stderr",
          "output_type": "stream",
          "text": [
            "  0%|          | 0/29 [00:00<?, ?it/s]"
          ]
        },
        {
          "name": "stdout",
          "output_type": "stream",
          "text": [
            "12/12 [==============================] - 0s 2ms/step\n"
          ]
        },
        {
          "name": "stderr",
          "output_type": "stream",
          "text": [
            "  3%|▎         | 1/29 [01:15<35:03, 75.13s/it]"
          ]
        },
        {
          "name": "stdout",
          "output_type": "stream",
          "text": [
            "12/12 [==============================] - 0s 2ms/step\n"
          ]
        },
        {
          "name": "stderr",
          "output_type": "stream",
          "text": [
            "  7%|▋         | 2/29 [02:26<32:46, 72.84s/it]"
          ]
        },
        {
          "name": "stdout",
          "output_type": "stream",
          "text": [
            "12/12 [==============================] - 0s 2ms/step\n"
          ]
        },
        {
          "name": "stderr",
          "output_type": "stream",
          "text": [
            " 10%|█         | 3/29 [03:37<31:10, 71.93s/it]"
          ]
        },
        {
          "name": "stdout",
          "output_type": "stream",
          "text": [
            "12/12 [==============================] - 0s 2ms/step\n"
          ]
        },
        {
          "name": "stderr",
          "output_type": "stream",
          "text": [
            " 14%|█▍        | 4/29 [04:48<29:50, 71.61s/it]"
          ]
        },
        {
          "name": "stdout",
          "output_type": "stream",
          "text": [
            "12/12 [==============================] - 0s 2ms/step\n"
          ]
        },
        {
          "name": "stderr",
          "output_type": "stream",
          "text": [
            " 17%|█▋        | 5/29 [05:59<28:31, 71.31s/it]"
          ]
        },
        {
          "name": "stdout",
          "output_type": "stream",
          "text": [
            "12/12 [==============================] - 0s 2ms/step\n"
          ]
        },
        {
          "name": "stderr",
          "output_type": "stream",
          "text": [
            " 21%|██        | 6/29 [07:10<27:23, 71.45s/it]"
          ]
        },
        {
          "name": "stdout",
          "output_type": "stream",
          "text": [
            "12/12 [==============================] - 0s 3ms/step\n"
          ]
        },
        {
          "name": "stderr",
          "output_type": "stream",
          "text": [
            " 24%|██▍       | 7/29 [08:22<26:11, 71.43s/it]"
          ]
        },
        {
          "name": "stdout",
          "output_type": "stream",
          "text": [
            "12/12 [==============================] - 0s 2ms/step\n"
          ]
        },
        {
          "name": "stderr",
          "output_type": "stream",
          "text": [
            " 28%|██▊       | 8/29 [09:37<25:28, 72.77s/it]"
          ]
        },
        {
          "name": "stdout",
          "output_type": "stream",
          "text": [
            "12/12 [==============================] - 0s 2ms/step\n"
          ]
        },
        {
          "name": "stderr",
          "output_type": "stream",
          "text": [
            " 31%|███       | 9/29 [10:53<24:32, 73.63s/it]"
          ]
        },
        {
          "name": "stdout",
          "output_type": "stream",
          "text": [
            "12/12 [==============================] - 0s 3ms/step\n"
          ]
        },
        {
          "name": "stderr",
          "output_type": "stream",
          "text": [
            " 34%|███▍      | 10/29 [12:09<23:33, 74.41s/it]"
          ]
        },
        {
          "name": "stdout",
          "output_type": "stream",
          "text": [
            "12/12 [==============================] - 0s 2ms/step\n"
          ]
        },
        {
          "name": "stderr",
          "output_type": "stream",
          "text": [
            " 38%|███▊      | 11/29 [13:24<22:20, 74.45s/it]"
          ]
        },
        {
          "name": "stdout",
          "output_type": "stream",
          "text": [
            "12/12 [==============================] - 0s 2ms/step\n"
          ]
        },
        {
          "name": "stderr",
          "output_type": "stream",
          "text": [
            " 41%|████▏     | 12/29 [14:38<21:05, 74.43s/it]"
          ]
        },
        {
          "name": "stdout",
          "output_type": "stream",
          "text": [
            "12/12 [==============================] - 0s 2ms/step\n"
          ]
        },
        {
          "name": "stderr",
          "output_type": "stream",
          "text": [
            " 45%|████▍     | 13/29 [15:50<19:40, 73.78s/it]"
          ]
        },
        {
          "name": "stdout",
          "output_type": "stream",
          "text": [
            "12/12 [==============================] - 0s 2ms/step\n"
          ]
        },
        {
          "name": "stderr",
          "output_type": "stream",
          "text": [
            " 48%|████▊     | 14/29 [17:00<18:10, 72.68s/it]"
          ]
        },
        {
          "name": "stdout",
          "output_type": "stream",
          "text": [
            "12/12 [==============================] - 0s 2ms/step\n"
          ]
        },
        {
          "name": "stderr",
          "output_type": "stream",
          "text": [
            " 52%|█████▏    | 15/29 [18:09<16:40, 71.45s/it]"
          ]
        },
        {
          "name": "stdout",
          "output_type": "stream",
          "text": [
            "12/12 [==============================] - 0s 2ms/step\n"
          ]
        },
        {
          "name": "stderr",
          "output_type": "stream",
          "text": [
            " 55%|█████▌    | 16/29 [19:18<15:18, 70.66s/it]"
          ]
        },
        {
          "name": "stdout",
          "output_type": "stream",
          "text": [
            "12/12 [==============================] - 0s 2ms/step\n"
          ]
        },
        {
          "name": "stderr",
          "output_type": "stream",
          "text": [
            " 59%|█████▊    | 17/29 [20:27<14:03, 70.26s/it]"
          ]
        },
        {
          "name": "stdout",
          "output_type": "stream",
          "text": [
            "12/12 [==============================] - 0s 2ms/step\n"
          ]
        },
        {
          "name": "stderr",
          "output_type": "stream",
          "text": [
            " 62%|██████▏   | 18/29 [21:36<12:49, 69.93s/it]"
          ]
        },
        {
          "name": "stdout",
          "output_type": "stream",
          "text": [
            "12/12 [==============================] - 0s 2ms/step\n"
          ]
        },
        {
          "name": "stderr",
          "output_type": "stream",
          "text": [
            " 66%|██████▌   | 19/29 [22:49<11:49, 70.90s/it]"
          ]
        },
        {
          "name": "stdout",
          "output_type": "stream",
          "text": [
            "12/12 [==============================] - 0s 3ms/step\n"
          ]
        },
        {
          "name": "stderr",
          "output_type": "stream",
          "text": [
            " 69%|██████▉   | 20/29 [24:04<10:48, 72.02s/it]"
          ]
        },
        {
          "name": "stdout",
          "output_type": "stream",
          "text": [
            "12/12 [==============================] - 0s 2ms/step\n"
          ]
        },
        {
          "name": "stderr",
          "output_type": "stream",
          "text": [
            " 72%|███████▏  | 21/29 [25:21<09:46, 73.36s/it]"
          ]
        },
        {
          "name": "stdout",
          "output_type": "stream",
          "text": [
            "12/12 [==============================] - 0s 3ms/step\n"
          ]
        },
        {
          "name": "stderr",
          "output_type": "stream",
          "text": [
            " 76%|███████▌  | 22/29 [26:35<08:34, 73.54s/it]"
          ]
        },
        {
          "name": "stdout",
          "output_type": "stream",
          "text": [
            "12/12 [==============================] - 0s 2ms/step\n"
          ]
        },
        {
          "name": "stderr",
          "output_type": "stream",
          "text": [
            " 79%|███████▉  | 23/29 [27:49<07:23, 73.87s/it]"
          ]
        },
        {
          "name": "stdout",
          "output_type": "stream",
          "text": [
            "12/12 [==============================] - 0s 2ms/step\n"
          ]
        },
        {
          "name": "stderr",
          "output_type": "stream",
          "text": [
            " 83%|████████▎ | 24/29 [29:04<06:10, 74.19s/it]"
          ]
        },
        {
          "name": "stdout",
          "output_type": "stream",
          "text": [
            "12/12 [==============================] - 0s 2ms/step\n"
          ]
        },
        {
          "name": "stderr",
          "output_type": "stream",
          "text": [
            " 86%|████████▌ | 25/29 [30:20<04:58, 74.59s/it]"
          ]
        },
        {
          "name": "stdout",
          "output_type": "stream",
          "text": [
            "12/12 [==============================] - 0s 2ms/step\n"
          ]
        },
        {
          "name": "stderr",
          "output_type": "stream",
          "text": [
            " 90%|████████▉ | 26/29 [31:35<03:44, 74.90s/it]"
          ]
        },
        {
          "name": "stdout",
          "output_type": "stream",
          "text": [
            "12/12 [==============================] - 0s 2ms/step\n"
          ]
        },
        {
          "name": "stderr",
          "output_type": "stream",
          "text": [
            " 93%|█████████▎| 27/29 [32:50<02:29, 74.93s/it]"
          ]
        },
        {
          "name": "stdout",
          "output_type": "stream",
          "text": [
            "12/12 [==============================] - 0s 2ms/step\n"
          ]
        },
        {
          "name": "stderr",
          "output_type": "stream",
          "text": [
            " 97%|█████████▋| 28/29 [34:05<01:14, 74.82s/it]"
          ]
        },
        {
          "name": "stdout",
          "output_type": "stream",
          "text": [
            "12/12 [==============================] - 0s 2ms/step\n"
          ]
        },
        {
          "name": "stderr",
          "output_type": "stream",
          "text": [
            "100%|██████████| 29/29 [35:21<00:00, 73.14s/it]\n"
          ]
        }
      ],
      "source": [
        "# optimal feature vec len search\n",
        "\n",
        "MAE_errors = []\n",
        "MAPE_errors = []\n",
        "\n",
        "for feature_vec_len in tqdm(range(1,30)):\n",
        "    features_norm, labels_norm = prep_data(feature_vec_len, closing_prices_norm)\n",
        "    lin_reg_predictions_norm = fit_lin_reg(feature_vec_len, features_norm)\n",
        "\n",
        "    X_train_norm, X_temp, y_train_norm, y_temp = train_test_split(features_norm, labels_norm, test_size=0.3, random_state=42, shuffle=False)\n",
        "    X_test_norm, X_val_norm, y_test_norm, y_val_norm = train_test_split(X_temp, y_temp, test_size=0.5, random_state=42, shuffle=False)\n",
        "    shuffled_indices = np.random.permutation(len(X_train_norm))\n",
        "    X_train_norm = X_train_norm[shuffled_indices]\n",
        "    y_train_norm = y_train_norm[shuffled_indices]\n",
        "\n",
        "    mlp_model = create_model(feature_vec_len)\n",
        "    history = train(mlp_model, X_train_norm, y_train_norm)\n",
        "\n",
        "    mlp_predictions_norm = mlp_model.predict(X_test_norm)\n",
        "\n",
        "    mlp_predictions = denormalize(mlp_predictions_norm, minmax_scaler)\n",
        "    y_test = denormalize(y_test_norm, minmax_scaler)\n",
        "\n",
        "    mae, mape = eval(mlp_predictions, y_test)\n",
        "\n",
        "    MAE_errors.append(mae)\n",
        "    MAPE_errors.append(mape)"
      ]
    },
    {
      "cell_type": "code",
      "execution_count": null,
      "metadata": {
        "id": "WPGqEod6MMin",
        "outputId": "0c9bed02-e05a-48cc-9447-a1511920415d"
      },
      "outputs": [
        {
          "name": "stdout",
          "output_type": "stream",
          "text": [
            "Lowest MAE is 38.905, with feature vec len = 5\n",
            "Lowest MAPE is 0.916%, with feature vec len = 5\n"
          ]
        },
        {
          "data": {
            "text/plain": [
              "<matplotlib.lines.Line2D at 0x1ad4d27e4c0>"
            ]
          },
          "execution_count": 587,
          "metadata": {},
          "output_type": "execute_result"
        },
        {
          "data": {
            "image/png": "[encoded data removed]",
            "text/plain": [
              "<Figure size 432x288 with 1 Axes>"
            ]
          },
          "metadata": {
            "needs_background": "light"
          },
          "output_type": "display_data"
        }
      ],
      "source": [
        "x_values = np.arange(1, len(MAE_errors) + 1)\n",
        "plt.plot(x_values, MAE_errors)\n",
        "plt.xticks(np.arange(1, len(MAE_errors) + 1, 1))\n",
        "\n",
        "best_feat_vec_len_MAE, best_MAE = min(enumerate(MAE_errors), key=lambda x: x[1])\n",
        "print(f\"Lowest MAE is {round(best_MAE, 3)}, with feature vec len = {best_feat_vec_len_MAE + 1}\")\n",
        "\n",
        "best_feat_vec_len_MAPE, best_MAPE = min(enumerate(MAPE_errors), key=lambda x: x[1])\n",
        "print(f\"Lowest MAPE is {round(best_MAPE, 3)}%, with feature vec len = {best_feat_vec_len_MAPE + 1}\")\n",
        "\n",
        "plt.axvline(x=best_feat_vec_len_MAE + 1, color='red', linestyle='--', label='X=5')"
      ]
    },
    {
      "cell_type": "markdown",
      "metadata": {
        "id": "OzlF-gwPMMin"
      },
      "source": [
        "### 3. LSTM"
      ]
    },
    {
      "cell_type": "code",
      "execution_count": null,
      "metadata": {
        "id": "tkgNgS02MMin",
        "outputId": "845aa79e-96be-4c82-c66c-3d06937ee11b"
      },
      "outputs": [
        {
          "name": "stdout",
          "output_type": "stream",
          "text": [
            "Model: \"sequential_11\"\n",
            "_________________________________________________________________\n",
            " Layer (type)                Output Shape              Param #   \n",
            "=================================================================\n",
            " lstm_2 (LSTM)               (None, 14, 64)            16896     \n",
            "                                                                 \n",
            " lstm_3 (LSTM)               (None, 32)                12416     \n",
            "                                                                 \n",
            " dense_65 (Dense)            (None, 16)                528       \n",
            "                                                                 \n",
            " dense_66 (Dense)            (None, 8)                 136       \n",
            "                                                                 \n",
            " dense_67 (Dense)            (None, 1)                 9         \n",
            "                                                                 \n",
            "=================================================================\n",
            "Total params: 29985 (117.13 KB)\n",
            "Trainable params: 29985 (117.13 KB)\n",
            "Non-trainable params: 0 (0.00 Byte)\n",
            "_________________________________________________________________\n",
            "None\n"
          ]
        }
      ],
      "source": [
        "# init model\n",
        "\n",
        "lstm_model = Sequential()\n",
        "lstm_model.add(LSTM(units=64, input_shape=(feature_vec_len, 1), activation='relu', return_sequences=True))\n",
        "lstm_model.add(LSTM(units=32, activation='relu'))\n",
        "lstm_model.add(Dense(units=16, activation='relu'))\n",
        "lstm_model.add(Dense(units=8, activation='relu'))\n",
        "lstm_model.add(Dense(units=1, activation='linear'))\n",
        "lstm_model.compile(optimizer='adam', loss='mean_absolute_error')\n",
        "print(lstm_model.summary())"
      ]
    },
    {
      "cell_type": "code",
      "execution_count": null,
      "metadata": {
        "id": "_CYEfExCMMio",
        "outputId": "b0439798-d73d-4bdf-d813-c4ebbd29a18c"
      },
      "outputs": [
        {
          "name": "stdout",
          "output_type": "stream",
          "text": [
            "Epoch 1/50\n",
            "1761/1761 [==============================] - 13s 6ms/step - loss: 0.0232 - val_loss: 0.0261\n",
            "Epoch 2/50\n",
            "1761/1761 [==============================] - 10s 6ms/step - loss: 0.0164 - val_loss: 0.0333\n",
            "Epoch 3/50\n",
            "1761/1761 [==============================] - 10s 6ms/step - loss: 0.0152 - val_loss: 0.0177\n",
            "Epoch 4/50\n",
            "1761/1761 [==============================] - 11s 6ms/step - loss: 0.0135 - val_loss: 0.0206\n",
            "Epoch 5/50\n",
            "1761/1761 [==============================] - 10s 6ms/step - loss: 0.0128 - val_loss: 0.0137\n",
            "Epoch 6/50\n",
            "1761/1761 [==============================] - 10s 6ms/step - loss: 0.0106 - val_loss: 0.0175\n",
            "Epoch 7/50\n",
            "1761/1761 [==============================] - 10s 6ms/step - loss: 0.0107 - val_loss: 0.0237\n",
            "Epoch 8/50\n",
            "1761/1761 [==============================] - 10s 6ms/step - loss: 0.0110 - val_loss: 0.0176\n",
            "Epoch 9/50\n",
            "1761/1761 [==============================] - 11s 6ms/step - loss: 0.0100 - val_loss: 0.0130\n",
            "Epoch 10/50\n",
            "1761/1761 [==============================] - 10s 6ms/step - loss: 0.0095 - val_loss: 0.0171\n",
            "Epoch 11/50\n",
            "1761/1761 [==============================] - 10s 6ms/step - loss: 0.0094 - val_loss: 0.0129\n",
            "Epoch 12/50\n",
            "1761/1761 [==============================] - 10s 6ms/step - loss: 0.0093 - val_loss: 0.0158\n",
            "Epoch 13/50\n",
            "1761/1761 [==============================] - 10s 6ms/step - loss: 0.0090 - val_loss: 0.0148\n",
            "Epoch 14/50\n",
            "1761/1761 [==============================] - 10s 6ms/step - loss: 0.0090 - val_loss: 0.0162\n",
            "Epoch 15/50\n",
            "1761/1761 [==============================] - 11s 6ms/step - loss: 0.0087 - val_loss: 0.0157\n",
            "Epoch 16/50\n",
            "1761/1761 [==============================] - 11s 6ms/step - loss: 0.0093 - val_loss: 0.0275\n",
            "Epoch 17/50\n",
            "1761/1761 [==============================] - 11s 6ms/step - loss: 0.0086 - val_loss: 0.0109\n",
            "Epoch 18/50\n",
            "1761/1761 [==============================] - 10s 6ms/step - loss: 0.0087 - val_loss: 0.0352\n",
            "Epoch 19/50\n",
            "1761/1761 [==============================] - 10s 6ms/step - loss: 0.0080 - val_loss: 0.0180\n",
            "Epoch 20/50\n",
            "1761/1761 [==============================] - 10s 6ms/step - loss: 0.0084 - val_loss: 0.0235\n",
            "Epoch 21/50\n",
            "1761/1761 [==============================] - 11s 6ms/step - loss: 0.0083 - val_loss: 0.0192\n",
            "Epoch 22/50\n",
            "1761/1761 [==============================] - 10s 6ms/step - loss: 0.0084 - val_loss: 0.0196\n",
            "Epoch 23/50\n",
            "1761/1761 [==============================] - 10s 6ms/step - loss: 0.0084 - val_loss: 0.0161\n",
            "Epoch 24/50\n",
            "1761/1761 [==============================] - 10s 6ms/step - loss: 0.0090 - val_loss: 0.0208\n",
            "Epoch 25/50\n",
            "1761/1761 [==============================] - 11s 6ms/step - loss: 0.0082 - val_loss: 0.0127\n",
            "Epoch 26/50\n",
            "1761/1761 [==============================] - 10s 6ms/step - loss: 0.0085 - val_loss: 0.0103\n",
            "Epoch 27/50\n",
            "1761/1761 [==============================] - 10s 6ms/step - loss: 0.0082 - val_loss: 0.0127\n",
            "Epoch 28/50\n",
            "1761/1761 [==============================] - 10s 6ms/step - loss: 0.0084 - val_loss: 0.0107\n",
            "Epoch 29/50\n",
            "1761/1761 [==============================] - 10s 6ms/step - loss: 0.0085 - val_loss: 0.0301\n",
            "Epoch 30/50\n",
            "1761/1761 [==============================] - 11s 6ms/step - loss: 0.0084 - val_loss: 0.0251\n",
            "Epoch 31/50\n",
            "1761/1761 [==============================] - 10s 6ms/step - loss: 0.0080 - val_loss: 0.0261\n",
            "Epoch 32/50\n",
            "1761/1761 [==============================] - 10s 6ms/step - loss: 0.0081 - val_loss: 0.0117\n",
            "Epoch 33/50\n",
            "1761/1761 [==============================] - 10s 6ms/step - loss: 0.0082 - val_loss: 0.0169\n",
            "Epoch 34/50\n",
            "1761/1761 [==============================] - 11s 6ms/step - loss: 0.0078 - val_loss: 0.0369\n",
            "Epoch 35/50\n",
            "1761/1761 [==============================] - 11s 6ms/step - loss: 0.0078 - val_loss: 0.0384\n",
            "Epoch 36/50\n",
            "1761/1761 [==============================] - 10s 6ms/step - loss: 0.0085 - val_loss: 0.0119\n",
            "Epoch 37/50\n",
            "1761/1761 [==============================] - 10s 6ms/step - loss: 0.0080 - val_loss: 0.0305\n",
            "Epoch 38/50\n",
            "1761/1761 [==============================] - 10s 6ms/step - loss: 0.0081 - val_loss: 0.0118\n",
            "Epoch 39/50\n",
            "1761/1761 [==============================] - 10s 6ms/step - loss: 0.0078 - val_loss: 0.0150\n",
            "Epoch 40/50\n",
            "1761/1761 [==============================] - 10s 6ms/step - loss: 0.0078 - val_loss: 0.0116\n",
            "Epoch 41/50\n",
            "1761/1761 [==============================] - 10s 6ms/step - loss: 0.0080 - val_loss: 0.0172\n",
            "Epoch 42/50\n",
            "1761/1761 [==============================] - 10s 6ms/step - loss: 0.0077 - val_loss: 0.0143\n",
            "Epoch 43/50\n",
            "1761/1761 [==============================] - 10s 6ms/step - loss: 0.0077 - val_loss: 0.0143\n",
            "Epoch 44/50\n",
            "1761/1761 [==============================] - 10s 6ms/step - loss: 0.0077 - val_loss: 0.0214\n",
            "Epoch 45/50\n",
            "1761/1761 [==============================] - 10s 6ms/step - loss: 0.0076 - val_loss: 0.0207\n",
            "Epoch 46/50\n",
            "1761/1761 [==============================] - 10s 6ms/step - loss: 0.0077 - val_loss: 0.0301\n",
            "Epoch 47/50\n",
            "1761/1761 [==============================] - 10s 6ms/step - loss: 0.0077 - val_loss: 0.0123\n",
            "Epoch 48/50\n",
            "1761/1761 [==============================] - 10s 6ms/step - loss: 0.0078 - val_loss: 0.0150\n",
            "Epoch 49/50\n",
            "1761/1761 [==============================] - 10s 6ms/step - loss: 0.0081 - val_loss: 0.0139\n",
            "Epoch 50/50\n",
            "1761/1761 [==============================] - 10s 6ms/step - loss: 0.0078 - val_loss: 0.0133\n"
          ]
        }
      ],
      "source": [
        "# train\n",
        "\n",
        "lstm_history = train(lstm_model, X_train_norm, y_train_norm)"
      ]
    },
    {
      "cell_type": "code",
      "execution_count": null,
      "metadata": {
        "id": "FWvqqPwbMMiz",
        "outputId": "653a09e8-8ea0-4f57-80b8-24edddfda57e"
      },
      "outputs": [
        {
          "data": {
            "image/png": "[encoded data removed]",
            "text/plain": [
              "<Figure size 432x288 with 1 Axes>"
            ]
          },
          "metadata": {
            "needs_background": "light"
          },
          "output_type": "display_data"
        },
        {
          "data": {
            "image/png": "[encoded data removed]",
            "text/plain": [
              "<Figure size 432x288 with 1 Axes>"
            ]
          },
          "metadata": {
            "needs_background": "light"
          },
          "output_type": "display_data"
        }
      ],
      "source": [
        "# plotting training loss\n",
        "\n",
        "plot_loss(lstm_history)\n",
        "plot_loss(lstm_history, training=False)"
      ]
    },
    {
      "cell_type": "code",
      "execution_count": null,
      "metadata": {
        "id": "LqHCCBA4MMiz",
        "outputId": "42114e76-f048-414b-cb57-57150ac52bd0"
      },
      "outputs": [
        {
          "name": "stdout",
          "output_type": "stream",
          "text": [
            "12/12 [==============================] - 0s 4ms/step\n",
            "MAE: 2.666\n",
            "MAPE: 1.787%\n"
          ]
        }
      ],
      "source": [
        "# eval\n",
        "\n",
        "lstm_predictions_norm = lstm_model.predict(X_test_norm)\n",
        "\n",
        "#todo denormalize\n",
        "lstm_predictions = denormalize(lstm_predictions_norm, minmax_scaler)\n",
        "y_test = denormalize(y_test_norm, minmax_scaler)\n",
        "\n",
        "mae, mape = eval(lstm_predictions, y_test)\n",
        "\n",
        "print(f\"MAE: {round(mae, 3)}\")\n",
        "print(f\"MAPE: {round(mape, 3)}%\")"
      ]
    },
    {
      "cell_type": "code",
      "execution_count": null,
      "metadata": {
        "id": "pLjBBtHtMMiz",
        "outputId": "81c09a87-c7c1-42c9-8694-d67684915e94"
      },
      "outputs": [
        {
          "data": {
            "image/png": "[encoded data removed]",
            "text/plain": [
              "<Figure size 864x432 with 1 Axes>"
            ]
          },
          "metadata": {
            "needs_background": "light"
          },
          "output_type": "display_data"
        }
      ],
      "source": [
        "# plotting\n",
        "\n",
        "start = 200\n",
        "end = 300\n",
        "\n",
        "plot_chart(df[start:end], [y_test[start:end], lstm_predictions[start:end]], is_df=False)"
      ]
    },
    {
      "cell_type": "code",
      "execution_count": null,
      "metadata": {
        "id": "wZchpb4nMMiz",
        "outputId": "bab5f17c-0e71-4aca-b87b-e69fab9ad135"
      },
      "outputs": [
        {
          "name": "stderr",
          "output_type": "stream",
          "text": [
            "  0%|          | 0/29 [00:00<?, ?it/s]"
          ]
        },
        {
          "name": "stdout",
          "output_type": "stream",
          "text": [
            "12/12 [==============================] - 0s 4ms/step\n"
          ]
        },
        {
          "name": "stderr",
          "output_type": "stream",
          "text": [
            "  3%|▎         | 1/29 [02:27<1:08:47, 147.41s/it]"
          ]
        },
        {
          "name": "stdout",
          "output_type": "stream",
          "text": [
            "12/12 [==============================] - 0s 1ms/step\n"
          ]
        },
        {
          "name": "stderr",
          "output_type": "stream",
          "text": [
            "  7%|▋         | 2/29 [04:43<1:03:23, 140.86s/it]"
          ]
        },
        {
          "name": "stdout",
          "output_type": "stream",
          "text": [
            "12/12 [==============================] - 0s 2ms/step\n"
          ]
        },
        {
          "name": "stderr",
          "output_type": "stream",
          "text": [
            " 10%|█         | 3/29 [06:54<58:59, 136.13s/it]  "
          ]
        },
        {
          "name": "stdout",
          "output_type": "stream",
          "text": [
            "12/12 [==============================] - 0s 1ms/step\n"
          ]
        },
        {
          "name": "stderr",
          "output_type": "stream",
          "text": [
            " 14%|█▍        | 4/29 [08:59<54:59, 131.99s/it]"
          ]
        },
        {
          "name": "stdout",
          "output_type": "stream",
          "text": [
            "12/12 [==============================] - 0s 1ms/step\n"
          ]
        },
        {
          "name": "stderr",
          "output_type": "stream",
          "text": [
            " 17%|█▋        | 5/29 [11:13<53:03, 132.66s/it]"
          ]
        },
        {
          "name": "stdout",
          "output_type": "stream",
          "text": [
            "12/12 [==============================] - 0s 1ms/step\n"
          ]
        },
        {
          "name": "stderr",
          "output_type": "stream",
          "text": [
            " 21%|██        | 6/29 [13:19<49:57, 130.31s/it]"
          ]
        },
        {
          "name": "stdout",
          "output_type": "stream",
          "text": [
            "12/12 [==============================] - 0s 1ms/step\n"
          ]
        },
        {
          "name": "stderr",
          "output_type": "stream",
          "text": [
            " 24%|██▍       | 7/29 [15:12<45:40, 124.59s/it]"
          ]
        },
        {
          "name": "stdout",
          "output_type": "stream",
          "text": [
            "12/12 [==============================] - 0s 1ms/step\n"
          ]
        },
        {
          "name": "stderr",
          "output_type": "stream",
          "text": [
            " 28%|██▊       | 8/29 [17:03<42:09, 120.44s/it]"
          ]
        },
        {
          "name": "stdout",
          "output_type": "stream",
          "text": [
            "12/12 [==============================] - 0s 1ms/step\n"
          ]
        },
        {
          "name": "stderr",
          "output_type": "stream",
          "text": [
            " 31%|███       | 9/29 [18:57<39:23, 118.20s/it]"
          ]
        },
        {
          "name": "stdout",
          "output_type": "stream",
          "text": [
            "12/12 [==============================] - 0s 1ms/step\n"
          ]
        },
        {
          "name": "stderr",
          "output_type": "stream",
          "text": [
            " 34%|███▍      | 10/29 [20:51<37:05, 117.16s/it]"
          ]
        },
        {
          "name": "stdout",
          "output_type": "stream",
          "text": [
            "12/12 [==============================] - 0s 2ms/step\n"
          ]
        },
        {
          "name": "stderr",
          "output_type": "stream",
          "text": [
            " 38%|███▊      | 11/29 [23:17<37:46, 125.91s/it]"
          ]
        },
        {
          "name": "stdout",
          "output_type": "stream",
          "text": [
            "12/12 [==============================] - 0s 1ms/step\n"
          ]
        },
        {
          "name": "stderr",
          "output_type": "stream",
          "text": [
            " 41%|████▏     | 12/29 [25:44<37:26, 132.15s/it]"
          ]
        },
        {
          "name": "stdout",
          "output_type": "stream",
          "text": [
            "12/12 [==============================] - 0s 4ms/step\n"
          ]
        },
        {
          "name": "stderr",
          "output_type": "stream",
          "text": [
            " 45%|████▍     | 13/29 [29:29<42:45, 160.36s/it]"
          ]
        },
        {
          "name": "stdout",
          "output_type": "stream",
          "text": [
            "12/12 [==============================] - 0s 6ms/step\n"
          ]
        },
        {
          "name": "stderr",
          "output_type": "stream",
          "text": [
            " 48%|████▊     | 14/29 [34:02<48:34, 194.29s/it]"
          ]
        },
        {
          "name": "stdout",
          "output_type": "stream",
          "text": [
            "12/12 [==============================] - 0s 6ms/step\n"
          ]
        },
        {
          "name": "stderr",
          "output_type": "stream",
          "text": [
            " 52%|█████▏    | 15/29 [38:37<51:03, 218.84s/it]"
          ]
        },
        {
          "name": "stdout",
          "output_type": "stream",
          "text": [
            "12/12 [==============================] - 0s 6ms/step\n"
          ]
        },
        {
          "name": "stderr",
          "output_type": "stream",
          "text": [
            " 55%|█████▌    | 16/29 [42:13<47:11, 217.82s/it]"
          ]
        },
        {
          "name": "stdout",
          "output_type": "stream",
          "text": [
            "12/12 [==============================] - 0s 4ms/step\n"
          ]
        },
        {
          "name": "stderr",
          "output_type": "stream",
          "text": [
            " 59%|█████▊    | 17/29 [46:04<44:21, 221.81s/it]"
          ]
        },
        {
          "name": "stdout",
          "output_type": "stream",
          "text": [
            "12/12 [==============================] - 0s 5ms/step\n"
          ]
        },
        {
          "name": "stderr",
          "output_type": "stream",
          "text": [
            " 62%|██████▏   | 18/29 [50:41<43:41, 238.31s/it]"
          ]
        },
        {
          "name": "stdout",
          "output_type": "stream",
          "text": [
            "12/12 [==============================] - 0s 2ms/step\n"
          ]
        },
        {
          "name": "stderr",
          "output_type": "stream",
          "text": [
            " 66%|██████▌   | 19/29 [54:59<40:44, 244.45s/it]"
          ]
        },
        {
          "name": "stdout",
          "output_type": "stream",
          "text": [
            "12/12 [==============================] - 0s 3ms/step\n"
          ]
        },
        {
          "name": "stderr",
          "output_type": "stream",
          "text": [
            " 69%|██████▉   | 20/29 [59:01<36:31, 243.53s/it]"
          ]
        },
        {
          "name": "stdout",
          "output_type": "stream",
          "text": [
            "12/12 [==============================] - 0s 1ms/step\n"
          ]
        },
        {
          "name": "stderr",
          "output_type": "stream",
          "text": [
            " 72%|███████▏  | 21/29 [1:02:01<29:57, 224.64s/it]"
          ]
        },
        {
          "name": "stdout",
          "output_type": "stream",
          "text": [
            "12/12 [==============================] - 0s 1ms/step\n"
          ]
        },
        {
          "name": "stderr",
          "output_type": "stream",
          "text": [
            " 76%|███████▌  | 22/29 [1:04:22<23:16, 199.47s/it]"
          ]
        },
        {
          "name": "stdout",
          "output_type": "stream",
          "text": [
            "12/12 [==============================] - 0s 1ms/step\n"
          ]
        },
        {
          "name": "stderr",
          "output_type": "stream",
          "text": [
            " 79%|███████▉  | 23/29 [1:06:20<17:30, 175.13s/it]"
          ]
        },
        {
          "name": "stdout",
          "output_type": "stream",
          "text": [
            "12/12 [==============================] - 0s 1ms/step\n"
          ]
        },
        {
          "name": "stderr",
          "output_type": "stream",
          "text": [
            " 83%|████████▎ | 24/29 [1:08:17<13:07, 157.54s/it]"
          ]
        },
        {
          "name": "stdout",
          "output_type": "stream",
          "text": [
            "12/12 [==============================] - 0s 1ms/step\n"
          ]
        },
        {
          "name": "stderr",
          "output_type": "stream",
          "text": [
            " 86%|████████▌ | 25/29 [1:10:13<09:39, 144.98s/it]"
          ]
        },
        {
          "name": "stdout",
          "output_type": "stream",
          "text": [
            "12/12 [==============================] - 0s 1ms/step\n"
          ]
        },
        {
          "name": "stderr",
          "output_type": "stream",
          "text": [
            " 90%|████████▉ | 26/29 [1:12:08<06:48, 136.22s/it]"
          ]
        },
        {
          "name": "stdout",
          "output_type": "stream",
          "text": [
            "12/12 [==============================] - 0s 1ms/step\n"
          ]
        },
        {
          "name": "stderr",
          "output_type": "stream",
          "text": [
            " 93%|█████████▎| 27/29 [1:14:03<04:19, 129.86s/it]"
          ]
        },
        {
          "name": "stdout",
          "output_type": "stream",
          "text": [
            "12/12 [==============================] - 0s 1ms/step\n"
          ]
        },
        {
          "name": "stderr",
          "output_type": "stream",
          "text": [
            " 97%|█████████▋| 28/29 [1:15:59<02:05, 125.48s/it]"
          ]
        },
        {
          "name": "stdout",
          "output_type": "stream",
          "text": [
            "12/12 [==============================] - 0s 1ms/step\n"
          ]
        },
        {
          "name": "stderr",
          "output_type": "stream",
          "text": [
            "100%|██████████| 29/29 [1:17:54<00:00, 161.19s/it]\n"
          ]
        }
      ],
      "source": [
        "# optimal feature vec len search\n",
        "\n",
        "MAE_errors = []\n",
        "MAPE_errors = []\n",
        "\n",
        "for feature_vec_len in tqdm(range(1,30)):\n",
        "    features_norm, labels_norm = prep_data(feature_vec_len, closing_prices_norm)\n",
        "    lin_reg_predictions_norm = fit_lin_reg(feature_vec_len, features_norm)\n",
        "\n",
        "    X_train_norm, X_temp, y_train_norm, y_temp = train_test_split(features_norm, labels_norm, test_size=0.3, random_state=42, shuffle=False)\n",
        "    X_test_norm, X_val_norm, y_test_norm, y_val_norm = train_test_split(X_temp, y_temp, test_size=0.5, random_state=42, shuffle=False)\n",
        "    shuffled_indices = np.random.permutation(len(X_train_norm))\n",
        "    X_train_norm = X_train_norm[shuffled_indices]\n",
        "    y_train_norm = y_train_norm[shuffled_indices]\n",
        "\n",
        "    lstm_model = create_model(feature_vec_len)\n",
        "    history = train(lstm_model, X_train_norm, y_train_norm)\n",
        "\n",
        "    lstm_predictions_norm = lstm_model.predict(X_test_norm)\n",
        "\n",
        "    lstm_predictions = denormalize(lstm_predictions_norm, minmax_scaler)\n",
        "    y_test = denormalize(y_test_norm, minmax_scaler)\n",
        "\n",
        "    mae, mape = eval(lstm_predictions, y_test)\n",
        "\n",
        "    MAE_errors.append(mae)\n",
        "    MAPE_errors.append(mape)"
      ]
    },
    {
      "cell_type": "code",
      "execution_count": null,
      "metadata": {
        "id": "GkHevaQyMMi0",
        "outputId": "1fea730a-ebe0-4272-cc43-6274443c277c"
      },
      "outputs": [
        {
          "name": "stdout",
          "output_type": "stream",
          "text": [
            "Lowest MAE is 2.283, with feature vec len = 1\n",
            "Lowest MAPE is 1.516%, with feature vec len = 1\n",
            "\n",
            "\n",
            "Second lowest MAE is 2.424, with non-trivial feature vec len = 3\n",
            "Second lowest MAPE is 1.6%, with non-trivial feature vec len = 3\n"
          ]
        },
        {
          "data": {
            "text/plain": [
              "<matplotlib.lines.Line2D at 0x2a68579f9d0>"
            ]
          },
          "execution_count": 98,
          "metadata": {},
          "output_type": "execute_result"
        },
        {
          "data": {
            "image/png": "[encoded data removed]",
            "text/plain": [
              "<Figure size 432x288 with 1 Axes>"
            ]
          },
          "metadata": {
            "needs_background": "light"
          },
          "output_type": "display_data"
        }
      ],
      "source": [
        "x_values = np.arange(1, len(MAE_errors) + 1)\n",
        "plt.plot(x_values, MAE_errors)\n",
        "plt.xticks(np.arange(1, len(MAE_errors) + 1, 1))\n",
        "\n",
        "best_feat_vec_len_MAE, best_MAE = min(enumerate(MAE_errors), key=lambda x: x[1])\n",
        "print(f\"Lowest MAE is {round(best_MAE, 3)}, with feature vec len = {best_feat_vec_len_MAE + 1}\")\n",
        "\n",
        "best_feat_vec_len_MAPE, best_MAPE = min(enumerate(MAPE_errors), key=lambda x: x[1])\n",
        "print(f\"Lowest MAPE is {round(best_MAPE, 3)}%, with feature vec len = {best_feat_vec_len_MAPE + 1}\")\n",
        "\n",
        "MAE_errors_copy = MAE_errors.copy()\n",
        "MAPE_errors_copy = MAPE_errors.copy()\n",
        "\n",
        "print(\"\\n\")\n",
        "\n",
        "MAE_errors_copy[best_feat_vec_len_MAE] = 1000000\n",
        "MAPE_errors_copy[best_feat_vec_len_MAPE] = 1000000\n",
        "\n",
        "sec_best_feat_vec_len_MAE, sec_best_MAE = min(enumerate(MAE_errors_copy), key=lambda x: x[1])\n",
        "print(f\"Second lowest MAE is {round(sec_best_MAE, 3)}, with non-trivial feature vec len = {sec_best_feat_vec_len_MAE + 1}\")\n",
        "\n",
        "sec_best_feat_vec_len_MAPE, sec_best_MAPE = min(enumerate(MAPE_errors_copy), key=lambda x: x[1])\n",
        "print(f\"Second lowest MAPE is {round(sec_best_MAPE, 3)}%, with non-trivial feature vec len = {sec_best_feat_vec_len_MAPE + 1}\")\n",
        "\n",
        "plt.axvline(x=sec_best_feat_vec_len_MAE + 1, color='red', linestyle='--')"
      ]
    },
    {
      "cell_type": "markdown",
      "metadata": {
        "id": "IcRrtR-BMMi0"
      },
      "source": [
        "### 4. Transformer"
      ]
    },
    {
      "cell_type": "code",
      "execution_count": 15,
      "metadata": {
        "colab": {
          "base_uri": "https://localhost:8080/",
          "height": 309,
          "referenced_widgets": [
            "7186b41cebc7412aa8caaf485c17623f",
            "1649bc1a889c44fa991a3c93a96addb0",
            "467daa623e6945b887b917a72403b341",
            "a990142fee9e42de80fdae0e46c8bdbe",
            "8940c92299c040749e79087754960e1b",
            "7b64c917590340758c6ec69c3c6c4b5e",
            "b7657a390f44494e8103467b76d1ff7a",
            "86564adb98db4567995583e613e99885",
            "6f8961c201924de4b7c0aaac73acdba0",
            "b1ae2806f0fb4c738d1c0bbcc79d0c27",
            "8602c4bb46a24914a8f2a7f1f391a804",
            "b687a1bcc8014a1ead7135616bb47382",
            "ce16861d78754514a226c5e3d8c251c9",
            "ec5d462c2dc54463b55fa0bca039457e",
            "35d560d18d3a41068ecfc75bf51e91d1",
            "8e64b79b8c594182a180e6c09c062a12",
            "860b39b024f94a93b3e4e6111ea39cbf",
            "d089d58905af4a2097754519e4408d03",
            "bea8e52cf2b44950a1989227f1fee9f7",
            "fa751a8ba10241c08ecd618df137b3aa",
            "94b36085cc7745178c8cb08111e9f8a0",
            "8a44c7bf462a4dc4b15c46354e8a9e4a"
          ]
        },
        "id": "klt1umO4MMi0",
        "outputId": "44aa9314-8faf-48ea-8cc9-c3936b07822f"
      },
      "outputs": [
        {
          "name": "stderr",
          "output_type": "stream",
          "text": [
            "/usr/local/lib/python3.10/dist-packages/huggingface_hub/utils/_token.py:88: UserWarning: \n",
            "The secret `HF_TOKEN` does not exist in your Colab secrets.\n",
            "To authenticate with the Hugging Face Hub, create a token in your settings tab (https://huggingface.co/settings/tokens), set it as secret in your Google Colab and restart your session.\n",
            "You will be able to reuse this secret in all of your notebooks.\n",
            "Please note that authentication is recommended but still optional to access public models or datasets.\n",
            "  warnings.warn(\n"
          ]
        },
        {
          "data": {
            "application/vnd.jupyter.widget-view+json": {
              "model_id": "7186b41cebc7412aa8caaf485c17623f",
              "version_major": 2,
              "version_minor": 0
            },
            "text/plain": [
              "config.json:   0%|          | 0.00/570 [00:00<?, ?B/s]"
            ]
          },
          "metadata": {},
          "output_type": "display_data"
        },
        {
          "data": {
            "application/vnd.jupyter.widget-view+json": {
              "model_id": "b687a1bcc8014a1ead7135616bb47382",
              "version_major": 2,
              "version_minor": 0
            },
            "text/plain": [
              "model.safetensors:   0%|          | 0.00/440M [00:00<?, ?B/s]"
            ]
          },
          "metadata": {},
          "output_type": "display_data"
        },
        {
          "name": "stderr",
          "output_type": "stream",
          "text": [
            "Some weights of the PyTorch model were not used when initializing the TF 2.0 model TFBertModel: ['cls.predictions.transform.LayerNorm.weight', 'cls.predictions.transform.LayerNorm.bias', 'cls.predictions.bias', 'cls.predictions.transform.dense.bias', 'cls.predictions.transform.dense.weight', 'cls.seq_relationship.weight', 'cls.seq_relationship.bias']\n",
            "- This IS expected if you are initializing TFBertModel from a PyTorch model trained on another task or with another architecture (e.g. initializing a TFBertForSequenceClassification model from a BertForPreTraining model).\n",
            "- This IS NOT expected if you are initializing TFBertModel from a PyTorch model that you expect to be exactly identical (e.g. initializing a TFBertForSequenceClassification model from a BertForSequenceClassification model).\n",
            "All the weights of TFBertModel were initialized from the PyTorch model.\n",
            "If your task is similar to the task the model of the checkpoint was trained on, you can already use TFBertModel for predictions without further training.\n",
            "WARNING:absl:`lr` is deprecated in Keras optimizer, please use `learning_rate` or use the legacy optimizer, e.g.,tf.keras.optimizers.legacy.Adam.\n"
          ]
        }
      ],
      "source": [
        "# model\n",
        "\n",
        "input_layer = Input(shape=(feature_vec_len,), dtype=tf.int32)\n",
        "bert_model = TFBertModel.from_pretrained(\"bert-base-uncased\")\n",
        "bert_output = bert_model(input_layer)[0]\n",
        "flat_layer = Flatten()(bert_output)\n",
        "dropout_layer = Dropout(0.1)(flat_layer)\n",
        "output_layer = Dense(1, activation=\"linear\")(dropout_layer)\n",
        "transformer_model = Model(inputs=input_layer, outputs=output_layer)\n",
        "transformer_model.compile(optimizer=Adam(lr=1e-5), loss=\"mae\")"
      ]
    },
    {
      "cell_type": "code",
      "execution_count": 19,
      "metadata": {
        "colab": {
          "base_uri": "https://localhost:8080/"
        },
        "id": "3SHS_qeEMMi0",
        "outputId": "58f1e9f8-df96-4a04-d67f-45ad6b0842f7"
      },
      "outputs": [
        {
          "name": "stdout",
          "output_type": "stream",
          "text": [
            "Epoch 1/50\n"
          ]
        },
        {
          "name": "stderr",
          "output_type": "stream",
          "text": [
            "WARNING:tensorflow:Gradients do not exist for variables ['tf_bert_model/bert/pooler/dense/kernel:0', 'tf_bert_model/bert/pooler/dense/bias:0'] when minimizing the loss. If you're using `model.compile()`, did you forget to provide a `loss` argument?\n",
            "WARNING:tensorflow:Gradients do not exist for variables ['tf_bert_model/bert/pooler/dense/kernel:0', 'tf_bert_model/bert/pooler/dense/bias:0'] when minimizing the loss. If you're using `model.compile()`, did you forget to provide a `loss` argument?\n",
            "WARNING:tensorflow:Gradients do not exist for variables ['tf_bert_model/bert/pooler/dense/kernel:0', 'tf_bert_model/bert/pooler/dense/bias:0'] when minimizing the loss. If you're using `model.compile()`, did you forget to provide a `loss` argument?\n",
            "WARNING:tensorflow:Gradients do not exist for variables ['tf_bert_model/bert/pooler/dense/kernel:0', 'tf_bert_model/bert/pooler/dense/bias:0'] when minimizing the loss. If you're using `model.compile()`, did you forget to provide a `loss` argument?\n"
          ]
        },
        {
          "name": "stdout",
          "output_type": "stream",
          "text": [
            "1761/1761 [==============================] - 128s 49ms/step - loss: 0.9012 - val_loss: 1.2535\n",
            "Epoch 2/50\n",
            "1761/1761 [==============================] - 84s 48ms/step - loss: 0.3506 - val_loss: 0.7047\n",
            "Epoch 3/50\n",
            "1761/1761 [==============================] - 84s 47ms/step - loss: 0.2161 - val_loss: 0.5776\n",
            "Epoch 4/50\n",
            "1761/1761 [==============================] - 84s 48ms/step - loss: 0.1945 - val_loss: 0.4217\n",
            "Epoch 5/50\n",
            "1761/1761 [==============================] - 85s 48ms/step - loss: 0.1779 - val_loss: 0.5583\n",
            "Epoch 6/50\n",
            "1761/1761 [==============================] - 83s 47ms/step - loss: 0.1758 - val_loss: 0.3977\n",
            "Epoch 7/50\n",
            "1761/1761 [==============================] - 84s 47ms/step - loss: 0.1641 - val_loss: 0.6089\n",
            "Epoch 8/50\n",
            "1761/1761 [==============================] - 85s 48ms/step - loss: 0.1639 - val_loss: 0.5873\n",
            "Epoch 9/50\n",
            "1761/1761 [==============================] - 84s 48ms/step - loss: 0.1546 - val_loss: 0.6298\n",
            "Epoch 10/50\n",
            "1761/1761 [==============================] - 87s 49ms/step - loss: 0.1540 - val_loss: 0.5052\n",
            "Epoch 11/50\n",
            "1761/1761 [==============================] - 86s 49ms/step - loss: 0.1536 - val_loss: 0.5106\n",
            "Epoch 12/50\n",
            "1761/1761 [==============================] - 84s 48ms/step - loss: 0.1500 - val_loss: 0.5043\n",
            "Epoch 13/50\n",
            "1761/1761 [==============================] - 83s 47ms/step - loss: 0.1509 - val_loss: 0.4828\n",
            "Epoch 14/50\n",
            "1761/1761 [==============================] - 83s 47ms/step - loss: 0.1460 - val_loss: 0.4481\n",
            "Epoch 15/50\n",
            "1761/1761 [==============================] - 84s 48ms/step - loss: 0.1488 - val_loss: 0.3771\n",
            "Epoch 16/50\n",
            "1761/1761 [==============================] - 84s 48ms/step - loss: 0.1492 - val_loss: 0.4552\n",
            "Epoch 17/50\n",
            "1761/1761 [==============================] - 83s 47ms/step - loss: 0.1517 - val_loss: 0.4699\n",
            "Epoch 18/50\n",
            "1761/1761 [==============================] - 83s 47ms/step - loss: 0.1479 - val_loss: 0.4277\n",
            "Epoch 19/50\n",
            "1761/1761 [==============================] - 85s 48ms/step - loss: 0.1514 - val_loss: 0.6366\n",
            "Epoch 20/50\n",
            "1761/1761 [==============================] - 84s 48ms/step - loss: 0.1514 - val_loss: 0.4765\n",
            "Epoch 21/50\n",
            "1761/1761 [==============================] - 84s 47ms/step - loss: 0.1505 - val_loss: 0.5076\n",
            "Epoch 22/50\n",
            "1761/1761 [==============================] - 86s 49ms/step - loss: 0.1493 - val_loss: 0.5517\n",
            "Epoch 23/50\n",
            "1761/1761 [==============================] - 86s 49ms/step - loss: 0.1516 - val_loss: 0.5590\n",
            "Epoch 24/50\n",
            "1761/1761 [==============================] - 87s 49ms/step - loss: 0.1531 - val_loss: 0.6069\n",
            "Epoch 25/50\n",
            "1761/1761 [==============================] - 86s 49ms/step - loss: 0.1507 - val_loss: 0.6711\n",
            "Epoch 26/50\n",
            "1761/1761 [==============================] - 88s 50ms/step - loss: 0.1492 - val_loss: 0.6499\n",
            "Epoch 27/50\n",
            "1761/1761 [==============================] - 88s 50ms/step - loss: 0.1510 - val_loss: 0.4515\n",
            "Epoch 28/50\n",
            "1761/1761 [==============================] - 87s 49ms/step - loss: 0.1544 - val_loss: 0.4921\n",
            "Epoch 29/50\n",
            "1761/1761 [==============================] - 85s 48ms/step - loss: 0.1512 - val_loss: 0.6550\n",
            "Epoch 30/50\n",
            "1761/1761 [==============================] - 85s 48ms/step - loss: 0.1523 - val_loss: 0.5450\n",
            "Epoch 31/50\n",
            "1761/1761 [==============================] - 87s 49ms/step - loss: 0.1522 - val_loss: 0.2882\n",
            "Epoch 32/50\n",
            "1761/1761 [==============================] - 85s 48ms/step - loss: 0.1513 - val_loss: 0.6674\n",
            "Epoch 33/50\n",
            "1761/1761 [==============================] - 82s 47ms/step - loss: 0.1496 - val_loss: 0.5857\n",
            "Epoch 34/50\n",
            "1761/1761 [==============================] - 82s 47ms/step - loss: 0.1578 - val_loss: 0.7418\n",
            "Epoch 35/50\n",
            "1761/1761 [==============================] - 83s 47ms/step - loss: 0.1561 - val_loss: 0.5718\n",
            "Epoch 36/50\n",
            "1761/1761 [==============================] - 86s 49ms/step - loss: 0.1528 - val_loss: 0.5254\n",
            "Epoch 37/50\n",
            "1761/1761 [==============================] - 83s 47ms/step - loss: 0.1571 - val_loss: 0.5613\n",
            "Epoch 38/50\n",
            "1761/1761 [==============================] - 83s 47ms/step - loss: 0.1532 - val_loss: 0.4203\n",
            "Epoch 39/50\n",
            "1761/1761 [==============================] - 84s 48ms/step - loss: 0.1565 - val_loss: 0.5414\n",
            "Epoch 40/50\n",
            "1761/1761 [==============================] - 82s 46ms/step - loss: 0.1538 - val_loss: 0.4488\n",
            "Epoch 41/50\n",
            "1761/1761 [==============================] - 87s 50ms/step - loss: 0.1488 - val_loss: 0.3807\n",
            "Epoch 42/50\n",
            "1761/1761 [==============================] - 86s 49ms/step - loss: 0.1535 - val_loss: 0.6797\n",
            "Epoch 43/50\n",
            "1761/1761 [==============================] - 85s 48ms/step - loss: 0.1516 - val_loss: 0.4206\n",
            "Epoch 44/50\n",
            "1761/1761 [==============================] - 87s 49ms/step - loss: 0.1552 - val_loss: 0.4873\n",
            "Epoch 45/50\n",
            "1761/1761 [==============================] - 86s 49ms/step - loss: 0.1574 - val_loss: 0.3930\n",
            "Epoch 46/50\n",
            "1761/1761 [==============================] - 87s 50ms/step - loss: 0.1559 - val_loss: 0.4595\n",
            "Epoch 47/50\n",
            "1761/1761 [==============================] - 84s 48ms/step - loss: 0.1532 - val_loss: 0.5219\n",
            "Epoch 48/50\n",
            "1761/1761 [==============================] - 84s 48ms/step - loss: 0.1555 - val_loss: 0.4068\n",
            "Epoch 49/50\n",
            "1761/1761 [==============================] - 85s 48ms/step - loss: 0.1558 - val_loss: 0.5848\n",
            "Epoch 50/50\n",
            "1761/1761 [==============================] - 83s 47ms/step - loss: 0.1563 - val_loss: 0.4331\n"
          ]
        }
      ],
      "source": [
        "# train\n",
        "\n",
        "transformer_history = train(transformer_model, X_train_norm, y_train_norm)"
      ]
    },
    {
      "cell_type": "code",
      "execution_count": 20,
      "metadata": {
        "colab": {
          "base_uri": "https://localhost:8080/",
          "height": 927
        },
        "id": "4luRHwGcediy",
        "outputId": "8e8cea94-fe4c-4b0e-a4f8-b89912891676"
      },
      "outputs": [
        {
          "data": {
            "image/png": "[encoded data removed]",
            "text/plain": [
              "<Figure size 640x480 with 1 Axes>"
            ]
          },
          "metadata": {},
          "output_type": "display_data"
        },
        {
          "data": {
            "image/png": "[encoded data removed]",
            "text/plain": [
              "<Figure size 640x480 with 1 Axes>"
            ]
          },
          "metadata": {},
          "output_type": "display_data"
        }
      ],
      "source": [
        "# plotting training loss\n",
        "\n",
        "plot_loss(transformer_history)\n",
        "plot_loss(transformer_history, training=False)"
      ]
    },
    {
      "cell_type": "code",
      "execution_count": 23,
      "metadata": {
        "colab": {
          "base_uri": "https://localhost:8080/"
        },
        "id": "utHEN2faelK7",
        "outputId": "dfafa181-6627-4bee-a2bc-04b4e44186e9"
      },
      "outputs": [
        {
          "name": "stdout",
          "output_type": "stream",
          "text": [
            "12/12 [==============================] - 1s 58ms/step\n",
            "MAE: 86.067\n",
            "MAPE: 55.318%\n"
          ]
        }
      ],
      "source": [
        "# eval\n",
        "\n",
        "transformer_predictions_norm = transformer_model.predict(X_test_norm)\n",
        "\n",
        "#todo denormalize\n",
        "transformer_predictions = denormalize(transformer_predictions_norm, minmax_scaler)\n",
        "y_test = denormalize(y_test_norm, minmax_scaler)\n",
        "\n",
        "mae, mape = eval(transformer_predictions, y_test)\n",
        "\n",
        "print(f\"MAE: {round(mae, 3)}\")\n",
        "print(f\"MAPE: {round(mape, 3)}%\")"
      ]
    },
    {
      "cell_type": "markdown",
      "metadata": {
        "id": "ZkvEqVANMMi0"
      },
      "source": [
        "### 5. Reinforcement Learning\n"
      ]
    },
    {
      "cell_type": "markdown",
      "metadata": {
        "id": "vVYrca85MMi1"
      },
      "source": [
        "### 6. Brain"
      ]
    }
  ],
  "metadata": {
    "accelerator": "GPU",
    "colab": {
      "gpuType": "V100",
      "provenance": []
    },
    "kernelspec": {
      "display_name": "Python 3",
      "name": "python3"
    },
    "language_info": {
      "codemirror_mode": {
        "name": "ipython",
        "version": 3
      },
      "file_extension": ".py",
      "mimetype": "text/x-python",
      "name": "python",
      "nbconvert_exporter": "python",
      "pygments_lexer": "ipython3",
      "version": "3.9.13"
    },
    "widgets": {
      "application/vnd.jupyter.widget-state+json": {
        "1649bc1a889c44fa991a3c93a96addb0": {
          "model_module": "@jupyter-widgets/controls",
          "model_module_version": "1.5.0",
          "model_name": "HTMLModel",
          "state": {
            "_dom_classes": [],
            "_model_module": "@jupyter-widgets/controls",
            "_model_module_version": "1.5.0",
            "_model_name": "HTMLModel",
            "_view_count": null,
            "_view_module": "@jupyter-widgets/controls",
            "_view_module_version": "1.5.0",
            "_view_name": "HTMLView",
            "description": "",
            "description_tooltip": null,
            "layout": "IPY_MODEL_7b64c917590340758c6ec69c3c6c4b5e",
            "placeholder": "​",
            "style": "IPY_MODEL_b7657a390f44494e8103467b76d1ff7a",
            "value": "config.json: 100%"
          }
        },
        "35d560d18d3a41068ecfc75bf51e91d1": {
          "model_module": "@jupyter-widgets/controls",
          "model_module_version": "1.5.0",
          "model_name": "HTMLModel",
          "state": {
            "_dom_classes": [],
            "_model_module": "@jupyter-widgets/controls",
            "_model_module_version": "1.5.0",
            "_model_name": "HTMLModel",
            "_view_count": null,
            "_view_module": "@jupyter-widgets/controls",
            "_view_module_version": "1.5.0",
            "_view_name": "HTMLView",
            "description": "",
            "description_tooltip": null,
            "layout": "IPY_MODEL_94b36085cc7745178c8cb08111e9f8a0",
            "placeholder": "​",
            "style": "IPY_MODEL_8a44c7bf462a4dc4b15c46354e8a9e4a",
            "value": " 440M/440M [00:01&lt;00:00, 293MB/s]"
          }
        },
        "467daa623e6945b887b917a72403b341": {
          "model_module": "@jupyter-widgets/controls",
          "model_module_version": "1.5.0",
          "model_name": "FloatProgressModel",
          "state": {
            "_dom_classes": [],
            "_model_module": "@jupyter-widgets/controls",
            "_model_module_version": "1.5.0",
            "_model_name": "FloatProgressModel",
            "_view_count": null,
            "_view_module": "@jupyter-widgets/controls",
            "_view_module_version": "1.5.0",
            "_view_name": "ProgressView",
            "bar_style": "success",
            "description": "",
            "description_tooltip": null,
            "layout": "IPY_MODEL_86564adb98db4567995583e613e99885",
            "max": 570,
            "min": 0,
            "orientation": "horizontal",
            "style": "IPY_MODEL_6f8961c201924de4b7c0aaac73acdba0",
            "value": 570
          }
        },
        "6f8961c201924de4b7c0aaac73acdba0": {
          "model_module": "@jupyter-widgets/controls",
          "model_module_version": "1.5.0",
          "model_name": "ProgressStyleModel",
          "state": {
            "_model_module": "@jupyter-widgets/controls",
            "_model_module_version": "1.5.0",
            "_model_name": "ProgressStyleModel",
            "_view_count": null,
            "_view_module": "@jupyter-widgets/base",
            "_view_module_version": "1.2.0",
            "_view_name": "StyleView",
            "bar_color": null,
            "description_width": ""
          }
        },
        "7186b41cebc7412aa8caaf485c17623f": {
          "model_module": "@jupyter-widgets/controls",
          "model_module_version": "1.5.0",
          "model_name": "HBoxModel",
          "state": {
            "_dom_classes": [],
            "_model_module": "@jupyter-widgets/controls",
            "_model_module_version": "1.5.0",
            "_model_name": "HBoxModel",
            "_view_count": null,
            "_view_module": "@jupyter-widgets/controls",
            "_view_module_version": "1.5.0",
            "_view_name": "HBoxView",
            "box_style": "",
            "children": [
              "IPY_MODEL_1649bc1a889c44fa991a3c93a96addb0",
              "IPY_MODEL_467daa623e6945b887b917a72403b341",
              "IPY_MODEL_a990142fee9e42de80fdae0e46c8bdbe"
            ],
            "layout": "IPY_MODEL_8940c92299c040749e79087754960e1b"
          }
        },
        "7b64c917590340758c6ec69c3c6c4b5e": {
          "model_module": "@jupyter-widgets/base",
          "model_module_version": "1.2.0",
          "model_name": "LayoutModel",
          "state": {
            "_model_module": "@jupyter-widgets/base",
            "_model_module_version": "1.2.0",
            "_model_name": "LayoutModel",
            "_view_count": null,
            "_view_module": "@jupyter-widgets/base",
            "_view_module_version": "1.2.0",
            "_view_name": "LayoutView",
            "align_content": null,
            "align_items": null,
            "align_self": null,
            "border": null,
            "bottom": null,
            "display": null,
            "flex": null,
            "flex_flow": null,
            "grid_area": null,
            "grid_auto_columns": null,
            "grid_auto_flow": null,
            "grid_auto_rows": null,
            "grid_column": null,
            "grid_gap": null,
            "grid_row": null,
            "grid_template_areas": null,
            "grid_template_columns": null,
            "grid_template_rows": null,
            "height": null,
            "justify_content": null,
            "justify_items": null,
            "left": null,
            "margin": null,
            "max_height": null,
            "max_width": null,
            "min_height": null,
            "min_width": null,
            "object_fit": null,
            "object_position": null,
            "order": null,
            "overflow": null,
            "overflow_x": null,
            "overflow_y": null,
            "padding": null,
            "right": null,
            "top": null,
            "visibility": null,
            "width": null
          }
        },
        "8602c4bb46a24914a8f2a7f1f391a804": {
          "model_module": "@jupyter-widgets/controls",
          "model_module_version": "1.5.0",
          "model_name": "DescriptionStyleModel",
          "state": {
            "_model_module": "@jupyter-widgets/controls",
            "_model_module_version": "1.5.0",
            "_model_name": "DescriptionStyleModel",
            "_view_count": null,
            "_view_module": "@jupyter-widgets/base",
            "_view_module_version": "1.2.0",
            "_view_name": "StyleView",
            "description_width": ""
          }
        },
        "860b39b024f94a93b3e4e6111ea39cbf": {
          "model_module": "@jupyter-widgets/base",
          "model_module_version": "1.2.0",
          "model_name": "LayoutModel",
          "state": {
            "_model_module": "@jupyter-widgets/base",
            "_model_module_version": "1.2.0",
            "_model_name": "LayoutModel",
            "_view_count": null,
            "_view_module": "@jupyter-widgets/base",
            "_view_module_version": "1.2.0",
            "_view_name": "LayoutView",
            "align_content": null,
            "align_items": null,
            "align_self": null,
            "border": null,
            "bottom": null,
            "display": null,
            "flex": null,
            "flex_flow": null,
            "grid_area": null,
            "grid_auto_columns": null,
            "grid_auto_flow": null,
            "grid_auto_rows": null,
            "grid_column": null,
            "grid_gap": null,
            "grid_row": null,
            "grid_template_areas": null,
            "grid_template_columns": null,
            "grid_template_rows": null,
            "height": null,
            "justify_content": null,
            "justify_items": null,
            "left": null,
            "margin": null,
            "max_height": null,
            "max_width": null,
            "min_height": null,
            "min_width": null,
            "object_fit": null,
            "object_position": null,
            "order": null,
            "overflow": null,
            "overflow_x": null,
            "overflow_y": null,
            "padding": null,
            "right": null,
            "top": null,
            "visibility": null,
            "width": null
          }
        },
        "86564adb98db4567995583e613e99885": {
          "model_module": "@jupyter-widgets/base",
          "model_module_version": "1.2.0",
          "model_name": "LayoutModel",
          "state": {
            "_model_module": "@jupyter-widgets/base",
            "_model_module_version": "1.2.0",
            "_model_name": "LayoutModel",
            "_view_count": null,
            "_view_module": "@jupyter-widgets/base",
            "_view_module_version": "1.2.0",
            "_view_name": "LayoutView",
            "align_content": null,
            "align_items": null,
            "align_self": null,
            "border": null,
            "bottom": null,
            "display": null,
            "flex": null,
            "flex_flow": null,
            "grid_area": null,
            "grid_auto_columns": null,
            "grid_auto_flow": null,
            "grid_auto_rows": null,
            "grid_column": null,
            "grid_gap": null,
            "grid_row": null,
            "grid_template_areas": null,
            "grid_template_columns": null,
            "grid_template_rows": null,
            "height": null,
            "justify_content": null,
            "justify_items": null,
            "left": null,
            "margin": null,
            "max_height": null,
            "max_width": null,
            "min_height": null,
            "min_width": null,
            "object_fit": null,
            "object_position": null,
            "order": null,
            "overflow": null,
            "overflow_x": null,
            "overflow_y": null,
            "padding": null,
            "right": null,
            "top": null,
            "visibility": null,
            "width": null
          }
        },
        "8940c92299c040749e79087754960e1b": {
          "model_module": "@jupyter-widgets/base",
          "model_module_version": "1.2.0",
          "model_name": "LayoutModel",
          "state": {
            "_model_module": "@jupyter-widgets/base",
            "_model_module_version": "1.2.0",
            "_model_name": "LayoutModel",
            "_view_count": null,
            "_view_module": "@jupyter-widgets/base",
            "_view_module_version": "1.2.0",
            "_view_name": "LayoutView",
            "align_content": null,
            "align_items": null,
            "align_self": null,
            "border": null,
            "bottom": null,
            "display": null,
            "flex": null,
            "flex_flow": null,
            "grid_area": null,
            "grid_auto_columns": null,
            "grid_auto_flow": null,
            "grid_auto_rows": null,
            "grid_column": null,
            "grid_gap": null,
            "grid_row": null,
            "grid_template_areas": null,
            "grid_template_columns": null,
            "grid_template_rows": null,
            "height": null,
            "justify_content": null,
            "justify_items": null,
            "left": null,
            "margin": null,
            "max_height": null,
            "max_width": null,
            "min_height": null,
            "min_width": null,
            "object_fit": null,
            "object_position": null,
            "order": null,
            "overflow": null,
            "overflow_x": null,
            "overflow_y": null,
            "padding": null,
            "right": null,
            "top": null,
            "visibility": null,
            "width": null
          }
        },
        "8a44c7bf462a4dc4b15c46354e8a9e4a": {
          "model_module": "@jupyter-widgets/controls",
          "model_module_version": "1.5.0",
          "model_name": "DescriptionStyleModel",
          "state": {
            "_model_module": "@jupyter-widgets/controls",
            "_model_module_version": "1.5.0",
            "_model_name": "DescriptionStyleModel",
            "_view_count": null,
            "_view_module": "@jupyter-widgets/base",
            "_view_module_version": "1.2.0",
            "_view_name": "StyleView",
            "description_width": ""
          }
        },
        "8e64b79b8c594182a180e6c09c062a12": {
          "model_module": "@jupyter-widgets/base",
          "model_module_version": "1.2.0",
          "model_name": "LayoutModel",
          "state": {
            "_model_module": "@jupyter-widgets/base",
            "_model_module_version": "1.2.0",
            "_model_name": "LayoutModel",
            "_view_count": null,
            "_view_module": "@jupyter-widgets/base",
            "_view_module_version": "1.2.0",
            "_view_name": "LayoutView",
            "align_content": null,
            "align_items": null,
            "align_self": null,
            "border": null,
            "bottom": null,
            "display": null,
            "flex": null,
            "flex_flow": null,
            "grid_area": null,
            "grid_auto_columns": null,
            "grid_auto_flow": null,
            "grid_auto_rows": null,
            "grid_column": null,
            "grid_gap": null,
            "grid_row": null,
            "grid_template_areas": null,
            "grid_template_columns": null,
            "grid_template_rows": null,
            "height": null,
            "justify_content": null,
            "justify_items": null,
            "left": null,
            "margin": null,
            "max_height": null,
            "max_width": null,
            "min_height": null,
            "min_width": null,
            "object_fit": null,
            "object_position": null,
            "order": null,
            "overflow": null,
            "overflow_x": null,
            "overflow_y": null,
            "padding": null,
            "right": null,
            "top": null,
            "visibility": null,
            "width": null
          }
        },
        "94b36085cc7745178c8cb08111e9f8a0": {
          "model_module": "@jupyter-widgets/base",
          "model_module_version": "1.2.0",
          "model_name": "LayoutModel",
          "state": {
            "_model_module": "@jupyter-widgets/base",
            "_model_module_version": "1.2.0",
            "_model_name": "LayoutModel",
            "_view_count": null,
            "_view_module": "@jupyter-widgets/base",
            "_view_module_version": "1.2.0",
            "_view_name": "LayoutView",
            "align_content": null,
            "align_items": null,
            "align_self": null,
            "border": null,
            "bottom": null,
            "display": null,
            "flex": null,
            "flex_flow": null,
            "grid_area": null,
            "grid_auto_columns": null,
            "grid_auto_flow": null,
            "grid_auto_rows": null,
            "grid_column": null,
            "grid_gap": null,
            "grid_row": null,
            "grid_template_areas": null,
            "grid_template_columns": null,
            "grid_template_rows": null,
            "height": null,
            "justify_content": null,
            "justify_items": null,
            "left": null,
            "margin": null,
            "max_height": null,
            "max_width": null,
            "min_height": null,
            "min_width": null,
            "object_fit": null,
            "object_position": null,
            "order": null,
            "overflow": null,
            "overflow_x": null,
            "overflow_y": null,
            "padding": null,
            "right": null,
            "top": null,
            "visibility": null,
            "width": null
          }
        },
        "a990142fee9e42de80fdae0e46c8bdbe": {
          "model_module": "@jupyter-widgets/controls",
          "model_module_version": "1.5.0",
          "model_name": "HTMLModel",
          "state": {
            "_dom_classes": [],
            "_model_module": "@jupyter-widgets/controls",
            "_model_module_version": "1.5.0",
            "_model_name": "HTMLModel",
            "_view_count": null,
            "_view_module": "@jupyter-widgets/controls",
            "_view_module_version": "1.5.0",
            "_view_name": "HTMLView",
            "description": "",
            "description_tooltip": null,
            "layout": "IPY_MODEL_b1ae2806f0fb4c738d1c0bbcc79d0c27",
            "placeholder": "​",
            "style": "IPY_MODEL_8602c4bb46a24914a8f2a7f1f391a804",
            "value": " 570/570 [00:00&lt;00:00, 35.4kB/s]"
          }
        },
        "b1ae2806f0fb4c738d1c0bbcc79d0c27": {
          "model_module": "@jupyter-widgets/base",
          "model_module_version": "1.2.0",
          "model_name": "LayoutModel",
          "state": {
            "_model_module": "@jupyter-widgets/base",
            "_model_module_version": "1.2.0",
            "_model_name": "LayoutModel",
            "_view_count": null,
            "_view_module": "@jupyter-widgets/base",
            "_view_module_version": "1.2.0",
            "_view_name": "LayoutView",
            "align_content": null,
            "align_items": null,
            "align_self": null,
            "border": null,
            "bottom": null,
            "display": null,
            "flex": null,
            "flex_flow": null,
            "grid_area": null,
            "grid_auto_columns": null,
            "grid_auto_flow": null,
            "grid_auto_rows": null,
            "grid_column": null,
            "grid_gap": null,
            "grid_row": null,
            "grid_template_areas": null,
            "grid_template_columns": null,
            "grid_template_rows": null,
            "height": null,
            "justify_content": null,
            "justify_items": null,
            "left": null,
            "margin": null,
            "max_height": null,
            "max_width": null,
            "min_height": null,
            "min_width": null,
            "object_fit": null,
            "object_position": null,
            "order": null,
            "overflow": null,
            "overflow_x": null,
            "overflow_y": null,
            "padding": null,
            "right": null,
            "top": null,
            "visibility": null,
            "width": null
          }
        },
        "b687a1bcc8014a1ead7135616bb47382": {
          "model_module": "@jupyter-widgets/controls",
          "model_module_version": "1.5.0",
          "model_name": "HBoxModel",
          "state": {
            "_dom_classes": [],
            "_model_module": "@jupyter-widgets/controls",
            "_model_module_version": "1.5.0",
            "_model_name": "HBoxModel",
            "_view_count": null,
            "_view_module": "@jupyter-widgets/controls",
            "_view_module_version": "1.5.0",
            "_view_name": "HBoxView",
            "box_style": "",
            "children": [
              "IPY_MODEL_ce16861d78754514a226c5e3d8c251c9",
              "IPY_MODEL_ec5d462c2dc54463b55fa0bca039457e",
              "IPY_MODEL_35d560d18d3a41068ecfc75bf51e91d1"
            ],
            "layout": "IPY_MODEL_8e64b79b8c594182a180e6c09c062a12"
          }
        },
        "b7657a390f44494e8103467b76d1ff7a": {
          "model_module": "@jupyter-widgets/controls",
          "model_module_version": "1.5.0",
          "model_name": "DescriptionStyleModel",
          "state": {
            "_model_module": "@jupyter-widgets/controls",
            "_model_module_version": "1.5.0",
            "_model_name": "DescriptionStyleModel",
            "_view_count": null,
            "_view_module": "@jupyter-widgets/base",
            "_view_module_version": "1.2.0",
            "_view_name": "StyleView",
            "description_width": ""
          }
        },
        "bea8e52cf2b44950a1989227f1fee9f7": {
          "model_module": "@jupyter-widgets/base",
          "model_module_version": "1.2.0",
          "model_name": "LayoutModel",
          "state": {
            "_model_module": "@jupyter-widgets/base",
            "_model_module_version": "1.2.0",
            "_model_name": "LayoutModel",
            "_view_count": null,
            "_view_module": "@jupyter-widgets/base",
            "_view_module_version": "1.2.0",
            "_view_name": "LayoutView",
            "align_content": null,
            "align_items": null,
            "align_self": null,
            "border": null,
            "bottom": null,
            "display": null,
            "flex": null,
            "flex_flow": null,
            "grid_area": null,
            "grid_auto_columns": null,
            "grid_auto_flow": null,
            "grid_auto_rows": null,
            "grid_column": null,
            "grid_gap": null,
            "grid_row": null,
            "grid_template_areas": null,
            "grid_template_columns": null,
            "grid_template_rows": null,
            "height": null,
            "justify_content": null,
            "justify_items": null,
            "left": null,
            "margin": null,
            "max_height": null,
            "max_width": null,
            "min_height": null,
            "min_width": null,
            "object_fit": null,
            "object_position": null,
            "order": null,
            "overflow": null,
            "overflow_x": null,
            "overflow_y": null,
            "padding": null,
            "right": null,
            "top": null,
            "visibility": null,
            "width": null
          }
        },
        "ce16861d78754514a226c5e3d8c251c9": {
          "model_module": "@jupyter-widgets/controls",
          "model_module_version": "1.5.0",
          "model_name": "HTMLModel",
          "state": {
            "_dom_classes": [],
            "_model_module": "@jupyter-widgets/controls",
            "_model_module_version": "1.5.0",
            "_model_name": "HTMLModel",
            "_view_count": null,
            "_view_module": "@jupyter-widgets/controls",
            "_view_module_version": "1.5.0",
            "_view_name": "HTMLView",
            "description": "",
            "description_tooltip": null,
            "layout": "IPY_MODEL_860b39b024f94a93b3e4e6111ea39cbf",
            "placeholder": "​",
            "style": "IPY_MODEL_d089d58905af4a2097754519e4408d03",
            "value": "model.safetensors: 100%"
          }
        },
        "d089d58905af4a2097754519e4408d03": {
          "model_module": "@jupyter-widgets/controls",
          "model_module_version": "1.5.0",
          "model_name": "DescriptionStyleModel",
          "state": {
            "_model_module": "@jupyter-widgets/controls",
            "_model_module_version": "1.5.0",
            "_model_name": "DescriptionStyleModel",
            "_view_count": null,
            "_view_module": "@jupyter-widgets/base",
            "_view_module_version": "1.2.0",
            "_view_name": "StyleView",
            "description_width": ""
          }
        },
        "ec5d462c2dc54463b55fa0bca039457e": {
          "model_module": "@jupyter-widgets/controls",
          "model_module_version": "1.5.0",
          "model_name": "FloatProgressModel",
          "state": {
            "_dom_classes": [],
            "_model_module": "@jupyter-widgets/controls",
            "_model_module_version": "1.5.0",
            "_model_name": "FloatProgressModel",
            "_view_count": null,
            "_view_module": "@jupyter-widgets/controls",
            "_view_module_version": "1.5.0",
            "_view_name": "ProgressView",
            "bar_style": "success",
            "description": "",
            "description_tooltip": null,
            "layout": "IPY_MODEL_bea8e52cf2b44950a1989227f1fee9f7",
            "max": 440449768,
            "min": 0,
            "orientation": "horizontal",
            "style": "IPY_MODEL_fa751a8ba10241c08ecd618df137b3aa",
            "value": 440449768
          }
        },
        "fa751a8ba10241c08ecd618df137b3aa": {
          "model_module": "@jupyter-widgets/controls",
          "model_module_version": "1.5.0",
          "model_name": "ProgressStyleModel",
          "state": {
            "_model_module": "@jupyter-widgets/controls",
            "_model_module_version": "1.5.0",
            "_model_name": "ProgressStyleModel",
            "_view_count": null,
            "_view_module": "@jupyter-widgets/base",
            "_view_module_version": "1.2.0",
            "_view_name": "StyleView",
            "bar_color": null,
            "description_width": ""
          }
        }
      }
    }
  },
  "nbformat": 4,
  "nbformat_minor": 0
}
